{
 "cells": [
  {
   "cell_type": "markdown",
   "metadata": {
    "application/vnd.databricks.v1+cell": {
     "cellMetadata": {},
     "inputWidgets": {},
     "nuid": "0be3b7ad-8b95-4f35-a6f1-9cc3186be200",
     "showTitle": false,
     "title": ""
    }
   },
   "source": [
    "# DF CONCEPTOS PRINCIPALES\n",
    "\n",
    "Los conceptos core son aquellos que nos permiten realizar transformaciones con metodos y funcionalidades"
   ]
  },
  {
   "cell_type": "code",
   "execution_count": 1,
   "metadata": {
    "application/vnd.databricks.v1+cell": {
     "cellMetadata": {},
     "inputWidgets": {},
     "nuid": "caced42b-0db1-4211-b00b-59540acbf753",
     "showTitle": false,
     "title": ""
    }
   },
   "outputs": [
    {
     "name": "stderr",
     "output_type": "stream",
     "text": [
      "Setting default log level to \"WARN\".\n",
      "To adjust logging level use sc.setLogLevel(newLevel). For SparkR, use setLogLevel(newLevel).\n"
     ]
    }
   ],
   "source": [
    "# definir sesión de spark\n",
    "from pyspark.sql import SparkSession\n",
    "\n",
    "spark = SparkSession.builder.appName(\"sesion007\").getOrCreate()"
   ]
  },
  {
   "cell_type": "markdown",
   "metadata": {
    "application/vnd.databricks.v1+cell": {
     "cellMetadata": {},
     "inputWidgets": {},
     "nuid": "0a9995c5-1d9b-4c93-a170-26afa6275502",
     "showTitle": false,
     "title": ""
    }
   },
   "source": [
    "## DF READER\n",
    "\n",
    "DataFrameReader es una API fluida para describir la fuente de datos de entrada que se utilizará para \"cargar\" datos desde una fuente de datos externa (por ejemplo, archivos, tablas, JDBC o Dataset[String])\n",
    "\n",
    "sintaxis:\n",
    "```python\n",
    "spark.read.[options(key, value)].format\n",
    "```\n",
    "references: https://spark.apache.org/docs/latest/api/python/reference/pyspark.sql/api/pyspark.sql.DataFrameReader.html\n",
    "\n"
   ]
  },
  {
   "cell_type": "code",
   "execution_count": 2,
   "metadata": {
    "application/vnd.databricks.v1+cell": {
     "cellMetadata": {
      "byteLimit": 2048000,
      "rowLimit": 10000
     },
     "inputWidgets": {},
     "nuid": "1b179e99-b1ce-4429-9747-2c7cca396a75",
     "showTitle": false,
     "title": ""
    }
   },
   "outputs": [
    {
     "data": {
      "text/html": [
       "<div>\n",
       "<style scoped>\n",
       "    .dataframe tbody tr th:only-of-type {\n",
       "        vertical-align: middle;\n",
       "    }\n",
       "\n",
       "    .dataframe tbody tr th {\n",
       "        vertical-align: top;\n",
       "    }\n",
       "\n",
       "    .dataframe thead th {\n",
       "        text-align: right;\n",
       "    }\n",
       "</style>\n",
       "<table border=\"1\" class=\"dataframe\">\n",
       "  <thead>\n",
       "    <tr style=\"text-align: right;\">\n",
       "      <th></th>\n",
       "      <th>first_name</th>\n",
       "      <th>last_name</th>\n",
       "      <th>email_dependents</th>\n",
       "      <th>age</th>\n",
       "    </tr>\n",
       "  </thead>\n",
       "  <tbody>\n",
       "    <tr>\n",
       "      <th>0</th>\n",
       "      <td>Alvis</td>\n",
       "      <td>Yeoland</td>\n",
       "      <td>cfowellsd@apache.org,Dcastello2l@homestead.com...</td>\n",
       "      <td>33</td>\n",
       "    </tr>\n",
       "    <tr>\n",
       "      <th>1</th>\n",
       "      <td>Finley</td>\n",
       "      <td>Ziemsen</td>\n",
       "      <td>ecloakei@oaic,fhubeauxa@google.com.br,tkemwall...</td>\n",
       "      <td>22</td>\n",
       "    </tr>\n",
       "    <tr>\n",
       "      <th>2</th>\n",
       "      <td>Corie</td>\n",
       "      <td>Snary</td>\n",
       "      <td>cfowellsd@apache.org,kpeggrame@weibo.com,kpegg...</td>\n",
       "      <td>15</td>\n",
       "    </tr>\n",
       "    <tr>\n",
       "      <th>3</th>\n",
       "      <td>Byrann</td>\n",
       "      <td>Kliment</td>\n",
       "      <td>ecloakei@oaic.gov.au, kpeggrame@weibo</td>\n",
       "      <td>11</td>\n",
       "    </tr>\n",
       "    <tr>\n",
       "      <th>4</th>\n",
       "      <td>Artair</td>\n",
       "      <td>Quarless</td>\n",
       "      <td>cfowellsd@apache.org,kpeggrame@weibo.com,aspar...</td>\n",
       "      <td>12</td>\n",
       "    </tr>\n",
       "  </tbody>\n",
       "</table>\n",
       "</div>"
      ],
      "text/plain": [
       "  first_name last_name                                   email_dependents  age\n",
       "0      Alvis   Yeoland  cfowellsd@apache.org,Dcastello2l@homestead.com...   33\n",
       "1     Finley   Ziemsen  ecloakei@oaic,fhubeauxa@google.com.br,tkemwall...   22\n",
       "2      Corie     Snary  cfowellsd@apache.org,kpeggrame@weibo.com,kpegg...   15\n",
       "3     Byrann   Kliment              ecloakei@oaic.gov.au, kpeggrame@weibo   11\n",
       "4     Artair  Quarless  cfowellsd@apache.org,kpeggrame@weibo.com,aspar...   12"
      ]
     },
     "execution_count": 2,
     "metadata": {},
     "output_type": "execute_result"
    }
   ],
   "source": [
    "# lectura desde pandas\n",
    "import pandas as pd\n",
    "\n",
    "pd.read_csv(\n",
    "    \"https://gitlab.com/luisvasv/public/-/raw/master/datasets/004.mock.data/001.dependents.csv\"\n",
    ")"
   ]
  },
  {
   "cell_type": "code",
   "execution_count": 3,
   "metadata": {
    "application/vnd.databricks.v1+cell": {
     "cellMetadata": {
      "byteLimit": 2048000,
      "rowLimit": 10000
     },
     "inputWidgets": {},
     "nuid": "26e0ce29-d2f7-4e67-81af-f8d61dadd498",
     "showTitle": false,
     "title": ""
    }
   },
   "outputs": [
    {
     "name": "stdout",
     "output_type": "stream",
     "text": [
      "file:///tmp/spark-7b936442-bbdc-4a92-84af-3f880c56fcf4/userFiles-677087c3-cb68-49f1-90ff-f1278080e721/001.dependents.csv\n"
     ]
    }
   ],
   "source": [
    "from pyspark import SparkFiles\n",
    "\n",
    "# usando spark\n",
    "\n",
    "# csv referencia: https://spark.apache.org/docs/latest/sql-data-sources-csv.html\n",
    "\n",
    "url: str = \"https://gitlab.com/luisvasv/public/-/raw/master/datasets/004.mock.data/001.dependents.csv\"\n",
    "spark.sparkContext.addFile(url)\n",
    "\n",
    "spark_uri: str = \"file://\" + SparkFiles.get(\"001.dependents.csv\")\n",
    "print(spark_uri)\n",
    "# Nota: para datos almacenados en en file store no son necesario este paso\n",
    "# se lee en sistema distribuido: /\n",
    "# se lee local file: //"
   ]
  },
  {
   "cell_type": "code",
   "execution_count": 4,
   "metadata": {
    "application/vnd.databricks.v1+cell": {
     "cellMetadata": {
      "byteLimit": 2048000,
      "rowLimit": 10000
     },
     "inputWidgets": {},
     "nuid": "a60fa161-96f9-4393-bcf1-b0df917391b8",
     "showTitle": false,
     "title": ""
    }
   },
   "outputs": [
    {
     "name": "stderr",
     "output_type": "stream",
     "text": [
      "                                                                                \r"
     ]
    },
    {
     "data": {
      "text/plain": [
       "DataFrame[first_name: string, last_name: string, email_dependents: string, age: string]"
      ]
     },
     "execution_count": 4,
     "metadata": {},
     "output_type": "execute_result"
    }
   ],
   "source": [
    "# forma 1\n",
    "spark.read.option(\"sep\", \",\").option(\"header\", True).csv(spark_uri)"
   ]
  },
  {
   "cell_type": "code",
   "execution_count": 5,
   "metadata": {
    "application/vnd.databricks.v1+cell": {
     "cellMetadata": {
      "byteLimit": 2048000,
      "rowLimit": 10000
     },
     "inputWidgets": {},
     "nuid": "ccda0ac3-48f1-49dd-99f6-12881020537d",
     "showTitle": false,
     "title": ""
    }
   },
   "outputs": [
    {
     "data": {
      "text/plain": [
       "DataFrame[first_name: string, last_name: string, email_dependents: string, age: string]"
      ]
     },
     "execution_count": 5,
     "metadata": {},
     "output_type": "execute_result"
    }
   ],
   "source": [
    "# forma 2\n",
    "spark.read.csv(spark_uri, header=True, sep=\",\")"
   ]
  },
  {
   "cell_type": "code",
   "execution_count": 6,
   "metadata": {
    "application/vnd.databricks.v1+cell": {
     "cellMetadata": {
      "byteLimit": 2048000,
      "rowLimit": 10000
     },
     "inputWidgets": {},
     "nuid": "0f5ba990-f5d1-44ad-95a4-d506adc1b8f6",
     "showTitle": false,
     "title": ""
    }
   },
   "outputs": [
    {
     "data": {
      "text/plain": [
       "DataFrame[first_name: string, last_name: string, email_dependents: string, age: string]"
      ]
     },
     "execution_count": 6,
     "metadata": {},
     "output_type": "execute_result"
    }
   ],
   "source": [
    "# forma 3\n",
    "spark.read.format(\"csv\").option(\"sep\", \",\").option(\"header\", True).load(spark_uri)"
   ]
  },
  {
   "cell_type": "code",
   "execution_count": 7,
   "metadata": {
    "application/vnd.databricks.v1+cell": {
     "cellMetadata": {
      "byteLimit": 2048000,
      "rowLimit": 10000
     },
     "inputWidgets": {},
     "nuid": "8b92b960-82ef-4b23-91c8-4021a0de2a73",
     "showTitle": false,
     "title": ""
    }
   },
   "outputs": [
    {
     "data": {
      "text/plain": [
       "DataFrame[first_name: string, last_name: string, email_dependents: string, age: int]"
      ]
     },
     "execution_count": 7,
     "metadata": {},
     "output_type": "execute_result"
    }
   ],
   "source": [
    "# configurando esquema forma #1\n",
    "spark.read.option(\"sep\", \",\").option(\"header\", True).option(\"inferSchema\", True).csv(\n",
    "    spark_uri\n",
    ")"
   ]
  },
  {
   "cell_type": "code",
   "execution_count": 8,
   "metadata": {
    "application/vnd.databricks.v1+cell": {
     "cellMetadata": {},
     "inputWidgets": {},
     "nuid": "e0f6753d-bbde-4035-9cc1-b50ee52c6586",
     "showTitle": false,
     "title": ""
    }
   },
   "outputs": [
    {
     "data": {
      "text/plain": [
       "DataFrame[first_name: string, last_name: string, email_dependents: string, age: int]"
      ]
     },
     "execution_count": 8,
     "metadata": {},
     "output_type": "execute_result"
    }
   ],
   "source": [
    "# configurando esquema forma #2\n",
    "from pyspark.sql.types import IntegerType, StringType, StructField, StructType\n",
    "\n",
    "schema = StructType(\n",
    "    [\n",
    "        StructField(\"first_name\", StringType(), True),\n",
    "        StructField(\"last_name\", StringType(), True),\n",
    "        StructField(\"email_dependents\", StringType(), True),\n",
    "        StructField(\"age\", IntegerType(), True),\n",
    "    ]\n",
    ")\n",
    "\n",
    "spark.read.csv(spark_uri, header=True, sep=\",\", schema=schema)"
   ]
  },
  {
   "cell_type": "code",
   "execution_count": 9,
   "metadata": {
    "application/vnd.databricks.v1+cell": {
     "cellMetadata": {
      "byteLimit": 2048000,
      "rowLimit": 10000
     },
     "inputWidgets": {},
     "nuid": "2daf1f3f-07aa-4771-9eca-0b55d6846078",
     "showTitle": false,
     "title": ""
    }
   },
   "outputs": [
    {
     "data": {
      "text/plain": [
       "DataFrame[first_name: string, last_name: string, email_dependents: string, age: int]"
      ]
     },
     "execution_count": 9,
     "metadata": {},
     "output_type": "execute_result"
    }
   ],
   "source": [
    "# configurando esquema forma #3\n",
    "spark.read.schema(schema).format(\"csv\").option(\"sep\", \",\").option(\"header\", True).load(\n",
    "    spark_uri\n",
    ")"
   ]
  },
  {
   "cell_type": "code",
   "execution_count": 11,
   "metadata": {
    "application/vnd.databricks.v1+cell": {
     "cellMetadata": {
      "byteLimit": 2048000,
      "rowLimit": 10000
     },
     "inputWidgets": {},
     "nuid": "96233cfe-d80a-4dc9-93f0-648b42524577",
     "showTitle": false,
     "title": ""
    }
   },
   "outputs": [
    {
     "data": {
      "text/plain": [
       "DataFrame[first_name: string, last_name: string, email_dependents: string, age: int]"
      ]
     },
     "execution_count": 11,
     "metadata": {},
     "output_type": "execute_result"
    }
   ],
   "source": [
    "# configurando esquema forma #4\n",
    "sql_ddl = \"first_name STRING, last_name STRING, email_dependents STRING, age INT\"\n",
    "spark.read.schema(sql_ddl).format(\"csv\").option(\"sep\", \",\").option(\"header\", True).load(\n",
    "    spark_uri\n",
    ")"
   ]
  },
  {
   "cell_type": "markdown",
   "metadata": {
    "application/vnd.databricks.v1+cell": {
     "cellMetadata": {},
     "inputWidgets": {},
     "nuid": "1680e696-5d44-4fb1-a7cc-6beda4c078a8",
     "showTitle": false,
     "title": ""
    }
   },
   "source": [
    "## DF WRITER\n",
    "DataFrameWriter es una API en PySpark que proporciona métodos para escribir datos de un DataFrame en varios formatos de almacenamiento. Permite guardar los datos en sistemas de archivos, bases de datos y otros almacenes de datos compatibles. \n",
    "\n"
   ]
  },
  {
   "cell_type": "code",
   "execution_count": 12,
   "metadata": {
    "application/vnd.databricks.v1+cell": {
     "cellMetadata": {
      "byteLimit": 2048000,
      "rowLimit": 10000
     },
     "inputWidgets": {},
     "nuid": "493f0d15-8702-4514-b728-d5c9fc998fce",
     "showTitle": false,
     "title": ""
    }
   },
   "outputs": [
    {
     "name": "stdout",
     "output_type": "stream",
     "text": [
      "+----------+---------+--------------------+---+\n",
      "|first_name|last_name|    email_dependents|age|\n",
      "+----------+---------+--------------------+---+\n",
      "|     Alvis|  Yeoland|cfowellsd@apache....| 33|\n",
      "|    Finley|  Ziemsen|ecloakei@oaic,fhu...| 22|\n",
      "|     Corie|    Snary|cfowellsd@apache....| 15|\n",
      "|    Byrann|  Kliment|ecloakei@oaic.gov...| 11|\n",
      "|    Artair| Quarless|cfowellsd@apache....| 12|\n",
      "+----------+---------+--------------------+---+\n",
      "\n"
     ]
    }
   ],
   "source": [
    "# datos para evaluar\n",
    "df_from_uri = (\n",
    "    spark.read.schema(sql_ddl)\n",
    "    .format(\"csv\")\n",
    "    .option(\"sep\", \",\")\n",
    "    .option(\"header\", True)\n",
    "    .load(spark_uri)\n",
    ")\n",
    "df_from_uri.show()"
   ]
  },
  {
   "cell_type": "code",
   "execution_count": 13,
   "metadata": {
    "application/vnd.databricks.v1+cell": {
     "cellMetadata": {
      "byteLimit": 2048000,
      "rowLimit": 10000
     },
     "inputWidgets": {},
     "nuid": "63126d50-aa7c-4eaa-8e26-ce7f4e72826e",
     "showTitle": false,
     "title": ""
    }
   },
   "outputs": [],
   "source": [
    "# 1. forma elemental\n",
    "df_from_uri.write.csv(\"file:///tmp/unal.csv\", header=False)"
   ]
  },
  {
   "cell_type": "code",
   "execution_count": 15,
   "metadata": {
    "application/vnd.databricks.v1+cell": {
     "cellMetadata": {
      "byteLimit": 2048000,
      "rowLimit": 10000
     },
     "inputWidgets": {},
     "nuid": "62756f44-6159-4539-81ae-3babf02e4c92",
     "showTitle": false,
     "title": ""
    }
   },
   "outputs": [
    {
     "name": "stdout",
     "output_type": "stream",
     "text": [
      "_SUCCESS  part-00000-9e087565-0990-432d-bf88-45eae526ee1e-c000.csv\n"
     ]
    }
   ],
   "source": [
    "!ls /tmp/unal.csv"
   ]
  },
  {
   "cell_type": "code",
   "execution_count": 16,
   "metadata": {
    "application/vnd.databricks.v1+cell": {
     "cellMetadata": {
      "byteLimit": 2048000,
      "rowLimit": 10000
     },
     "inputWidgets": {},
     "nuid": "2680108b-a2cf-471a-9aa5-7e8681245dac",
     "showTitle": false,
     "title": ""
    }
   },
   "outputs": [
    {
     "name": "stdout",
     "output_type": "stream",
     "text": [
      "Alvis,Yeoland,\"cfowellsd@apache.org,Dcastello2l@homestead.com  ,fziemsen1@themeforest.net  , csnary2@instagram.com  ,    bkliment3@nationalgeographic.com,aquarless4@technorati.com, ggalbraeth5@arizona.edu,rpowton6@instagram.com,adressel7@icq.com,kegginson8@cdbaby.com,Nvears9@ifeng.com\",33\n",
      "Finley,Ziemsen,\"ecloakei@oaic,fhubeauxa@google.com.br,tkemwallb@1und1.de,toldknowc@nymag.com\",22\n",
      "Corie,Snary,\"cfowellsd@apache.org,kpeggrame@weibo.com,kpeggrame@weibo.com,kpeggrame@weibo.com\",15\n",
      "Byrann,Kliment,\"ecloakei@oaic.gov.au, kpeggrame@weibo\",11\n",
      "Artair,Quarless,\"cfowellsd@apache.org,kpeggrame@weibo.com,asparrowef@naver.com,glastg@pcworld.com,lbransbyh@example.com,cfowellsd@apache.org\",12\n"
     ]
    }
   ],
   "source": [
    "!cat /tmp/unal.csv/part-00000-9e087565-0990-432d-bf88-45eae526ee1e-c000.csv"
   ]
  },
  {
   "cell_type": "code",
   "execution_count": 17,
   "metadata": {
    "application/vnd.databricks.v1+cell": {
     "cellMetadata": {
      "byteLimit": 2048000,
      "rowLimit": 10000
     },
     "inputWidgets": {},
     "nuid": "edffac05-14b2-40e7-9364-1898af2e053b",
     "showTitle": false,
     "title": ""
    }
   },
   "outputs": [],
   "source": [
    "# 2. forma básica\n",
    "df_from_uri.write.format(\"csv\").option(\"sep\", \";\").option(\"header\", True).save(\n",
    "    \"file:///tmp/unal2.csv\"\n",
    ")"
   ]
  },
  {
   "cell_type": "code",
   "execution_count": 27,
   "metadata": {},
   "outputs": [
    {
     "data": {
      "text/plain": [
       "DataFrame[]"
      ]
     },
     "execution_count": 27,
     "metadata": {},
     "output_type": "execute_result"
    }
   ],
   "source": [
    "spark.sql(\"CREATE DATABASE IF NOT EXISTS unal;\")"
   ]
  },
  {
   "cell_type": "code",
   "execution_count": 21,
   "metadata": {
    "application/vnd.databricks.v1+cell": {
     "cellMetadata": {
      "byteLimit": 2048000,
      "rowLimit": 10000
     },
     "inputWidgets": {},
     "nuid": "63ddc1fc-5890-450b-b49f-f2a13ec0d2cc",
     "showTitle": false,
     "title": ""
    }
   },
   "outputs": [],
   "source": [
    "# 3. forma para guardar como una tabla\n",
    "# overwrite = Sobrescribe cualquier tabla existente con el mismo nombre. Si la tabla no existe, la crea.\n",
    "# append: Añade datos a la tabla existente. Si la tabla no existe, la crea.\n",
    "modo: str = \"overwrite\"\n",
    "df_from_uri.write.mode(modo).saveAsTable(\"users\")"
   ]
  },
  {
   "cell_type": "code",
   "execution_count": 24,
   "metadata": {
    "application/vnd.databricks.v1+cell": {
     "cellMetadata": {
      "byteLimit": 2048000,
      "implicitDf": true,
      "rowLimit": 10000
     },
     "inputWidgets": {},
     "nuid": "0f934321-e5ec-4f96-b921-3bb5b1097b94",
     "showTitle": false,
     "title": ""
    }
   },
   "outputs": [],
   "source": [
    "# spark.sql(\"\")"
   ]
  },
  {
   "cell_type": "code",
   "execution_count": null,
   "metadata": {
    "application/vnd.databricks.v1+cell": {
     "cellMetadata": {
      "byteLimit": 2048000,
      "implicitDf": true,
      "rowLimit": 10000
     },
     "inputWidgets": {},
     "nuid": "86114163-29a2-463d-90fd-a21b12769062",
     "showTitle": false,
     "title": ""
    }
   },
   "outputs": [],
   "source": [
    "%sql\n",
    "describe unal.users;"
   ]
  },
  {
   "cell_type": "markdown",
   "metadata": {
    "application/vnd.databricks.v1+cell": {
     "cellMetadata": {},
     "inputWidgets": {},
     "nuid": "0b0b9530-86d9-4f14-869d-59f24072c53c",
     "showTitle": false,
     "title": ""
    }
   },
   "source": [
    "## TRANSFORMACIONES CORE\n",
    "\n",
    "as transformaciones de DataFrame en PySpark se refieren a las operaciones que se pueden aplicar a un DataFrame para modificar, filtrar, agregar o manipular los datos de alguna manera. Las transformaciones en PySpark son operaciones lazy, lo que significa que no se ejecutan de inmediato cuando se definen, sino que se aplican de manera acumulativa y se ejecutan solo cuando se llama a una acción que requiere resultados concretos (como `show()`,` count()`, `collect()`, etc.).\n",
    "\n",
    "Las transformaciones tambien pueden verse como:\n",
    "\n",
    "<img \n",
    "     src=\"https://i.postimg.cc/tgJPjJ3s/001-clase.png\" \n",
    "     alt=\"reporte\" \n",
    "     border=\"0\"\n",
    "/>\n",
    "\n",
    "\n",
    "\n",
    "Nota: En la siguiente sección nos centraremos en cargar datos desde una tabla, ya que de ofros formatos fue visto previamente\n"
   ]
  },
  {
   "cell_type": "markdown",
   "metadata": {
    "application/vnd.databricks.v1+cell": {
     "cellMetadata": {},
     "inputWidgets": {},
     "nuid": "0bd1c6af-f239-4df5-a46a-15b2643ff769",
     "showTitle": false,
     "title": ""
    }
   },
   "source": [
    "### CARGAR DESDE UNA BD\n",
    "\n",
    "Se enfoca en esta parte, ya que es uno de los usos mas comunes"
   ]
  },
  {
   "cell_type": "markdown",
   "metadata": {
    "application/vnd.databricks.v1+cell": {
     "cellMetadata": {},
     "inputWidgets": {},
     "nuid": "9ddf4c5d-dca6-40c4-81f7-0d45c1e297f8",
     "showTitle": false,
     "title": ""
    }
   },
   "source": [
    "#### TABLE"
   ]
  },
  {
   "cell_type": "code",
   "execution_count": 29,
   "metadata": {
    "application/vnd.databricks.v1+cell": {
     "cellMetadata": {
      "byteLimit": 2048000,
      "rowLimit": 10000
     },
     "inputWidgets": {},
     "nuid": "883f8220-2233-4ada-99c2-9c7770159da0",
     "showTitle": false,
     "title": ""
    }
   },
   "outputs": [
    {
     "data": {
      "text/plain": [
       "DataFrame[first_name: string, last_name: string, email_dependents: string, age: int]"
      ]
     },
     "execution_count": 29,
     "metadata": {},
     "output_type": "execute_result"
    }
   ],
   "source": [
    "# selecciona la tabla\n",
    "spark.table(\"users\")"
   ]
  },
  {
   "cell_type": "markdown",
   "metadata": {
    "application/vnd.databricks.v1+cell": {
     "cellMetadata": {},
     "inputWidgets": {},
     "nuid": "0c84b5e1-9b8a-4b93-a871-d8c32d4384bc",
     "showTitle": false,
     "title": ""
    }
   },
   "source": [
    "#### READ"
   ]
  },
  {
   "cell_type": "code",
   "execution_count": 30,
   "metadata": {
    "application/vnd.databricks.v1+cell": {
     "cellMetadata": {
      "byteLimit": 2048000,
      "rowLimit": 10000
     },
     "inputWidgets": {},
     "nuid": "da5dc24b-3c4a-4164-8f5b-04172f6b7986",
     "showTitle": false,
     "title": ""
    }
   },
   "outputs": [
    {
     "data": {
      "text/plain": [
       "DataFrame[first_name: string, last_name: string, email_dependents: string, age: int]"
      ]
     },
     "execution_count": 30,
     "metadata": {},
     "output_type": "execute_result"
    }
   ],
   "source": [
    "spark.read.table(\"users\")"
   ]
  },
  {
   "cell_type": "markdown",
   "metadata": {
    "application/vnd.databricks.v1+cell": {
     "cellMetadata": {},
     "inputWidgets": {},
     "nuid": "d19acdd9-f92c-408b-babf-e9e0aa9295c4",
     "showTitle": false,
     "title": ""
    }
   },
   "source": [
    "#### SQL"
   ]
  },
  {
   "cell_type": "code",
   "execution_count": 31,
   "metadata": {
    "application/vnd.databricks.v1+cell": {
     "cellMetadata": {
      "byteLimit": 2048000,
      "rowLimit": 10000
     },
     "inputWidgets": {},
     "nuid": "70597b4d-2f2a-4974-ac82-429653ba66eb",
     "showTitle": false,
     "title": ""
    }
   },
   "outputs": [
    {
     "data": {
      "text/plain": [
       "DataFrame[first_name: string, last_name: string, email_dependents: string, age: int]"
      ]
     },
     "execution_count": 31,
     "metadata": {},
     "output_type": "execute_result"
    }
   ],
   "source": [
    "spark.sql(\"SELECT * FROM users\")"
   ]
  },
  {
   "cell_type": "markdown",
   "metadata": {
    "application/vnd.databricks.v1+cell": {
     "cellMetadata": {},
     "inputWidgets": {},
     "nuid": "d7a64ffa-ae7e-4e47-b173-97f306de752c",
     "showTitle": false,
     "title": ""
    }
   },
   "source": [
    "### SELECCIONAR DATOS"
   ]
  },
  {
   "cell_type": "markdown",
   "metadata": {
    "application/vnd.databricks.v1+cell": {
     "cellMetadata": {},
     "inputWidgets": {},
     "nuid": "87fd86c4-f654-493b-ada5-d1ed7a329362",
     "showTitle": false,
     "title": ""
    }
   },
   "source": [
    "#### TABLE"
   ]
  },
  {
   "cell_type": "code",
   "execution_count": 33,
   "metadata": {
    "application/vnd.databricks.v1+cell": {
     "cellMetadata": {
      "byteLimit": 2048000,
      "rowLimit": 10000
     },
     "inputWidgets": {},
     "nuid": "4ddf7d1f-72c1-4e1d-9d97-94fa853c76ee",
     "showTitle": false,
     "title": ""
    }
   },
   "outputs": [],
   "source": [
    "# cargamos la tabla de usuarios\n",
    "\n",
    "df = spark.table(\"users\")"
   ]
  },
  {
   "cell_type": "markdown",
   "metadata": {
    "application/vnd.databricks.v1+cell": {
     "cellMetadata": {},
     "inputWidgets": {},
     "nuid": "c1d76d7a-cb2f-4950-b37d-60037d22e966",
     "showTitle": false,
     "title": ""
    }
   },
   "source": [
    "#### SELECT"
   ]
  },
  {
   "cell_type": "code",
   "execution_count": 34,
   "metadata": {
    "application/vnd.databricks.v1+cell": {
     "cellMetadata": {
      "byteLimit": 2048000,
      "rowLimit": 10000
     },
     "inputWidgets": {},
     "nuid": "e26a6e9f-fc09-4f4b-8161-73c809686238",
     "showTitle": false,
     "title": ""
    }
   },
   "outputs": [
    {
     "name": "stdout",
     "output_type": "stream",
     "text": [
      "+----------+---+\n",
      "|first_name|age|\n",
      "+----------+---+\n",
      "|     Alvis| 33|\n",
      "|    Finley| 22|\n",
      "|     Corie| 15|\n",
      "|    Byrann| 11|\n",
      "|    Artair| 12|\n",
      "+----------+---+\n",
      "\n"
     ]
    }
   ],
   "source": [
    "# forma\n",
    "df.select(\"first_name\", \"age\").show()"
   ]
  },
  {
   "cell_type": "markdown",
   "metadata": {
    "application/vnd.databricks.v1+cell": {
     "cellMetadata": {},
     "inputWidgets": {},
     "nuid": "4f9f825e-d8fd-4ad8-b29c-ffc89ae0e07e",
     "showTitle": false,
     "title": ""
    }
   },
   "source": [
    "#### TIPO PANDAS"
   ]
  },
  {
   "cell_type": "code",
   "execution_count": 35,
   "metadata": {
    "application/vnd.databricks.v1+cell": {
     "cellMetadata": {
      "byteLimit": 2048000,
      "rowLimit": 10000
     },
     "inputWidgets": {},
     "nuid": "6ddd9913-d3eb-4588-8a84-6b65bd54ab13",
     "showTitle": false,
     "title": ""
    }
   },
   "outputs": [
    {
     "name": "stdout",
     "output_type": "stream",
     "text": [
      "+----------+---+\n",
      "|first_name|age|\n",
      "+----------+---+\n",
      "|     Alvis| 33|\n",
      "|    Finley| 22|\n",
      "|     Corie| 15|\n",
      "|    Byrann| 11|\n",
      "|    Artair| 12|\n",
      "+----------+---+\n",
      "\n"
     ]
    }
   ],
   "source": [
    "df[[\"first_name\", \"age\"]].show()"
   ]
  },
  {
   "cell_type": "markdown",
   "metadata": {
    "application/vnd.databricks.v1+cell": {
     "cellMetadata": {},
     "inputWidgets": {},
     "nuid": "ce20c3db-5b84-457c-9662-51ebaadb4b15",
     "showTitle": false,
     "title": ""
    }
   },
   "source": [
    "#### TIPO ATRIBUTO"
   ]
  },
  {
   "cell_type": "code",
   "execution_count": 36,
   "metadata": {
    "application/vnd.databricks.v1+cell": {
     "cellMetadata": {
      "byteLimit": 2048000,
      "rowLimit": 10000
     },
     "inputWidgets": {},
     "nuid": "c833ec79-5774-4612-9345-f5e4adb21957",
     "showTitle": false,
     "title": ""
    }
   },
   "outputs": [
    {
     "name": "stdout",
     "output_type": "stream",
     "text": [
      "+----------+---+\n",
      "|first_name|age|\n",
      "+----------+---+\n",
      "|     Alvis| 33|\n",
      "|    Finley| 22|\n",
      "|     Corie| 15|\n",
      "|    Byrann| 11|\n",
      "|    Artair| 12|\n",
      "+----------+---+\n",
      "\n"
     ]
    }
   ],
   "source": [
    "df.select(df.first_name, df.age).show()"
   ]
  },
  {
   "cell_type": "markdown",
   "metadata": {},
   "source": [
    "### SELECT EXP"
   ]
  },
  {
   "cell_type": "code",
   "execution_count": 40,
   "metadata": {},
   "outputs": [
    {
     "name": "stdout",
     "output_type": "stream",
     "text": [
      "+----------+---+---+\n",
      "|first_name|age|  a|\n",
      "+----------+---+---+\n",
      "|     Alvis| 33| 33|\n",
      "|    Finley| 22| 22|\n",
      "|     Corie| 15| 15|\n",
      "|    Byrann| 11| 11|\n",
      "|    Artair| 12| 12|\n",
      "+----------+---+---+\n",
      "\n"
     ]
    }
   ],
   "source": [
    "df.selectExpr(\"first_name\", \"age\", \"age as a\").show()"
   ]
  },
  {
   "cell_type": "markdown",
   "metadata": {
    "application/vnd.databricks.v1+cell": {
     "cellMetadata": {},
     "inputWidgets": {},
     "nuid": "a7a7d297-6d2c-46d6-a1ff-c6fbeb1ef34f",
     "showTitle": false,
     "title": ""
    }
   },
   "source": [
    "#### COL\n",
    "\n",
    "se usa principalmente para:\n",
    "\n",
    "- seleccionar\n",
    "- alias\n",
    "- crear nuevas columnas\n",
    "- castear datos\n",
    "- filtrado de datos"
   ]
  },
  {
   "cell_type": "code",
   "execution_count": 41,
   "metadata": {
    "application/vnd.databricks.v1+cell": {
     "cellMetadata": {
      "byteLimit": 2048000,
      "rowLimit": 10000
     },
     "inputWidgets": {},
     "nuid": "b26b3e22-0a34-4351-a875-8ff438c94cb1",
     "showTitle": false,
     "title": ""
    }
   },
   "outputs": [],
   "source": [
    "from pyspark.sql.functions import col"
   ]
  },
  {
   "cell_type": "code",
   "execution_count": 42,
   "metadata": {
    "application/vnd.databricks.v1+cell": {
     "cellMetadata": {
      "byteLimit": 2048000,
      "rowLimit": 10000
     },
     "inputWidgets": {},
     "nuid": "19ae9d52-481a-42aa-a491-5a981fa67e3c",
     "showTitle": false,
     "title": ""
    }
   },
   "outputs": [
    {
     "name": "stdout",
     "output_type": "stream",
     "text": [
      "+----------+---+\n",
      "|first_name|age|\n",
      "+----------+---+\n",
      "|     Alvis| 33|\n",
      "|    Finley| 22|\n",
      "|     Corie| 15|\n",
      "|    Byrann| 11|\n",
      "|    Artair| 12|\n",
      "+----------+---+\n",
      "\n"
     ]
    }
   ],
   "source": [
    "df.select(col(\"first_name\"), col(\"age\")).show()"
   ]
  },
  {
   "cell_type": "markdown",
   "metadata": {
    "application/vnd.databricks.v1+cell": {
     "cellMetadata": {},
     "inputWidgets": {},
     "nuid": "fbc16a44-6adf-4a84-a36c-cfc475b17e52",
     "showTitle": false,
     "title": ""
    }
   },
   "source": [
    "#### ALIAS"
   ]
  },
  {
   "cell_type": "code",
   "execution_count": 43,
   "metadata": {
    "application/vnd.databricks.v1+cell": {
     "cellMetadata": {
      "byteLimit": 2048000,
      "rowLimit": 10000
     },
     "inputWidgets": {},
     "nuid": "41c233ae-8beb-42e3-b43a-e3dd83aaa49f",
     "showTitle": false,
     "title": ""
    }
   },
   "outputs": [
    {
     "name": "stdout",
     "output_type": "stream",
     "text": [
      "+--------------+---+\n",
      "|user_full_name|age|\n",
      "+--------------+---+\n",
      "|         Alvis| 33|\n",
      "|        Finley| 22|\n",
      "|         Corie| 15|\n",
      "|        Byrann| 11|\n",
      "|        Artair| 12|\n",
      "+--------------+---+\n",
      "\n"
     ]
    }
   ],
   "source": [
    "df.select(col(\"first_name\").alias(\"user_full_name\"), col(\"age\")).show()"
   ]
  },
  {
   "cell_type": "markdown",
   "metadata": {
    "application/vnd.databricks.v1+cell": {
     "cellMetadata": {},
     "inputWidgets": {},
     "nuid": "5c399f63-20c6-4588-b4a1-16ece7cc4a7e",
     "showTitle": false,
     "title": ""
    }
   },
   "source": [
    "#### CAST"
   ]
  },
  {
   "cell_type": "code",
   "execution_count": 44,
   "metadata": {
    "application/vnd.databricks.v1+cell": {
     "cellMetadata": {
      "byteLimit": 2048000,
      "rowLimit": 10000
     },
     "inputWidgets": {},
     "nuid": "ff57025a-7d1e-42d2-a45e-2a62aff19642",
     "showTitle": false,
     "title": ""
    }
   },
   "outputs": [
    {
     "name": "stdout",
     "output_type": "stream",
     "text": [
      "root\n",
      " |-- user_full_name: string (nullable = true)\n",
      " |-- older: float (nullable = true)\n",
      "\n"
     ]
    }
   ],
   "source": [
    "df.select(\n",
    "    col(\"first_name\").alias(\"user_full_name\"), col(\"age\").cast(\"float\").alias(\"older\")\n",
    ").printSchema()"
   ]
  },
  {
   "cell_type": "markdown",
   "metadata": {
    "application/vnd.databricks.v1+cell": {
     "cellMetadata": {},
     "inputWidgets": {},
     "nuid": "5c291006-24df-4e18-956c-67881fdd1cb1",
     "showTitle": false,
     "title": ""
    }
   },
   "source": [
    "### FILTRANDO DATOS"
   ]
  },
  {
   "cell_type": "code",
   "execution_count": 46,
   "metadata": {},
   "outputs": [
    {
     "name": "stdout",
     "output_type": "stream",
     "text": [
      "+----------+---------+--------------------+---+\n",
      "|first_name|last_name|    email_dependents|age|\n",
      "+----------+---------+--------------------+---+\n",
      "|     Alvis|  Yeoland|cfowellsd@apache....| 33|\n",
      "|    Finley|  Ziemsen|ecloakei@oaic,fhu...| 22|\n",
      "|     Corie|    Snary|cfowellsd@apache....| 15|\n",
      "|    Byrann|  Kliment|ecloakei@oaic.gov...| 11|\n",
      "|    Artair| Quarless|cfowellsd@apache....| 12|\n",
      "+----------+---------+--------------------+---+\n",
      "\n"
     ]
    }
   ],
   "source": [
    "df.show()"
   ]
  },
  {
   "cell_type": "markdown",
   "metadata": {
    "application/vnd.databricks.v1+cell": {
     "cellMetadata": {},
     "inputWidgets": {},
     "nuid": "7ba4efc5-684f-49c7-affd-f30cbf474869",
     "showTitle": false,
     "title": ""
    }
   },
   "source": [
    "#### WHERE"
   ]
  },
  {
   "cell_type": "code",
   "execution_count": 45,
   "metadata": {
    "application/vnd.databricks.v1+cell": {
     "cellMetadata": {
      "byteLimit": 2048000,
      "rowLimit": 10000
     },
     "inputWidgets": {},
     "nuid": "6cd2b304-9a79-4f3e-8972-bd27c336a1d7",
     "showTitle": false,
     "title": ""
    }
   },
   "outputs": [
    {
     "name": "stdout",
     "output_type": "stream",
     "text": [
      "+----------+---------+--------------------+---+\n",
      "|first_name|last_name|    email_dependents|age|\n",
      "+----------+---------+--------------------+---+\n",
      "|     Alvis|  Yeoland|cfowellsd@apache....| 33|\n",
      "|    Finley|  Ziemsen|ecloakei@oaic,fhu...| 22|\n",
      "|     Corie|    Snary|cfowellsd@apache....| 15|\n",
      "+----------+---------+--------------------+---+\n",
      "\n"
     ]
    }
   ],
   "source": [
    "df.where(col(\"age\") > 12).show()"
   ]
  },
  {
   "cell_type": "markdown",
   "metadata": {
    "application/vnd.databricks.v1+cell": {
     "cellMetadata": {},
     "inputWidgets": {},
     "nuid": "73dc03cd-ef85-4ab1-a54b-e74d671df9ed",
     "showTitle": false,
     "title": ""
    }
   },
   "source": [
    "#### FILTER SIMPLE"
   ]
  },
  {
   "cell_type": "code",
   "execution_count": 47,
   "metadata": {
    "application/vnd.databricks.v1+cell": {
     "cellMetadata": {
      "byteLimit": 2048000,
      "rowLimit": 10000
     },
     "inputWidgets": {},
     "nuid": "e3c3056e-31e1-478c-b0a4-939e1d765d84",
     "showTitle": false,
     "title": ""
    }
   },
   "outputs": [
    {
     "name": "stdout",
     "output_type": "stream",
     "text": [
      "+----------+---------+--------------------+---+\n",
      "|first_name|last_name|    email_dependents|age|\n",
      "+----------+---------+--------------------+---+\n",
      "|     Alvis|  Yeoland|cfowellsd@apache....| 33|\n",
      "|    Finley|  Ziemsen|ecloakei@oaic,fhu...| 22|\n",
      "|     Corie|    Snary|cfowellsd@apache....| 15|\n",
      "+----------+---------+--------------------+---+\n",
      "\n"
     ]
    }
   ],
   "source": [
    "df.filter(col(\"age\") > 12).show()"
   ]
  },
  {
   "cell_type": "markdown",
   "metadata": {
    "application/vnd.databricks.v1+cell": {
     "cellMetadata": {},
     "inputWidgets": {},
     "nuid": "154ecc64-0860-442e-b357-905bf44e563d",
     "showTitle": false,
     "title": ""
    }
   },
   "source": [
    "#### FILTER MULTIPLE (IGUAL PARA WHERE)\n",
    "\n",
    "En PySpark, los filtros se aplican a DataFrames para seleccionar filas que cumplan ciertas condiciones. Para construir filtros más complejos, se utilizan operadores lógicos como `AND`, `OR` y `NOT`. Estos operadores permiten combinar expresiones booleanas para especificar criterios de filtrado más detallados.\n",
    "\n",
    "Nota: al tener condiciones multiples, cada una se debe almacenar en `()`"
   ]
  },
  {
   "cell_type": "markdown",
   "metadata": {
    "application/vnd.databricks.v1+cell": {
     "cellMetadata": {},
     "inputWidgets": {},
     "nuid": "26f8f35e-ef72-441a-9c4a-ee983d58b152",
     "showTitle": false,
     "title": ""
    }
   },
   "source": [
    "##### AND (&)"
   ]
  },
  {
   "cell_type": "code",
   "execution_count": 48,
   "metadata": {
    "application/vnd.databricks.v1+cell": {
     "cellMetadata": {
      "byteLimit": 2048000,
      "rowLimit": 10000
     },
     "inputWidgets": {},
     "nuid": "bda81ab7-a8eb-4d59-9f28-9209914bf20f",
     "showTitle": false,
     "title": ""
    }
   },
   "outputs": [
    {
     "name": "stdout",
     "output_type": "stream",
     "text": [
      "+----------+---------+--------------------+---+\n",
      "|first_name|last_name|    email_dependents|age|\n",
      "+----------+---------+--------------------+---+\n",
      "|     Alvis|  Yeoland|cfowellsd@apache....| 33|\n",
      "+----------+---------+--------------------+---+\n",
      "\n"
     ]
    }
   ],
   "source": [
    "df.where((col(\"age\") > 15) & (col(\"first_name\") == \"Alvis\")).show()"
   ]
  },
  {
   "cell_type": "markdown",
   "metadata": {
    "application/vnd.databricks.v1+cell": {
     "cellMetadata": {},
     "inputWidgets": {},
     "nuid": "b04b840f-b9d6-4a84-ab8c-ef40d0a4576a",
     "showTitle": false,
     "title": ""
    }
   },
   "source": [
    "\n",
    "##### OR (|)"
   ]
  },
  {
   "cell_type": "code",
   "execution_count": 49,
   "metadata": {
    "application/vnd.databricks.v1+cell": {
     "cellMetadata": {
      "byteLimit": 2048000,
      "rowLimit": 10000
     },
     "inputWidgets": {},
     "nuid": "d798f5e1-47f7-4ddc-9762-7a1c87bc541a",
     "showTitle": false,
     "title": ""
    }
   },
   "outputs": [
    {
     "name": "stdout",
     "output_type": "stream",
     "text": [
      "+----------+---------+--------------------+---+\n",
      "|first_name|last_name|    email_dependents|age|\n",
      "+----------+---------+--------------------+---+\n",
      "|     Alvis|  Yeoland|cfowellsd@apache....| 33|\n",
      "|    Finley|  Ziemsen|ecloakei@oaic,fhu...| 22|\n",
      "+----------+---------+--------------------+---+\n",
      "\n"
     ]
    }
   ],
   "source": [
    "df.where((col(\"age\") > 15) | (col(\"first_name\") == \"Alvis\")).show()"
   ]
  },
  {
   "cell_type": "markdown",
   "metadata": {
    "application/vnd.databricks.v1+cell": {
     "cellMetadata": {},
     "inputWidgets": {},
     "nuid": "b93258ba-fe50-4813-85fc-2441dc9c9a3f",
     "showTitle": false,
     "title": ""
    }
   },
   "source": [
    "##### NOT(~)\n",
    "\n"
   ]
  },
  {
   "cell_type": "code",
   "execution_count": 50,
   "metadata": {
    "application/vnd.databricks.v1+cell": {
     "cellMetadata": {
      "byteLimit": 2048000,
      "rowLimit": 10000
     },
     "inputWidgets": {},
     "nuid": "1b8d1e2a-36d4-4fe8-ae79-92742fda984e",
     "showTitle": false,
     "title": ""
    }
   },
   "outputs": [
    {
     "name": "stdout",
     "output_type": "stream",
     "text": [
      "+----------+---------+--------------------+---+\n",
      "|first_name|last_name|    email_dependents|age|\n",
      "+----------+---------+--------------------+---+\n",
      "|     Corie|    Snary|cfowellsd@apache....| 15|\n",
      "|    Byrann|  Kliment|ecloakei@oaic.gov...| 11|\n",
      "|    Artair| Quarless|cfowellsd@apache....| 12|\n",
      "+----------+---------+--------------------+---+\n",
      "\n"
     ]
    }
   ],
   "source": [
    "df.filter(~(col(\"age\") > 20)).show()"
   ]
  },
  {
   "cell_type": "markdown",
   "metadata": {
    "application/vnd.databricks.v1+cell": {
     "cellMetadata": {},
     "inputWidgets": {},
     "nuid": "4f35d467-8d67-4bf7-9a85-d66f52950abb",
     "showTitle": false,
     "title": ""
    }
   },
   "source": [
    "### AGRUPANDO DATOS"
   ]
  },
  {
   "cell_type": "code",
   "execution_count": 51,
   "metadata": {
    "application/vnd.databricks.v1+cell": {
     "cellMetadata": {
      "byteLimit": 2048000,
      "rowLimit": 10000
     },
     "inputWidgets": {},
     "nuid": "ac035728-e566-438b-b8be-d86d88fff1a5",
     "showTitle": false,
     "title": ""
    }
   },
   "outputs": [],
   "source": [
    "from pyspark.sql.functions import avg, count, max, min, sum\n",
    "\n",
    "data = [\n",
    "    (\"producto_A\", 10, 100),\n",
    "    (\"Producto_B\", 5, 80),\n",
    "    (\"producto_A\", 7, 120),\n",
    "    (\"Producto_B\", 3, 90),\n",
    "    (\"producto_A\", 15, 110),\n",
    "]\n",
    "columns = [\"producto\", \"cantidad\", \"precio\"]\n",
    "dfg = spark.createDataFrame(data, columns)"
   ]
  },
  {
   "cell_type": "code",
   "execution_count": 52,
   "metadata": {
    "application/vnd.databricks.v1+cell": {
     "cellMetadata": {
      "byteLimit": 2048000,
      "rowLimit": 10000
     },
     "inputWidgets": {},
     "nuid": "e63c8f43-b518-4f05-9e13-89123ce19129",
     "showTitle": false,
     "title": ""
    }
   },
   "outputs": [
    {
     "name": "stderr",
     "output_type": "stream",
     "text": [
      "                                                                                \r"
     ]
    },
    {
     "name": "stdout",
     "output_type": "stream",
     "text": [
      "+----------+--------------+------------+\n",
      "|  producto|cantidad_total|pretio_total|\n",
      "+----------+--------------+------------+\n",
      "|producto_A|            32|         330|\n",
      "|Producto_B|             8|         170|\n",
      "+----------+--------------+------------+\n",
      "\n"
     ]
    }
   ],
   "source": [
    "dfg.groupBy(\"producto\").agg(\n",
    "    sum(\"cantidad\").alias(\"cantidad_total\"), sum(\"precio\").alias(\"pretio_total\")\n",
    ").show()"
   ]
  },
  {
   "cell_type": "code",
   "execution_count": 53,
   "metadata": {
    "application/vnd.databricks.v1+cell": {
     "cellMetadata": {
      "byteLimit": 2048000,
      "rowLimit": 10000
     },
     "inputWidgets": {},
     "nuid": "a6d9dfdc-772e-44aa-9cc6-762803bb0ec1",
     "showTitle": false,
     "title": ""
    }
   },
   "outputs": [
    {
     "name": "stdout",
     "output_type": "stream",
     "text": [
      "+----------+--------------+---------------+---------------+-------------+------------+\n",
      "|  producto|cantidad_total|precio_promedio|precio_promedio|precio_maximo|total_ventas|\n",
      "+----------+--------------+---------------+---------------+-------------+------------+\n",
      "|producto_A|            32|          110.0|            100|          120|           3|\n",
      "|Producto_B|             8|           85.0|             80|           90|           2|\n",
      "+----------+--------------+---------------+---------------+-------------+------------+\n",
      "\n"
     ]
    }
   ],
   "source": [
    "# analisis por producto\n",
    "dfg.groupBy(\"producto\").agg(\n",
    "    sum(\"cantidad\").alias(\"cantidad_total\"),\n",
    "    avg(\"precio\").alias(\"precio_promedio\"),\n",
    "    min(\"precio\").alias(\"precio_promedio\"),\n",
    "    max(\"precio\").alias(\"precio_maximo\"),\n",
    "    count(\"producto\").alias(\"total_ventas\"),\n",
    ").show()"
   ]
  },
  {
   "cell_type": "markdown",
   "metadata": {
    "application/vnd.databricks.v1+cell": {
     "cellMetadata": {},
     "inputWidgets": {},
     "nuid": "6ad3a722-7b50-40f7-bf38-d3ba01da2e29",
     "showTitle": false,
     "title": ""
    }
   },
   "source": [
    "### TRANSFORMACIONES DE DATOS\n",
    "\n",
    "## Funciones de Agregación\n",
    "- `avg(column)`: Calcula el promedio de los valores de una columna.\n",
    "- `count(column)`: Cuenta el número de valores en una columna.\n",
    "- `max(column)`: Encuentra el valor máximo en una columna.\n",
    "- `min(column)`: Encuentra el valor mínimo en una columna.\n",
    "- `sum(column)`: Suma los valores de una columna.\n",
    "\n",
    "## Funciones de Cadena\n",
    "- `concat(*cols)`: Concatena varias columnas en una sola columna de cadena.\n",
    "- `lower(column)`: Convierte los valores de una columna a minúsculas.\n",
    "- `upper(column)`: Convierte los valores de una columna a mayúsculas.\n",
    "- `substr(column, start, length)`: Extrae una subcadena de una columna de cadena.\n",
    "- `length(column)`: Devuelve la longitud de la cadena en una columna.\n",
    "\n",
    "## Funciones de Fecha y Hora\n",
    "- `current_date()`: Devuelve la fecha actual.\n",
    "- `current_timestamp()`: Devuelve la marca de tiempo actual.\n",
    "- `datediff(end, start)`: Calcula la diferencia en días entre dos fechas.\n",
    "- `date_add(start, days)`: Suma un número específico de días a una fecha.\n",
    "- `date_sub(start, days)`: Resta un número específico de días a una fecha.\n",
    "- `year(column)`: Extrae el año de una fecha.\n",
    "- `month(column)`: Extrae el mes de una fecha.\n",
    "- `dayofmonth(column)`: Extrae el día del mes de una fecha.\n",
    "\n",
    "## Funciones Matemáticas\n",
    "- `abs(column)`: Devuelve el valor absoluto de una columna.\n",
    "- `round(column, scale)`: Redondea los valores de una columna a un número específico de decimales.\n",
    "- `sqrt(column)`: Calcula la raíz cuadrada de los valores de una columna.\n",
    "- `pow(column, exp)`: Calcula la potencia de los valores de una columna.\n",
    "\n",
    "## Funciones Condicionales\n",
    "- `when(condition, value)`: Devuelve un valor cuando la condición es verdadera.\n",
    "- `otherwise(value)`: Especifica un valor alternativo cuando la condición es falsa (usado junto con `when`).\n",
    "\n",
    "## Funciones de Ventana\n",
    "- `row_number()`: Asigna un número de fila secuencial a cada fila dentro de una partición de un DataFrame.\n",
    "- `rank()`: Asigna un rango a cada fila dentro de una partición de un DataFrame.\n",
    "\n",
    "## Funciones de Orden Superior\n",
    "- `array(*cols)`: Crea una columna de tipo array.\n",
    "- `explode(column)`: Expande una columna de tipo array en filas individuales.\n",
    "- `map_keys(column)`: Devuelve una columna de tipo array de las claves de un mapa.\n",
    "- `map_values(column)`: Devuelve una columna de tipo array de los valores de un mapa.\n"
   ]
  },
  {
   "cell_type": "code",
   "execution_count": 54,
   "metadata": {
    "application/vnd.databricks.v1+cell": {
     "cellMetadata": {
      "byteLimit": 2048000,
      "rowLimit": 10000
     },
     "inputWidgets": {},
     "nuid": "b1d1f82f-3895-4478-baa0-a286b4ee5ddc",
     "showTitle": false,
     "title": ""
    }
   },
   "outputs": [],
   "source": [
    "dft = dfg.groupBy(\"producto\").agg(\n",
    "    sum(\"cantidad\").alias(\"cantidad_total\"),\n",
    "    avg(\"precio\").alias(\"precio_promedio\"),\n",
    "    min(\"precio\").alias(\"precio_promedio\"),\n",
    "    max(\"precio\").alias(\"precio_maximo\"),\n",
    "    count(\"producto\").alias(\"total_ventas\"),\n",
    ")"
   ]
  },
  {
   "cell_type": "markdown",
   "metadata": {
    "application/vnd.databricks.v1+cell": {
     "cellMetadata": {},
     "inputWidgets": {},
     "nuid": "9e980818-6f73-4fdb-829e-a56d234d2990",
     "showTitle": false,
     "title": ""
    }
   },
   "source": [
    "#### CREAR NUEVA COLUMNA"
   ]
  },
  {
   "cell_type": "code",
   "execution_count": 55,
   "metadata": {
    "application/vnd.databricks.v1+cell": {
     "cellMetadata": {
      "byteLimit": 2048000,
      "rowLimit": 10000
     },
     "inputWidgets": {},
     "nuid": "55ec280b-f521-4dec-8e7c-0846ec69ea92",
     "showTitle": false,
     "title": ""
    }
   },
   "outputs": [],
   "source": [
    "from pyspark.sql.functions import col, explode, lit, split"
   ]
  },
  {
   "cell_type": "code",
   "execution_count": 85,
   "metadata": {
    "application/vnd.databricks.v1+cell": {
     "cellMetadata": {
      "byteLimit": 2048000,
      "rowLimit": 10000
     },
     "inputWidgets": {},
     "nuid": "ef1d1fcd-8b52-455d-bb20-bb6267f2ce5c",
     "showTitle": false,
     "title": ""
    }
   },
   "outputs": [
    {
     "name": "stdout",
     "output_type": "stream",
     "text": [
      "+----------+--------------+---------------+---------------+-------------+------------+---+\n",
      "|  producto|cantidad_total|precio_promedio|precio_promedio|precio_maximo|total_ventas|xxx|\n",
      "+----------+--------------+---------------+---------------+-------------+------------+---+\n",
      "|producto_A|            32|          110.0|            100|          120|           3|ABC|\n",
      "|Producto_B|             8|           85.0|             80|           90|           2|ABC|\n",
      "+----------+--------------+---------------+---------------+-------------+------------+---+\n",
      "\n"
     ]
    }
   ],
   "source": [
    "# valor harcodeado , usamos lit\n",
    "# en pandas era df[\"nombre\"] =  valor\n",
    "dft.withColumn(\"xxx\", lit(\"ABC\")).show()"
   ]
  },
  {
   "cell_type": "code",
   "execution_count": 57,
   "metadata": {
    "application/vnd.databricks.v1+cell": {
     "cellMetadata": {
      "byteLimit": 2048000,
      "rowLimit": 10000
     },
     "inputWidgets": {},
     "nuid": "c40fd0b3-3f57-4d54-b758-1c8f3e4cb6de",
     "showTitle": false,
     "title": ""
    }
   },
   "outputs": [
    {
     "name": "stdout",
     "output_type": "stream",
     "text": [
      "+----------+--------------+---------------+---------------+-------------+------------+----+\n",
      "|  producto|cantidad_total|precio_promedio|precio_promedio|precio_maximo|total_ventas| xxx|\n",
      "+----------+--------------+---------------+---------------+-------------+------------+----+\n",
      "|producto_A|            32|          110.0|            100|          120|           3|16.0|\n",
      "|Producto_B|             8|           85.0|             80|           90|           2| 4.0|\n",
      "+----------+--------------+---------------+---------------+-------------+------------+----+\n",
      "\n"
     ]
    }
   ],
   "source": [
    "# valor computado\n",
    "dft.withColumn(\"xxx\", col(\"cantidad_total\") / 2).show()"
   ]
  },
  {
   "cell_type": "markdown",
   "metadata": {
    "application/vnd.databricks.v1+cell": {
     "cellMetadata": {},
     "inputWidgets": {},
     "nuid": "f63a1f77-e3b0-4330-9242-e71c67a4409d",
     "showTitle": false,
     "title": ""
    }
   },
   "source": [
    "#### RENOMBRAR COLUMNA"
   ]
  },
  {
   "cell_type": "code",
   "execution_count": 86,
   "metadata": {
    "application/vnd.databricks.v1+cell": {
     "cellMetadata": {
      "byteLimit": 2048000,
      "rowLimit": 10000
     },
     "inputWidgets": {},
     "nuid": "c354f461-6515-47b2-87bd-a614a79e5cde",
     "showTitle": false,
     "title": ""
    }
   },
   "outputs": [
    {
     "name": "stdout",
     "output_type": "stream",
     "text": [
      "+----------+--------------+---------------+---------------+-------------+------------+---------+\n",
      "|  producto|cantidad_total|precio_promedio|precio_promedio|precio_maximo|total_ventas|my_column|\n",
      "+----------+--------------+---------------+---------------+-------------+------------+---------+\n",
      "|producto_A|            32|          110.0|            100|          120|           3|     16.0|\n",
      "|Producto_B|             8|           85.0|             80|           90|           2|      4.0|\n",
      "+----------+--------------+---------------+---------------+-------------+------------+---------+\n",
      "\n"
     ]
    }
   ],
   "source": [
    "dft.withColumn(\"xxx\", col(\"cantidad_total\") / 2).withColumnRenamed(\n",
    "    \"xxx\", \"my_column\"\n",
    ").show()"
   ]
  },
  {
   "cell_type": "markdown",
   "metadata": {
    "application/vnd.databricks.v1+cell": {
     "cellMetadata": {},
     "inputWidgets": {},
     "nuid": "17ffb677-7cc2-4b19-957c-3554061f807b",
     "showTitle": false,
     "title": ""
    }
   },
   "source": [
    "\n",
    "#### ELIMINAR COLUMNA"
   ]
  },
  {
   "cell_type": "code",
   "execution_count": 64,
   "metadata": {
    "application/vnd.databricks.v1+cell": {
     "cellMetadata": {
      "byteLimit": 2048000,
      "rowLimit": 10000
     },
     "inputWidgets": {},
     "nuid": "13a1eabe-f766-468d-98dd-a05ce7774d78",
     "showTitle": false,
     "title": ""
    }
   },
   "outputs": [
    {
     "name": "stdout",
     "output_type": "stream",
     "text": [
      "+----------+--------------+---------------+---------------+-------------+------------+---------+---+\n",
      "|  producto|cantidad_total|precio_promedio|precio_promedio|precio_maximo|total_ventas|my_column|yyy|\n",
      "+----------+--------------+---------------+---------------+-------------+------------+---------+---+\n",
      "|producto_A|            32|          110.0|            100|          120|           3|     16.0|ABC|\n",
      "|Producto_B|             8|           85.0|             80|           90|           2|      4.0|ABC|\n",
      "+----------+--------------+---------------+---------------+-------------+------------+---------+---+\n",
      "\n",
      "+----------+--------------+---------------+---------------+-------------+------------+---------+\n",
      "|  producto|cantidad_total|precio_promedio|precio_promedio|precio_maximo|total_ventas|my_column|\n",
      "+----------+--------------+---------------+---------------+-------------+------------+---------+\n",
      "|producto_A|            32|          110.0|            100|          120|           3|     16.0|\n",
      "|Producto_B|             8|           85.0|             80|           90|           2|      4.0|\n",
      "+----------+--------------+---------------+---------------+-------------+------------+---------+\n",
      "\n"
     ]
    }
   ],
   "source": [
    "aaa = (\n",
    "    dft.withColumn(\"xxx\", col(\"cantidad_total\") / 2)\n",
    "    .withColumn(\"yyy\", lit(\"ABC\"))\n",
    "    .withColumnRenamed(\"xxx\", \"my_column\")\n",
    ")\n",
    "aaa.show()\n",
    "aaa.drop(\"yyy\").show()"
   ]
  },
  {
   "cell_type": "code",
   "execution_count": 69,
   "metadata": {
    "application/vnd.databricks.v1+cell": {
     "cellMetadata": {
      "byteLimit": 2048000,
      "rowLimit": 10000
     },
     "inputWidgets": {},
     "nuid": "1dceec2a-d85f-4117-81b9-87e7b9dd1ad8",
     "showTitle": false,
     "title": ""
    }
   },
   "outputs": [
    {
     "name": "stdout",
     "output_type": "stream",
     "text": [
      "+----------+---------+--------------------+---+\n",
      "|first_name|last_name|    email_dependents|age|\n",
      "+----------+---------+--------------------+---+\n",
      "|     Alvis|  Yeoland|cfowellsd@apache....| 33|\n",
      "|    Finley|  Ziemsen|ecloakei@oaic,fhu...| 22|\n",
      "|     Corie|    Snary|cfowellsd@apache....| 15|\n",
      "|    Byrann|  Kliment|ecloakei@oaic.gov...| 11|\n",
      "|    Artair| Quarless|cfowellsd@apache....| 12|\n",
      "+----------+---------+--------------------+---+\n",
      "\n"
     ]
    }
   ],
   "source": [
    "df.show()"
   ]
  },
  {
   "cell_type": "markdown",
   "metadata": {
    "application/vnd.databricks.v1+cell": {
     "cellMetadata": {},
     "inputWidgets": {},
     "nuid": "b20c2bf4-6d15-413d-b08a-c09d3d1ac9f8",
     "showTitle": false,
     "title": ""
    }
   },
   "source": [
    "\n",
    "#### EXPLODE"
   ]
  },
  {
   "cell_type": "code",
   "execution_count": 70,
   "metadata": {
    "application/vnd.databricks.v1+cell": {
     "cellMetadata": {
      "byteLimit": 2048000,
      "rowLimit": 10000
     },
     "inputWidgets": {},
     "nuid": "1d95e5f6-5050-473d-8526-f033858743c3",
     "showTitle": false,
     "title": ""
    }
   },
   "outputs": [
    {
     "name": "stdout",
     "output_type": "stream",
     "text": [
      "root\n",
      " |-- first_name: string (nullable = true)\n",
      " |-- last_name: string (nullable = true)\n",
      " |-- email_dependents: string (nullable = true)\n",
      " |-- age: integer (nullable = true)\n",
      " |-- array_emails: array (nullable = true)\n",
      " |    |-- element: string (containsNull = true)\n",
      "\n"
     ]
    }
   ],
   "source": [
    "df.withColumn(\"array_emails\", split(col(\"email_dependents\"), \",\")).printSchema()"
   ]
  },
  {
   "cell_type": "code",
   "execution_count": 73,
   "metadata": {},
   "outputs": [
    {
     "name": "stdout",
     "output_type": "stream",
     "text": [
      "+----------+---------+--------------------+---+--------------------+\n",
      "|first_name|last_name|    email_dependents|age|        array_emails|\n",
      "+----------+---------+--------------------+---+--------------------+\n",
      "|     Alvis|  Yeoland|cfowellsd@apache....| 33|[cfowellsd@apache...|\n",
      "|    Finley|  Ziemsen|ecloakei@oaic,fhu...| 22|[ecloakei@oaic, f...|\n",
      "|     Corie|    Snary|cfowellsd@apache....| 15|[cfowellsd@apache...|\n",
      "|    Byrann|  Kliment|ecloakei@oaic.gov...| 11|[ecloakei@oaic.go...|\n",
      "|    Artair| Quarless|cfowellsd@apache....| 12|[cfowellsd@apache...|\n",
      "+----------+---------+--------------------+---+--------------------+\n",
      "\n"
     ]
    }
   ],
   "source": [
    "df.withColumn(\"array_emails\", split(col(\"email_dependents\"), \",\")).show()"
   ]
  },
  {
   "cell_type": "code",
   "execution_count": null,
   "metadata": {
    "application/vnd.databricks.v1+cell": {
     "cellMetadata": {
      "byteLimit": 2048000,
      "rowLimit": 10000
     },
     "inputWidgets": {},
     "nuid": "310d9eb1-0439-48dd-90f4-02c241f34a35",
     "showTitle": false,
     "title": ""
    }
   },
   "outputs": [
    {
     "name": "stdout",
     "output_type": "stream",
     "text": [
      "+----------+---------+--------------------+---+--------------------+\n",
      "|first_name|last_name|    email_dependents|age|        array_emails|\n",
      "+----------+---------+--------------------+---+--------------------+\n",
      "|     Alvis|  Yeoland|cfowellsd@apache....| 33|cfowellsd@apache.org|\n",
      "|     Alvis|  Yeoland|cfowellsd@apache....| 33|Dcastello2l@homes...|\n",
      "|     Alvis|  Yeoland|cfowellsd@apache....| 33|fziemsen1@themefo...|\n",
      "|     Alvis|  Yeoland|cfowellsd@apache....| 33| csnary2@instagra...|\n",
      "|     Alvis|  Yeoland|cfowellsd@apache....| 33|    bkliment3@nat...|\n",
      "|     Alvis|  Yeoland|cfowellsd@apache....| 33|aquarless4@techno...|\n",
      "|     Alvis|  Yeoland|cfowellsd@apache....| 33| ggalbraeth5@ariz...|\n",
      "|     Alvis|  Yeoland|cfowellsd@apache....| 33|rpowton6@instagra...|\n",
      "|     Alvis|  Yeoland|cfowellsd@apache....| 33|   adressel7@icq.com|\n",
      "|     Alvis|  Yeoland|cfowellsd@apache....| 33|kegginson8@cdbaby...|\n",
      "|     Alvis|  Yeoland|cfowellsd@apache....| 33|   Nvears9@ifeng.com|\n",
      "|    Finley|  Ziemsen|ecloakei@oaic,fhu...| 22|       ecloakei@oaic|\n",
      "|    Finley|  Ziemsen|ecloakei@oaic,fhu...| 22|fhubeauxa@google....|\n",
      "|    Finley|  Ziemsen|ecloakei@oaic,fhu...| 22|  tkemwallb@1und1.de|\n",
      "|    Finley|  Ziemsen|ecloakei@oaic,fhu...| 22| toldknowc@nymag.com|\n",
      "|     Corie|    Snary|cfowellsd@apache....| 15|cfowellsd@apache.org|\n",
      "|     Corie|    Snary|cfowellsd@apache....| 15| kpeggrame@weibo.com|\n",
      "|     Corie|    Snary|cfowellsd@apache....| 15| kpeggrame@weibo.com|\n",
      "|     Corie|    Snary|cfowellsd@apache....| 15| kpeggrame@weibo.com|\n",
      "|    Byrann|  Kliment|ecloakei@oaic.gov...| 11|ecloakei@oaic.gov.au|\n",
      "+----------+---------+--------------------+---+--------------------+\n",
      "only showing top 20 rows\n",
      "\n"
     ]
    }
   ],
   "source": [
    "xyz = df.withColumn(\"array_emails\", explode(split(col(\"email_dependents\"), \",\")))\n",
    "xyz.show()"
   ]
  },
  {
   "cell_type": "markdown",
   "metadata": {
    "application/vnd.databricks.v1+cell": {
     "cellMetadata": {},
     "inputWidgets": {},
     "nuid": "edb4c68e-9fc5-4800-a9bc-dceded6fd03b",
     "showTitle": false,
     "title": ""
    }
   },
   "source": [
    "\n",
    "#### UDF"
   ]
  },
  {
   "cell_type": "code",
   "execution_count": 87,
   "metadata": {
    "application/vnd.databricks.v1+cell": {
     "cellMetadata": {
      "byteLimit": 2048000,
      "rowLimit": 10000
     },
     "inputWidgets": {},
     "nuid": "d9635af0-1aac-4f82-9705-5655119f995d",
     "showTitle": false,
     "title": ""
    }
   },
   "outputs": [],
   "source": [
    "from pyspark.sql.functions import udf\n",
    "from pyspark.sql.types import IntegerType, MapType, StringType\n",
    "\n",
    "\n",
    "def size_email(value):\n",
    "    size_message = len(value)\n",
    "    upper_cases = len([letter for letter in value if letter.isupper()])\n",
    "    lower_cases = len([letter for letter in value if letter.islower()])\n",
    "    digit_cases = len([letter for letter in value if letter.isdigit()])\n",
    "\n",
    "    return {\n",
    "        \"size\": size_message,\n",
    "        \"upperc\": upper_cases,\n",
    "        \"lowerc\": lower_cases,\n",
    "        \"digitc\": digit_cases,\n",
    "    }\n",
    "\n",
    "\n",
    "propia_udf = udf(size_email, MapType(StringType(), IntegerType()))"
   ]
  },
  {
   "cell_type": "code",
   "execution_count": 88,
   "metadata": {
    "application/vnd.databricks.v1+cell": {
     "cellMetadata": {
      "byteLimit": 2048000,
      "rowLimit": 10000
     },
     "inputWidgets": {},
     "nuid": "2b027633-fc56-4719-8ccc-bbd80d1306a5",
     "showTitle": false,
     "title": ""
    }
   },
   "outputs": [
    {
     "name": "stdout",
     "output_type": "stream",
     "text": [
      "+----------+---------+--------------------+---+--------------------+--------------------+\n",
      "|first_name|last_name|    email_dependents|age|        array_emails|                msmp|\n",
      "+----------+---------+--------------------+---+--------------------+--------------------+\n",
      "|     Alvis|  Yeoland|cfowellsd@apache....| 33|cfowellsd@apache.org|{digitc -> 0, upp...|\n",
      "|     Alvis|  Yeoland|cfowellsd@apache....| 33|Dcastello2l@homes...|{digitc -> 1, upp...|\n",
      "|     Alvis|  Yeoland|cfowellsd@apache....| 33|fziemsen1@themefo...|{digitc -> 1, upp...|\n",
      "|     Alvis|  Yeoland|cfowellsd@apache....| 33| csnary2@instagra...|{digitc -> 1, upp...|\n",
      "|     Alvis|  Yeoland|cfowellsd@apache....| 33|    bkliment3@nat...|{digitc -> 1, upp...|\n",
      "|     Alvis|  Yeoland|cfowellsd@apache....| 33|aquarless4@techno...|{digitc -> 1, upp...|\n",
      "|     Alvis|  Yeoland|cfowellsd@apache....| 33| ggalbraeth5@ariz...|{digitc -> 1, upp...|\n",
      "|     Alvis|  Yeoland|cfowellsd@apache....| 33|rpowton6@instagra...|{digitc -> 1, upp...|\n",
      "|     Alvis|  Yeoland|cfowellsd@apache....| 33|   adressel7@icq.com|{digitc -> 1, upp...|\n",
      "|     Alvis|  Yeoland|cfowellsd@apache....| 33|kegginson8@cdbaby...|{digitc -> 1, upp...|\n",
      "|     Alvis|  Yeoland|cfowellsd@apache....| 33|   Nvears9@ifeng.com|{digitc -> 1, upp...|\n",
      "|    Finley|  Ziemsen|ecloakei@oaic,fhu...| 22|       ecloakei@oaic|{digitc -> 0, upp...|\n",
      "|    Finley|  Ziemsen|ecloakei@oaic,fhu...| 22|fhubeauxa@google....|{digitc -> 0, upp...|\n",
      "|    Finley|  Ziemsen|ecloakei@oaic,fhu...| 22|  tkemwallb@1und1.de|{digitc -> 2, upp...|\n",
      "|    Finley|  Ziemsen|ecloakei@oaic,fhu...| 22| toldknowc@nymag.com|{digitc -> 0, upp...|\n",
      "|     Corie|    Snary|cfowellsd@apache....| 15|cfowellsd@apache.org|{digitc -> 0, upp...|\n",
      "|     Corie|    Snary|cfowellsd@apache....| 15| kpeggrame@weibo.com|{digitc -> 0, upp...|\n",
      "|     Corie|    Snary|cfowellsd@apache....| 15| kpeggrame@weibo.com|{digitc -> 0, upp...|\n",
      "|     Corie|    Snary|cfowellsd@apache....| 15| kpeggrame@weibo.com|{digitc -> 0, upp...|\n",
      "|    Byrann|  Kliment|ecloakei@oaic.gov...| 11|ecloakei@oaic.gov.au|{digitc -> 0, upp...|\n",
      "+----------+---------+--------------------+---+--------------------+--------------------+\n",
      "only showing top 20 rows\n",
      "\n"
     ]
    }
   ],
   "source": [
    "zzz = xyz.withColumn(\"msmp\", propia_udf(col(\"array_emails\")))\n",
    "zzz.show()"
   ]
  },
  {
   "cell_type": "code",
   "execution_count": 91,
   "metadata": {},
   "outputs": [
    {
     "name": "stdout",
     "output_type": "stream",
     "text": [
      "root\n",
      " |-- first_name: string (nullable = true)\n",
      " |-- last_name: string (nullable = true)\n",
      " |-- email_dependents: string (nullable = true)\n",
      " |-- age: integer (nullable = true)\n",
      " |-- array_emails: string (nullable = true)\n",
      " |-- msmp: map (nullable = true)\n",
      " |    |-- key: string\n",
      " |    |-- value: integer (valueContainsNull = true)\n",
      "\n"
     ]
    }
   ],
   "source": [
    "zzz.printSchema()"
   ]
  },
  {
   "cell_type": "code",
   "execution_count": 89,
   "metadata": {
    "application/vnd.databricks.v1+cell": {
     "cellMetadata": {
      "byteLimit": 2048000,
      "rowLimit": 10000
     },
     "inputWidgets": {},
     "nuid": "2db1cb51-655b-482d-94aa-dab8c8036966",
     "showTitle": false,
     "title": ""
    }
   },
   "outputs": [
    {
     "name": "stdout",
     "output_type": "stream",
     "text": [
      "+--------------------+----------+------------+------------+------+\n",
      "|        array_emails|msmp[size]|msmp[upperc]|msmp[lowerc]|digitc|\n",
      "+--------------------+----------+------------+------------+------+\n",
      "|cfowellsd@apache.org|        20|           0|          18|     0|\n",
      "|Dcastello2l@homes...|        27|           1|          21|     1|\n",
      "|fziemsen1@themefo...|        27|           0|          22|     1|\n",
      "| csnary2@instagra...|        24|           0|          18|     1|\n",
      "|    bkliment3@nat...|        36|           0|          29|     1|\n",
      "|aquarless4@techno...|        25|           0|          22|     1|\n",
      "| ggalbraeth5@ariz...|        24|           0|          20|     1|\n",
      "|rpowton6@instagra...|        22|           0|          19|     1|\n",
      "|   adressel7@icq.com|        17|           0|          14|     1|\n",
      "|kegginson8@cdbaby...|        21|           0|          18|     1|\n",
      "|   Nvears9@ifeng.com|        17|           1|          13|     1|\n",
      "|       ecloakei@oaic|        13|           0|          12|     0|\n",
      "|fhubeauxa@google....|        23|           0|          20|     0|\n",
      "|  tkemwallb@1und1.de|        18|           0|          14|     2|\n",
      "| toldknowc@nymag.com|        19|           0|          17|     0|\n",
      "|cfowellsd@apache.org|        20|           0|          18|     0|\n",
      "| kpeggrame@weibo.com|        19|           0|          17|     0|\n",
      "| kpeggrame@weibo.com|        19|           0|          17|     0|\n",
      "| kpeggrame@weibo.com|        19|           0|          17|     0|\n",
      "|ecloakei@oaic.gov.au|        20|           0|          17|     0|\n",
      "+--------------------+----------+------------+------------+------+\n",
      "only showing top 20 rows\n",
      "\n"
     ]
    }
   ],
   "source": [
    "zzz.select(\n",
    "    zzz.array_emails,\n",
    "    zzz.msmp.size,\n",
    "    zzz.msmp.upperc,\n",
    "    zzz.msmp.lowerc,\n",
    "    col(\"msmp.digitc\").alias(\"digitc\"),\n",
    ").show()"
   ]
  },
  {
   "cell_type": "code",
   "execution_count": 92,
   "metadata": {},
   "outputs": [],
   "source": [
    "zzz.createOrReplaceTempView(\"email_details\")"
   ]
  },
  {
   "cell_type": "code",
   "execution_count": 93,
   "metadata": {},
   "outputs": [
    {
     "name": "stdout",
     "output_type": "stream",
     "text": [
      "+--------------------+------+\n",
      "| lower(array_emails)|digitc|\n",
      "+--------------------+------+\n",
      "|cfowellsd@apache.org|     0|\n",
      "|dcastello2l@homes...|     1|\n",
      "|fziemsen1@themefo...|     1|\n",
      "| csnary2@instagra...|     1|\n",
      "|    bkliment3@nat...|     1|\n",
      "|aquarless4@techno...|     1|\n",
      "| ggalbraeth5@ariz...|     1|\n",
      "|rpowton6@instagra...|     1|\n",
      "|   adressel7@icq.com|     1|\n",
      "|kegginson8@cdbaby...|     1|\n",
      "|   nvears9@ifeng.com|     1|\n",
      "|       ecloakei@oaic|     0|\n",
      "|fhubeauxa@google....|     0|\n",
      "|  tkemwallb@1und1.de|     2|\n",
      "| toldknowc@nymag.com|     0|\n",
      "|cfowellsd@apache.org|     0|\n",
      "| kpeggrame@weibo.com|     0|\n",
      "| kpeggrame@weibo.com|     0|\n",
      "| kpeggrame@weibo.com|     0|\n",
      "|ecloakei@oaic.gov.au|     0|\n",
      "+--------------------+------+\n",
      "only showing top 20 rows\n",
      "\n"
     ]
    }
   ],
   "source": [
    "spark.sql(\"SELECT lower(array_emails), msmp.digitc FROM email_details\").show()"
   ]
  }
 ],
 "metadata": {
  "application/vnd.databricks.v1+notebook": {
   "dashboards": [],
   "environmentMetadata": null,
   "language": "python",
   "notebookMetadata": {
    "mostRecentlyExecutedCommandWithImplicitDF": {
     "commandId": 1950001615371023,
     "dataframes": [
      "_sqldf"
     ]
    },
    "pythonIndentUnit": 4
   },
   "notebookName": "002.core",
   "widgets": {}
  },
  "kernelspec": {
   "display_name": "Python 3 (ipykernel)",
   "language": "python",
   "name": "python3"
  },
  "language_info": {
   "codemirror_mode": {
    "name": "ipython",
    "version": 3
   },
   "file_extension": ".py",
   "mimetype": "text/x-python",
   "name": "python",
   "nbconvert_exporter": "python",
   "pygments_lexer": "ipython3",
   "version": "3.8.10"
  }
 },
 "nbformat": 4,
 "nbformat_minor": 4
}
