{
 "cells": [
  {
   "cell_type": "code",
   "execution_count": 1,
   "id": "bdc17086-37f0-4199-a8e8-2b6a01a4b98a",
   "metadata": {},
   "outputs": [],
   "source": [
    "# pip install geopy\n",
    "# pip install meteostat"
   ]
  },
  {
   "cell_type": "code",
   "execution_count": 2,
   "id": "812533eb-984d-46f6-8f62-467ae2591b3e",
   "metadata": {},
   "outputs": [],
   "source": [
    "import json\n",
    "import time\n",
    "import uuid\n",
    "import random\n",
    "from datetime import datetime, timedelta\n",
    "import pytz\n",
    "from geopy.geocoders import Nominatim\n",
    "from meteostat import Point, Hourly"
   ]
  },
  {
   "cell_type": "markdown",
   "id": "4c899c2e-fc45-4167-95e4-290a0053474b",
   "metadata": {},
   "source": [
    "# Geolocalizador"
   ]
  },
  {
   "cell_type": "code",
   "execution_count": 3,
   "id": "2cd9556c-f555-45d8-b290-7a8e3bbdef05",
   "metadata": {},
   "outputs": [],
   "source": [
    "# Definir las coordenadas aproximadas de Medellín\n",
    "lat_range = (6.217, 6.317)  # Latitud de Medellín\n",
    "lon_range = (-75.567, -75.467)  # Longitud de Medellín\n",
    "\n",
    "# Inicializar el geolocalizador\n",
    "geolocator = Nominatim(user_agent=\"medellin_locator\")"
   ]
  },
  {
   "cell_type": "markdown",
   "id": "bdf2cac6-5ed8-4e42-95cb-f1c5674655c5",
   "metadata": {},
   "source": [
    "# Obtención de datos"
   ]
  },
  {
   "cell_type": "code",
   "execution_count": 4,
   "id": "1dc5c0c5-56dc-4878-85e7-87be43b48ec1",
   "metadata": {},
   "outputs": [],
   "source": [
    "# Función para obtener la comuna y barrio según las coordenadas\n",
    "def get_location_info(latitude, longitude):\n",
    "    location = geolocator.reverse((latitude, longitude), language='es')\n",
    "    address = location.raw['address']\n",
    "    comuna = address.get('suburb', 'No encontrado')\n",
    "    barrio = address.get('neighbourhood', 'No encontrado')\n",
    "    return comuna, barrio\n",
    "\n",
    "# Generar puntos de venta únicos\n",
    "def generate_valid_points(n):\n",
    "    valid_points = []\n",
    "    while len(valid_points) < n:\n",
    "        lat = round(random.uniform(*lat_range), 6)\n",
    "        lon = round(random.uniform(*lon_range), 6)\n",
    "        comuna, barrio = get_location_info(lat, lon)\n",
    "        if comuna != 'No encontrado' and barrio != 'No encontrado':\n",
    "            valid_points.append((lat, lon, comuna, barrio))\n",
    "    return valid_points\n",
    "\n",
    "# Generar 100 puntos válidos\n",
    "points_of_sale = generate_valid_points(100)\n",
    "\n",
    "# Generar 200 empleados, 2 por cada punto de venta\n",
    "employees = {i: (f\"Employee_{i*2+1}\", f\"Employee_{i*2+2}\") for i in range(100)}\n",
    "\n",
    "# Función para obtener la temperatura actual\n",
    "# def get_current_temperature(latitude, longitude):\n",
    "#     location = Point(latitude, longitude)\n",
    "#     start = datetime.now() - timedelta(hours=1)\n",
    "#     end = datetime.now()\n",
    "#     data = Hourly(location, start, end)\n",
    "#     data = data.fetch()\n",
    "#     temperature = data['temp'].mean() if not data.empty else 'No data'\n",
    "#     return round(temperature, 1)\n",
    "\n",
    "# Generar datos simulados\n",
    "def generate_event(pos_index):\n",
    "    pos = points_of_sale[pos_index]\n",
    "    worker = employees[pos_index]\n",
    "    date_now = datetime.now(pytz.timezone('America/Bogota'))\n",
    "    # temperature = get_current_temperature(pos[0], pos[1])\n",
    "    \n",
    "    event = {\n",
    "        \"latitude\": pos[0],\n",
    "        \"longitude\": pos[1],\n",
    "        \"date\": date_now.strftime(\"%d/%m/%Y %H:%M:%S\"),\n",
    "        \"customer_id\": random.randint(1000, 2000),\n",
    "        \"employee_id\": worker[0] if date_now.weekday() < 5 else worker[1],  # Lunes a Viernes / Fines de Semana\n",
    "        \"quantity_products\": random.randint(1, 50),\n",
    "        \"order_id\": str(uuid.uuid4()),\n",
    "        \"commune\": pos[2],\n",
    "        \"neighborhood\": pos[3],\n",
    "        \"partition_date\": date_now.strftime(\"%d%m%Y\"),\n",
    "        \"event_date\": date_now.strftime(\"%d/%m/%Y %H:%M:%S\"),\n",
    "        \"event_day\": date_now.day,\n",
    "        \"event_hour\": date_now.hour,\n",
    "        \"event_minute\": date_now.minute,\n",
    "        \"event_month\": date_now.month,\n",
    "        \"event_second\": date_now.second,\n",
    "        \"event_year\": date_now.year\n",
    "    }\n",
    "    # \"current_temperature\": temperature\n",
    "    \n",
    "    return event\n",
    "\n",
    "# Enviar los datos\n",
    "def send_data(s, conn, data):\n",
    "    conn.sendall(json.dumps(data).encode() + b'\\n')\n",
    "    print(\"enviado:\", data)"
   ]
  },
  {
   "cell_type": "markdown",
   "id": "775710ba-454a-44f5-9dfc-fbd2d99d11eb",
   "metadata": {},
   "source": [
    "# Socket"
   ]
  },
  {
   "cell_type": "code",
   "execution_count": 5,
   "id": "92bf07a8-69ac-45b7-9cf5-c0dfcc505040",
   "metadata": {},
   "outputs": [],
   "source": [
    "import socket"
   ]
  },
  {
   "cell_type": "code",
   "execution_count": 6,
   "id": "5aab0ab5-c213-4d2d-8b0c-3a7722b3dce7",
   "metadata": {},
   "outputs": [
    {
     "name": "stdout",
     "output_type": "stream",
     "text": [
      "Listening on localhost:7777\n"
     ]
    },
    {
     "ename": "NameError",
     "evalue": "name 'conn' is not defined",
     "output_type": "error",
     "traceback": [
      "\u001b[0;31m---------------------------------------------------------------------------\u001b[0m",
      "\u001b[0;31mNameError\u001b[0m                                 Traceback (most recent call last)",
      "Input \u001b[0;32mIn [6]\u001b[0m, in \u001b[0;36m<cell line: 37>\u001b[0;34m()\u001b[0m\n\u001b[1;32m     35\u001b[0m         s\u001b[38;5;241m.\u001b[39mclose()\n\u001b[1;32m     37\u001b[0m \u001b[38;5;28;01mif\u001b[39;00m \u001b[38;5;18m__name__\u001b[39m \u001b[38;5;241m==\u001b[39m \u001b[38;5;124m\"\u001b[39m\u001b[38;5;124m__main__\u001b[39m\u001b[38;5;124m\"\u001b[39m:\n\u001b[0;32m---> 38\u001b[0m     \u001b[43mmain\u001b[49m\u001b[43m(\u001b[49m\u001b[43m)\u001b[49m\n",
      "Input \u001b[0;32mIn [6]\u001b[0m, in \u001b[0;36mmain\u001b[0;34m()\u001b[0m\n\u001b[1;32m     17\u001b[0m event \u001b[38;5;241m=\u001b[39m generate_event(random\u001b[38;5;241m.\u001b[39mrandrange(\u001b[38;5;241m0\u001b[39m, \u001b[38;5;241m100\u001b[39m))\n\u001b[1;32m     18\u001b[0m \u001b[38;5;66;03m# Esperar 30 segundos antes de generar el siguiente evento\u001b[39;00m\n\u001b[0;32m---> 19\u001b[0m send_data(s, \u001b[43mconn\u001b[49m, event)\n\u001b[1;32m     20\u001b[0m \u001b[38;5;66;03m# Guardado en un archivo JSON\u001b[39;00m\n\u001b[1;32m     21\u001b[0m \u001b[38;5;28;01mwith\u001b[39;00m \u001b[38;5;28mopen\u001b[39m(\u001b[38;5;124m'\u001b[39m\u001b[38;5;124msimulated_data.json\u001b[39m\u001b[38;5;124m'\u001b[39m, \u001b[38;5;124m'\u001b[39m\u001b[38;5;124ma\u001b[39m\u001b[38;5;124m'\u001b[39m) \u001b[38;5;28;01mas\u001b[39;00m file:\n",
      "\u001b[0;31mNameError\u001b[0m: name 'conn' is not defined"
     ]
    }
   ],
   "source": [
    "# Socket\n",
    "def main():\n",
    "    \n",
    "    host = 'localhost'  # Nombre del host o dirección IP\n",
    "    port = 7777  # Puerto en el que escucha el servidor\n",
    "\n",
    "    s = socket.socket()\n",
    "    s.bind((host, port))\n",
    "    s.listen(1)\n",
    "    print(f\"Listening on {host}:{port}\")\n",
    "    \n",
    "    conn, addr = s.accept()\n",
    "    print(f\"Connection from {addr}\")\n",
    "    \n",
    "    try:\n",
    "        while True:\n",
    "            event = generate_event(random.randrange(0, 100))\n",
    "            # Esperar 30 segundos antes de generar el siguiente evento\n",
    "            send_data(s, conn, event)\n",
    "            # Guardado en un archivo JSON\n",
    "            with open('simulated_data.json', 'a') as file:\n",
    "                file.write(json.dumps(event) + \"\\n\")\n",
    "            \n",
    "            time.sleep(5)\n",
    "            \n",
    "    except KeyboardInterrupt:\n",
    "        print(\"Deteniendo el servidor...\")\n",
    "        conn.close()\n",
    "        s.close()\n",
    "        print(\"Conexión cerrada.\")\n",
    "    \n",
    "    except BrokenPipeError:\n",
    "        print(\"La conexión ha sido cerrada.\")\n",
    "        conn.close()\n",
    "        s.close()\n",
    "\n",
    "if __name__ == \"__main__\":\n",
    "    main()"
   ]
  }
 ],
 "metadata": {
  "kernelspec": {
   "display_name": "Python 3 (ipykernel)",
   "language": "python",
   "name": "python3"
  },
  "language_info": {
   "codemirror_mode": {
    "name": "ipython",
    "version": 3
   },
   "file_extension": ".py",
   "mimetype": "text/x-python",
   "name": "python",
   "nbconvert_exporter": "python",
   "pygments_lexer": "ipython3",
   "version": "3.8.10"
  }
 },
 "nbformat": 4,
 "nbformat_minor": 5
}
