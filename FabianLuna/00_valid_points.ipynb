{
 "cells": [
  {
   "cell_type": "code",
   "execution_count": 1,
   "id": "501beaea-e444-49a2-b0c8-7063e0327aaf",
   "metadata": {},
   "outputs": [],
   "source": [
    "# pip install geopy"
   ]
  },
  {
   "cell_type": "code",
   "execution_count": 2,
   "id": "0aba93b9-70f2-4807-b6fb-e0a5a8886f89",
   "metadata": {},
   "outputs": [],
   "source": [
    "import json\n",
    "import random\n",
    "from geopy.geocoders import Nominatim"
   ]
  },
  {
   "cell_type": "code",
   "execution_count": null,
   "id": "044c7a6a-9160-4499-b7ca-5ea0ad6e6ee0",
   "metadata": {},
   "outputs": [],
   "source": [
    "# Definir las coordenadas aproximadas de Medellín\n",
    "lat_range = (6.217, 6.317)  # Latitud de Medellín\n",
    "lon_range = (-75.567, -75.467)  # Longitud de Medellín\n",
    "\n",
    "# Inicializar el geolocalizador\n",
    "geolocator = Nominatim(user_agent=\"medellin_locator\")"
   ]
  },
  {
   "cell_type": "code",
   "execution_count": 3,
   "id": "b7c96471-25c2-46ea-9bbd-e31a3c8d91a1",
   "metadata": {},
   "outputs": [],
   "source": [
    "# Función para obtener la comuna y barrio según las coordenadas\n",
    "def get_location_info(latitude, longitude):\n",
    "    location = geolocator.reverse((latitude, longitude), language='es')\n",
    "    address = location.raw['address']\n",
    "    comuna = address.get('suburb', 'No encontrado')\n",
    "    barrio = address.get('neighbourhood', 'No encontrado')\n",
    "    return comuna, barrio\n",
    "\n",
    "# Generar puntos de venta únicos\n",
    "def generate_valid_points(n):\n",
    "    valid_points = []\n",
    "    while len(valid_points) < n:\n",
    "        lat = round(random.uniform(*lat_range), 6)\n",
    "        lon = round(random.uniform(*lon_range), 6)\n",
    "        comuna, barrio = get_location_info(lat, lon)\n",
    "        if comuna != 'No encontrado' and barrio != 'No encontrado':\n",
    "            valid_points.append({\"latitude\": lat, \"longitude\": lon, \"commune\": comuna, \"neighborhood\": barrio})\n",
    "    return valid_points\n",
    "\n",
    "# Generar y guardar 100 puntos válidos\n",
    "points_of_sale = generate_valid_points(100)\n",
    "\n",
    "with open('valid_points.json', 'w') as file:\n",
    "    json.dump(points_of_sale, file)"
   ]
  }
 ],
 "metadata": {
  "kernelspec": {
   "display_name": "Python 3 (ipykernel)",
   "language": "python",
   "name": "python3"
  },
  "language_info": {
   "codemirror_mode": {
    "name": "ipython",
    "version": 3
   },
   "file_extension": ".py",
   "mimetype": "text/x-python",
   "name": "python",
   "nbconvert_exporter": "python",
   "pygments_lexer": "ipython3",
   "version": "3.8.10"
  }
 },
 "nbformat": 4,
 "nbformat_minor": 5
}
