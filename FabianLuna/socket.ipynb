{
 "cells": [
  {
   "cell_type": "code",
   "execution_count": null,
   "id": "bbd0f733-acea-46d0-8f8b-d0674963850b",
   "metadata": {},
   "outputs": [
    {
     "name": "stdout",
     "output_type": "stream",
     "text": [
      "Connected to server\n"
     ]
    }
   ],
   "source": [
    "import socket\n",
    "\n",
    "def cliente():\n",
    "    host = 'localhost'\n",
    "    port = 1111\n",
    "\n",
    "    s = socket.socket()\n",
    "    s.connect((host, port))\n",
    "    print(\"Connected to server\")\n",
    "\n",
    "    try:\n",
    "        while True:\n",
    "            pass\n",
    "\n",
    "    except KeyboardInterrupt:\n",
    "        print(\"Closed connection...\")\n",
    "        s.close()\n",
    "\n",
    "if __name__ == \"__main__\":\n",
    "    cliente()"
   ]
  }
 ],
 "metadata": {
  "kernelspec": {
   "display_name": "Python 3 (ipykernel)",
   "language": "python",
   "name": "python3"
  },
  "language_info": {
   "codemirror_mode": {
    "name": "ipython",
    "version": 3
   },
   "file_extension": ".py",
   "mimetype": "text/x-python",
   "name": "python",
   "nbconvert_exporter": "python",
   "pygments_lexer": "ipython3",
   "version": "3.8.10"
  }
 },
 "nbformat": 4,
 "nbformat_minor": 5
}
