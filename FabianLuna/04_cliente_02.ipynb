{
 "cells": [
  {
   "cell_type": "markdown",
   "id": "7490f7ae-5b0f-4cc5-8542-a4857dd07169",
   "metadata": {},
   "source": [
    "# Spark - Escritura"
   ]
  },
  {
   "cell_type": "code",
   "execution_count": 1,
   "id": "618708ba-d8d7-4f2c-af28-14f94a177d3f",
   "metadata": {},
   "outputs": [],
   "source": [
    "# pip install turfpy"
   ]
  },
  {
   "cell_type": "code",
   "execution_count": 2,
   "id": "8c1b65b5-2cbb-43ce-9d70-92816532e0fb",
   "metadata": {},
   "outputs": [],
   "source": [
    "from pyspark.sql import SparkSession\n",
    "from pyspark.sql.window import Window\n",
    "import json\n",
    "from turfpy.measurement import boolean_point_in_polygon\n",
    "from geojson import Point, Feature\n",
    "import subprocess\n",
    "import uuid\n",
    "from datetime import datetime\n",
    "import pytz\n",
    "from pyspark.sql.functions import sum as _sum, max as _max, concat_ws, col, udf, to_timestamp, year, month, dayofmonth, hour, minute, second, to_date, date_format, row_number, desc\n",
    "from pyspark.sql.types import StructType, StructField, IntegerType, StringType"
   ]
  },
  {
   "cell_type": "markdown",
   "id": "a871f951-5e57-49fd-b214-2a14960b6799",
   "metadata": {},
   "source": [
    "## Spark session"
   ]
  },
  {
   "cell_type": "code",
   "execution_count": 3,
   "id": "5769eabc-d7ac-40b7-9387-a4c41d59b053",
   "metadata": {},
   "outputs": [
    {
     "name": "stderr",
     "output_type": "stream",
     "text": [
      "Setting default log level to \"WARN\".\n",
      "To adjust logging level use sc.setLogLevel(newLevel). For SparkR, use setLogLevel(newLevel).\n"
     ]
    }
   ],
   "source": [
    "spark = SparkSession.builder.appName(\"DataProcessing\").getOrCreate()"
   ]
  },
  {
   "cell_type": "markdown",
   "id": "87570e91-621b-4f17-a22a-48147ba8e945",
   "metadata": {},
   "source": [
    "# Parquet"
   ]
  },
  {
   "cell_type": "code",
   "execution_count": 4,
   "id": "66776b20-f6c7-483e-ad88-5b671e45e9e7",
   "metadata": {},
   "outputs": [],
   "source": [
    "df = spark.read.parquet(\"/datalake/raw/stagging\")"
   ]
  },
  {
   "cell_type": "code",
   "execution_count": 5,
   "id": "6b6e0143-c1ca-43ac-a054-4989efbc4301",
   "metadata": {},
   "outputs": [
    {
     "name": "stdout",
     "output_type": "stream",
     "text": [
      "+--------+----------+-------------------+-----------+------------+-----------------+--------------------+--------------------+--------------------+\n",
      "|latitude| longitude|               date|customer_id| employee_id|quantity_products|            order_id|             commune|        neighborhood|\n",
      "+--------+----------+-------------------+-----------+------------+-----------------+--------------------+--------------------+--------------------+\n",
      "|6.252831|-75.565694|17/06/2024 17:42:59|       1516| Employee_11|               48|ed8e3710-f82d-4ed...|Comuna 10 - La Ca...|         Villa Nueva|\n",
      "|6.226848|-75.550744|17/06/2024 17:43:16|       1368|Employee_175|               50|074a7666-b263-499...|Comuna 9 - Buenos...|       Bomboná No. 2|\n",
      "|6.263214|-75.565651|17/06/2024 17:43:01|       1419|Employee_117|               49|5add2bcd-514d-409...|Comuna 10 - La Ca...|               Prado|\n",
      "|6.288678|-75.556225|17/06/2024 17:43:17|       1319|Employee_135|               47|929fe8c9-fdcf-4df...| Comuna 4 - Aranjuez|              Berlin|\n",
      "|6.301091|-75.548209|17/06/2024 17:43:02|       1730|Employee_115|               44|941426c8-e0c9-47a...|  Comuna 1 - Popular|             Popular|\n",
      "|6.230978|-75.533582|17/06/2024 17:43:18|       1961|  Employee_9|               50|946061a7-af8c-4ac...|Comuna 9 - Buenos...|    Barrios de Jesús|\n",
      "|6.274511| -75.54669|17/06/2024 17:43:03|       1900| Employee_67|               43|449a0a92-9c6f-494...| Comuna 3 - Manrique|          Santa Inés|\n",
      "|6.252831|-75.565694|17/06/2024 17:43:19|       1663| Employee_11|               42|8c18ed95-5ea9-476...|Comuna 10 - La Ca...|         Villa Nueva|\n",
      "|6.294688|-75.547412|17/06/2024 17:43:04|       1689|Employee_195|               48|4152d1f0-e4c3-49e...|  Comuna 1 - Popular|            Granizal|\n",
      "|6.237547|-75.536549|17/06/2024 17:43:20|       1850| Employee_23|               44|029aa261-7898-47f...|Comuna 8 - Villa ...|         San Antonio|\n",
      "|6.226848|-75.550744|17/06/2024 17:43:05|       1404|Employee_175|               48|50159d4e-f534-4ba...|Comuna 9 - Buenos...|       Bomboná No. 2|\n",
      "|6.229935|-75.556966|17/06/2024 17:43:21|       1287|Employee_165|               46|fdf64792-f2cb-47a...|Comuna 9 - Buenos...|              Loreto|\n",
      "|6.299954|-75.559406|17/06/2024 17:43:06|       1365|Employee_141|               50|cb6a7e38-5935-4b8...| Comuna 5 - Castilla|   Héctor Abad Gómez|\n",
      "| 6.23482| -75.54546|17/06/2024 17:43:22|       1760|Employee_149|               50|a548a392-a806-488...|Comuna 9 - Buenos...|Los Cerros - El V...|\n",
      "|6.250895|-75.564412|17/06/2024 17:43:07|       1417|Employee_193|               50|f19c3060-5722-45c...|Comuna 10 - La Ca...|       La Candelaria|\n",
      "|6.295899|-75.539886|17/06/2024 17:43:23|       1212| Employee_59|               40|3ff8b1d7-ea0c-45b...|  Comuna 1 - Popular|         La Avanzada|\n",
      "|6.300545|-75.563593|17/06/2024 17:43:08|       1573|Employee_179|               50|88791680-178f-420...| Comuna 5 - Castilla|              Boyacá|\n",
      "|6.274861|-75.533979|17/06/2024 17:43:24|       1623|Employee_161|               50|ce1e5e75-52c6-475...| Comuna 3 - Manrique|             La Cruz|\n",
      "|6.233505|-75.539321|17/06/2024 17:43:09|       1747|Employee_103|               50|c2995bf1-43b8-497...|Comuna 8 - Villa ...|          Villa Tina|\n",
      "|6.302827|-75.560455|17/06/2024 17:43:25|       1083| Employee_63|               50|82693763-23e4-4e5...| Comuna 5 - Castilla|   Héctor Abad Gómez|\n",
      "+--------+----------+-------------------+-----------+------------+-----------------+--------------------+--------------------+--------------------+\n",
      "only showing top 20 rows\n",
      "\n"
     ]
    },
    {
     "data": {
      "text/plain": [
       "107"
      ]
     },
     "execution_count": 5,
     "metadata": {},
     "output_type": "execute_result"
    }
   ],
   "source": [
    "df.show()\n",
    "df.count()"
   ]
  },
  {
   "cell_type": "markdown",
   "id": "8ee561c9-6576-42d9-869e-4b8a9ce39684",
   "metadata": {},
   "source": [
    "## hadoop"
   ]
  },
  {
   "cell_type": "code",
   "execution_count": 6,
   "id": "cce7d6a1-6bf7-4236-abc6-76188f4de110",
   "metadata": {},
   "outputs": [],
   "source": [
    "command = \"hadoop fs -ls /datalake/raw/stagging | awk '{print $NF}'\"\n",
    "file_names = subprocess.check_output(command, shell=True).decode().split('\\n')\n",
    "\n",
    "command = \"hadoop fs -ls /checkpoints/commits | awk '{print $NF}'\"\n",
    "commits_names = subprocess.check_output(command, shell=True).decode().split('\\n')\n",
    "\n",
    "command = \"hadoop fs -ls /checkpoints/offsets | awk '{print $NF}'\"\n",
    "offsets_names = subprocess.check_output(command, shell=True).decode().split('\\n')\n",
    "\n",
    "command = \"hadoop fs -ls /datalake/raw/stagging/_spark_metadata | awk '{print $NF}'\"\n",
    "metadata_names = subprocess.check_output(command, shell=True).decode().split('\\n')"
   ]
  },
  {
   "cell_type": "markdown",
   "id": "5bed3982-1f68-47fc-9421-2f43eb4577ee",
   "metadata": {},
   "source": [
    "## Identificador de cada tienda\n",
    "Se crea un store ID para cada tienda teniendo en cuenta: \"latitude\", \"longitude\", \"commune\" y \"neighborhood\""
   ]
  },
  {
   "cell_type": "code",
   "execution_count": 7,
   "id": "173792a9-5831-449b-b5ee-ea1f2987dd75",
   "metadata": {},
   "outputs": [
    {
     "name": "stdout",
     "output_type": "stream",
     "text": [
      "+--------+----------+-------------------+-----------+------------+-----------------+--------------------+--------------------+--------------------+--------------------+\n",
      "|latitude| longitude|               date|customer_id| employee_id|quantity_products|            order_id|             commune|        neighborhood|            store_id|\n",
      "+--------+----------+-------------------+-----------+------------+-----------------+--------------------+--------------------+--------------------+--------------------+\n",
      "|6.252831|-75.565694|17/06/2024 17:42:59|       1516| Employee_11|               48|ed8e3710-f82d-4ed...|Comuna 10 - La Ca...|         Villa Nueva|6.252831_-75.5656...|\n",
      "|6.226848|-75.550744|17/06/2024 17:43:16|       1368|Employee_175|               50|074a7666-b263-499...|Comuna 9 - Buenos...|       Bomboná No. 2|6.226848_-75.5507...|\n",
      "|6.263214|-75.565651|17/06/2024 17:43:01|       1419|Employee_117|               49|5add2bcd-514d-409...|Comuna 10 - La Ca...|               Prado|6.263214_-75.5656...|\n",
      "|6.288678|-75.556225|17/06/2024 17:43:17|       1319|Employee_135|               47|929fe8c9-fdcf-4df...| Comuna 4 - Aranjuez|              Berlin|6.288678_-75.5562...|\n",
      "|6.301091|-75.548209|17/06/2024 17:43:02|       1730|Employee_115|               44|941426c8-e0c9-47a...|  Comuna 1 - Popular|             Popular|6.301091_-75.5482...|\n",
      "|6.230978|-75.533582|17/06/2024 17:43:18|       1961|  Employee_9|               50|946061a7-af8c-4ac...|Comuna 9 - Buenos...|    Barrios de Jesús|6.230978_-75.5335...|\n",
      "|6.274511| -75.54669|17/06/2024 17:43:03|       1900| Employee_67|               43|449a0a92-9c6f-494...| Comuna 3 - Manrique|          Santa Inés|6.274511_-75.5466...|\n",
      "|6.252831|-75.565694|17/06/2024 17:43:19|       1663| Employee_11|               42|8c18ed95-5ea9-476...|Comuna 10 - La Ca...|         Villa Nueva|6.252831_-75.5656...|\n",
      "|6.294688|-75.547412|17/06/2024 17:43:04|       1689|Employee_195|               48|4152d1f0-e4c3-49e...|  Comuna 1 - Popular|            Granizal|6.294688_-75.5474...|\n",
      "|6.237547|-75.536549|17/06/2024 17:43:20|       1850| Employee_23|               44|029aa261-7898-47f...|Comuna 8 - Villa ...|         San Antonio|6.237547_-75.5365...|\n",
      "|6.226848|-75.550744|17/06/2024 17:43:05|       1404|Employee_175|               48|50159d4e-f534-4ba...|Comuna 9 - Buenos...|       Bomboná No. 2|6.226848_-75.5507...|\n",
      "|6.229935|-75.556966|17/06/2024 17:43:21|       1287|Employee_165|               46|fdf64792-f2cb-47a...|Comuna 9 - Buenos...|              Loreto|6.229935_-75.5569...|\n",
      "|6.299954|-75.559406|17/06/2024 17:43:06|       1365|Employee_141|               50|cb6a7e38-5935-4b8...| Comuna 5 - Castilla|   Héctor Abad Gómez|6.299954_-75.5594...|\n",
      "| 6.23482| -75.54546|17/06/2024 17:43:22|       1760|Employee_149|               50|a548a392-a806-488...|Comuna 9 - Buenos...|Los Cerros - El V...|6.23482_-75.54546...|\n",
      "|6.250895|-75.564412|17/06/2024 17:43:07|       1417|Employee_193|               50|f19c3060-5722-45c...|Comuna 10 - La Ca...|       La Candelaria|6.250895_-75.5644...|\n",
      "|6.295899|-75.539886|17/06/2024 17:43:23|       1212| Employee_59|               40|3ff8b1d7-ea0c-45b...|  Comuna 1 - Popular|         La Avanzada|6.295899_-75.5398...|\n",
      "|6.300545|-75.563593|17/06/2024 17:43:08|       1573|Employee_179|               50|88791680-178f-420...| Comuna 5 - Castilla|              Boyacá|6.300545_-75.5635...|\n",
      "|6.274861|-75.533979|17/06/2024 17:43:24|       1623|Employee_161|               50|ce1e5e75-52c6-475...| Comuna 3 - Manrique|             La Cruz|6.274861_-75.5339...|\n",
      "|6.233505|-75.539321|17/06/2024 17:43:09|       1747|Employee_103|               50|c2995bf1-43b8-497...|Comuna 8 - Villa ...|          Villa Tina|6.233505_-75.5393...|\n",
      "|6.302827|-75.560455|17/06/2024 17:43:25|       1083| Employee_63|               50|82693763-23e4-4e5...| Comuna 5 - Castilla|   Héctor Abad Gómez|6.302827_-75.5604...|\n",
      "+--------+----------+-------------------+-----------+------------+-----------------+--------------------+--------------------+--------------------+--------------------+\n",
      "only showing top 20 rows\n",
      "\n"
     ]
    }
   ],
   "source": [
    "df1 = df.withColumn(\"store_id\", concat_ws(\"_\", \"latitude\", \"longitude\", \"commune\", \"neighborhood\"))\n",
    "df1.show()"
   ]
  },
  {
   "cell_type": "markdown",
   "id": "64459eba-f543-416b-b276-cfc423d800f1",
   "metadata": {},
   "source": [
    "## Acumulado de ventas por día y tienda"
   ]
  },
  {
   "cell_type": "code",
   "execution_count": 8,
   "id": "b5ec8458-3e19-4338-9295-6426d47017a6",
   "metadata": {},
   "outputs": [
    {
     "name": "stdout",
     "output_type": "stream",
     "text": [
      "+--------+----------+-------------------+-----------+------------+-----------------+--------------------+--------------------+--------------------+--------------------+-------------------+\n",
      "|latitude| longitude|               date|customer_id| employee_id|quantity_products|            order_id|             commune|        neighborhood|            store_id|          timestamp|\n",
      "+--------+----------+-------------------+-----------+------------+-----------------+--------------------+--------------------+--------------------+--------------------+-------------------+\n",
      "|6.252831|-75.565694|17/06/2024 17:42:59|       1516| Employee_11|               48|ed8e3710-f82d-4ed...|Comuna 10 - La Ca...|         Villa Nueva|6.252831_-75.5656...|2024-06-17 17:42:59|\n",
      "|6.226848|-75.550744|17/06/2024 17:43:16|       1368|Employee_175|               50|074a7666-b263-499...|Comuna 9 - Buenos...|       Bomboná No. 2|6.226848_-75.5507...|2024-06-17 17:43:16|\n",
      "|6.263214|-75.565651|17/06/2024 17:43:01|       1419|Employee_117|               49|5add2bcd-514d-409...|Comuna 10 - La Ca...|               Prado|6.263214_-75.5656...|2024-06-17 17:43:01|\n",
      "|6.288678|-75.556225|17/06/2024 17:43:17|       1319|Employee_135|               47|929fe8c9-fdcf-4df...| Comuna 4 - Aranjuez|              Berlin|6.288678_-75.5562...|2024-06-17 17:43:17|\n",
      "|6.301091|-75.548209|17/06/2024 17:43:02|       1730|Employee_115|               44|941426c8-e0c9-47a...|  Comuna 1 - Popular|             Popular|6.301091_-75.5482...|2024-06-17 17:43:02|\n",
      "|6.230978|-75.533582|17/06/2024 17:43:18|       1961|  Employee_9|               50|946061a7-af8c-4ac...|Comuna 9 - Buenos...|    Barrios de Jesús|6.230978_-75.5335...|2024-06-17 17:43:18|\n",
      "|6.274511| -75.54669|17/06/2024 17:43:03|       1900| Employee_67|               43|449a0a92-9c6f-494...| Comuna 3 - Manrique|          Santa Inés|6.274511_-75.5466...|2024-06-17 17:43:03|\n",
      "|6.252831|-75.565694|17/06/2024 17:43:19|       1663| Employee_11|               42|8c18ed95-5ea9-476...|Comuna 10 - La Ca...|         Villa Nueva|6.252831_-75.5656...|2024-06-17 17:43:19|\n",
      "|6.294688|-75.547412|17/06/2024 17:43:04|       1689|Employee_195|               48|4152d1f0-e4c3-49e...|  Comuna 1 - Popular|            Granizal|6.294688_-75.5474...|2024-06-17 17:43:04|\n",
      "|6.237547|-75.536549|17/06/2024 17:43:20|       1850| Employee_23|               44|029aa261-7898-47f...|Comuna 8 - Villa ...|         San Antonio|6.237547_-75.5365...|2024-06-17 17:43:20|\n",
      "|6.226848|-75.550744|17/06/2024 17:43:05|       1404|Employee_175|               48|50159d4e-f534-4ba...|Comuna 9 - Buenos...|       Bomboná No. 2|6.226848_-75.5507...|2024-06-17 17:43:05|\n",
      "|6.229935|-75.556966|17/06/2024 17:43:21|       1287|Employee_165|               46|fdf64792-f2cb-47a...|Comuna 9 - Buenos...|              Loreto|6.229935_-75.5569...|2024-06-17 17:43:21|\n",
      "|6.299954|-75.559406|17/06/2024 17:43:06|       1365|Employee_141|               50|cb6a7e38-5935-4b8...| Comuna 5 - Castilla|   Héctor Abad Gómez|6.299954_-75.5594...|2024-06-17 17:43:06|\n",
      "| 6.23482| -75.54546|17/06/2024 17:43:22|       1760|Employee_149|               50|a548a392-a806-488...|Comuna 9 - Buenos...|Los Cerros - El V...|6.23482_-75.54546...|2024-06-17 17:43:22|\n",
      "|6.250895|-75.564412|17/06/2024 17:43:07|       1417|Employee_193|               50|f19c3060-5722-45c...|Comuna 10 - La Ca...|       La Candelaria|6.250895_-75.5644...|2024-06-17 17:43:07|\n",
      "|6.295899|-75.539886|17/06/2024 17:43:23|       1212| Employee_59|               40|3ff8b1d7-ea0c-45b...|  Comuna 1 - Popular|         La Avanzada|6.295899_-75.5398...|2024-06-17 17:43:23|\n",
      "|6.300545|-75.563593|17/06/2024 17:43:08|       1573|Employee_179|               50|88791680-178f-420...| Comuna 5 - Castilla|              Boyacá|6.300545_-75.5635...|2024-06-17 17:43:08|\n",
      "|6.274861|-75.533979|17/06/2024 17:43:24|       1623|Employee_161|               50|ce1e5e75-52c6-475...| Comuna 3 - Manrique|             La Cruz|6.274861_-75.5339...|2024-06-17 17:43:24|\n",
      "|6.233505|-75.539321|17/06/2024 17:43:09|       1747|Employee_103|               50|c2995bf1-43b8-497...|Comuna 8 - Villa ...|          Villa Tina|6.233505_-75.5393...|2024-06-17 17:43:09|\n",
      "|6.302827|-75.560455|17/06/2024 17:43:25|       1083| Employee_63|               50|82693763-23e4-4e5...| Comuna 5 - Castilla|   Héctor Abad Gómez|6.302827_-75.5604...|2024-06-17 17:43:25|\n",
      "+--------+----------+-------------------+-----------+------------+-----------------+--------------------+--------------------+--------------------+--------------------+-------------------+\n",
      "only showing top 20 rows\n",
      "\n"
     ]
    }
   ],
   "source": [
    "# Convertir la columna 'date' a tipo timestamp\n",
    "df1 = df1.withColumn(\"timestamp\", to_timestamp(col(\"date\"), \"dd/MM/yyyy HH:mm:ss\"))\n",
    "df1.show()"
   ]
  },
  {
   "cell_type": "code",
   "execution_count": 9,
   "id": "bdecbbc4-ff8f-4932-9f55-975610ed8fec",
   "metadata": {},
   "outputs": [
    {
     "name": "stdout",
     "output_type": "stream",
     "text": [
      "+----------+\n",
      "| date_only|\n",
      "+----------+\n",
      "|2024-06-17|\n",
      "|2024-06-17|\n",
      "|2024-06-17|\n",
      "|2024-06-17|\n",
      "|2024-06-17|\n",
      "|2024-06-17|\n",
      "|2024-06-17|\n",
      "|2024-06-17|\n",
      "|2024-06-17|\n",
      "|2024-06-17|\n",
      "|2024-06-17|\n",
      "|2024-06-17|\n",
      "|2024-06-17|\n",
      "|2024-06-17|\n",
      "|2024-06-17|\n",
      "|2024-06-17|\n",
      "|2024-06-17|\n",
      "|2024-06-17|\n",
      "|2024-06-17|\n",
      "|2024-06-17|\n",
      "+----------+\n",
      "only showing top 20 rows\n",
      "\n"
     ]
    }
   ],
   "source": [
    "# Extraer solo la parte de la fecha\n",
    "df1 = df1.withColumn(\"date_only\", date_format(col(\"timestamp\"), \"yyyy-MM-dd\"))\n",
    "df1.select(\"date_only\").show()"
   ]
  },
  {
   "cell_type": "code",
   "execution_count": 10,
   "id": "90917976-15b2-4264-a9e0-d85f19818c63",
   "metadata": {},
   "outputs": [
    {
     "name": "stdout",
     "output_type": "stream",
     "text": [
      "+----------+------------+-----------+\n",
      "| date_only| employee_id|total_sales|\n",
      "+----------+------------+-----------+\n",
      "|2024-06-17| Employee_41|         85|\n",
      "|2024-06-17| Employee_97|        100|\n",
      "|2024-06-17| Employee_89|         50|\n",
      "|2024-06-17|Employee_145|         49|\n",
      "|2024-06-17| Employee_81|         37|\n",
      "|2024-06-17| Employee_95|        136|\n",
      "|2024-06-17|Employee_137|         46|\n",
      "|2024-06-17|  Employee_9|        100|\n",
      "|2024-06-17|Employee_111|         50|\n",
      "|2024-06-17|Employee_105|         83|\n",
      "|2024-06-17|  Employee_7|         88|\n",
      "|2024-06-17|Employee_149|         50|\n",
      "|2024-06-17|Employee_157|         50|\n",
      "|2024-06-17|Employee_163|         50|\n",
      "|2024-06-17| Employee_77|         50|\n",
      "|2024-06-17| Employee_91|         50|\n",
      "|2024-06-17|  Employee_3|         88|\n",
      "|2024-06-17| Employee_85|         50|\n",
      "|2024-06-17| Employee_65|        165|\n",
      "|2024-06-17| Employee_33|         48|\n",
      "+----------+------------+-----------+\n",
      "only showing top 20 rows\n",
      "\n"
     ]
    }
   ],
   "source": [
    "# Agrupar los datos por fecha y vendedor para calcular el total de ventas por vendedor\n",
    "df_seller_aggregated = df1.groupBy(\"date_only\", \"employee_id\") \\\n",
    "    .agg(_sum(\"quantity_products\").alias(\"total_sales\"))\n",
    "df_seller_aggregated.show()"
   ]
  },
  {
   "cell_type": "markdown",
   "id": "680089b4-47cd-4887-8b1e-32543b52cfb8",
   "metadata": {},
   "source": [
    "## Ranking de vendedores diarios"
   ]
  },
  {
   "cell_type": "code",
   "execution_count": 11,
   "id": "727f0d15-d1f8-44dd-b6a3-a11113d653d8",
   "metadata": {},
   "outputs": [
    {
     "name": "stdout",
     "output_type": "stream",
     "text": [
      "+----------+------------+-----------+----+\n",
      "| date_only| employee_id|total_sales|rank|\n",
      "+----------+------------+-----------+----+\n",
      "|2024-06-17|Employee_169|        185|   1|\n",
      "|2024-06-17| Employee_65|        165|   2|\n",
      "|2024-06-17| Employee_63|        150|   3|\n",
      "|2024-06-17| Employee_11|        140|   4|\n",
      "|2024-06-17| Employee_23|        139|   5|\n",
      "|2024-06-17| Employee_95|        136|   6|\n",
      "|2024-06-17| Employee_17|        122|   7|\n",
      "|2024-06-17| Employee_13|        111|   8|\n",
      "|2024-06-17| Employee_97|        100|   9|\n",
      "|2024-06-17|  Employee_9|        100|  10|\n",
      "|2024-06-17|Employee_193|        100|  11|\n",
      "|2024-06-17|Employee_179|        100|  12|\n",
      "|2024-06-17| Employee_75|        100|  13|\n",
      "|2024-06-17| Employee_83|        100|  14|\n",
      "|2024-06-17|Employee_141|        100|  15|\n",
      "|2024-06-17|Employee_175|         98|  16|\n",
      "|2024-06-17| Employee_67|         93|  17|\n",
      "|2024-06-17| Employee_55|         91|  18|\n",
      "|2024-06-17| Employee_43|         90|  19|\n",
      "|2024-06-17|Employee_199|         89|  20|\n",
      "+----------+------------+-----------+----+\n",
      "only showing top 20 rows\n",
      "\n"
     ]
    }
   ],
   "source": [
    "# Crear una ventana para particionar por fecha y ordenar por total de ventas de mayor a menor\n",
    "window_spec = Window.partitionBy(\"date_only\").orderBy(col(\"total_sales\").desc())\n",
    "# Agregar un número de fila para identificar al vendedor con más ventas cada día\n",
    "df_seller_ranked_day = df_seller_aggregated.withColumn(\"rank\", row_number().over(window_spec))\n",
    "df_seller_ranked_day.show()"
   ]
  },
  {
   "cell_type": "markdown",
   "id": "1f773c30-0a4a-4492-9416-31fbc440aa33",
   "metadata": {},
   "source": [
    "## Mayor vendedor del día"
   ]
  },
  {
   "cell_type": "code",
   "execution_count": 12,
   "id": "dba295e9-7c42-4237-b7ea-638da73d1704",
   "metadata": {},
   "outputs": [
    {
     "name": "stdout",
     "output_type": "stream",
     "text": [
      "+----------+------------+-----------+\n",
      "| date_only| employee_id|total_sales|\n",
      "+----------+------------+-----------+\n",
      "|2024-06-17|Employee_169|        185|\n",
      "+----------+------------+-----------+\n",
      "\n"
     ]
    }
   ],
   "source": [
    "# Filtrar para obtener solo el vendedor con más ventas cada día\n",
    "df_top_seller = df_seller_ranked_day.filter(col(\"rank\") == 1).drop(\"rank\")\n",
    "df_top_seller.show()"
   ]
  },
  {
   "cell_type": "markdown",
   "id": "e4834703-2f7c-41b5-b6c2-48663b7ec57c",
   "metadata": {},
   "source": [
    "# Acumulado diario de ventas por tienda"
   ]
  },
  {
   "cell_type": "code",
   "execution_count": 13,
   "id": "393b6e10-6644-4b8e-8cb9-6cb21d90bb91",
   "metadata": {},
   "outputs": [
    {
     "name": "stdout",
     "output_type": "stream",
     "text": [
      "+----------+--------+----------+--------------------+-----------+\n",
      "| date_only|latitude| longitude|            store_id|total_store|\n",
      "+----------+--------+----------+--------------------+-----------+\n",
      "|2024-06-17|6.231016|-75.531541|6.231016_-75.5315...|         50|\n",
      "|2024-06-17|6.221932|-75.528966|6.221932_-75.5289...|         85|\n",
      "|2024-06-17|6.255342|-75.555875|6.255342_-75.5558...|         50|\n",
      "|2024-06-17|6.274861|-75.533979|6.274861_-75.5339...|         50|\n",
      "|2024-06-17| 6.31383|-75.556608|6.31383_-75.55660...|         37|\n",
      "|2024-06-17|6.250895|-75.564412|6.250895_-75.5644...|        100|\n",
      "|2024-06-17| 6.23482| -75.54546|6.23482_-75.54546...|         50|\n",
      "|2024-06-17|6.263214|-75.565651|6.263214_-75.5656...|         87|\n",
      "|2024-06-17| 6.22135|-75.548236|6.22135_-75.54823...|         82|\n",
      "|2024-06-17|6.268129|-75.532389|6.268129_-75.5323...|         50|\n",
      "|2024-06-17|6.269597|-75.531581|6.269597_-75.5315...|        122|\n",
      "|2024-06-17|6.271556| -75.54339|6.271556_-75.5433...|         45|\n",
      "|2024-06-17|6.295899|-75.539886|6.295899_-75.5398...|         40|\n",
      "|2024-06-17|6.229471|-75.556631|6.229471_-75.5566...|         50|\n",
      "|2024-06-17|6.298354|-75.564556|6.298354_-75.5645...|         38|\n",
      "|2024-06-17|6.237547|-75.536549|6.237547_-75.5365...|        139|\n",
      "|2024-06-17|6.233505|-75.539321|6.233505_-75.5393...|         78|\n",
      "|2024-06-17|6.240547|-75.537934|6.240547_-75.5379...|        100|\n",
      "|2024-06-17|6.263089|-75.562475|6.263089_-75.5624...|         50|\n",
      "|2024-06-17|6.252563|-75.538641|6.252563_-75.5386...|         50|\n",
      "+----------+--------+----------+--------------------+-----------+\n",
      "only showing top 20 rows\n",
      "\n"
     ]
    }
   ],
   "source": [
    "# Agrupar los datos por fecha y tienda para calcular el total de ventas en esa tienda\n",
    "df_store_aggregated = df1.groupBy(\"date_only\", \"latitude\", \"longitude\", \"store_id\") \\\n",
    "    .agg(_sum(\"quantity_products\").alias(\"total_store\"))\n",
    "df_store_aggregated.show()"
   ]
  },
  {
   "cell_type": "code",
   "execution_count": 14,
   "id": "a3807387-27b7-49f5-8c2e-31f492669f2e",
   "metadata": {},
   "outputs": [
    {
     "name": "stdout",
     "output_type": "stream",
     "text": [
      "+----------+--------+----------+--------------------+-----------+----+\n",
      "| date_only|latitude| longitude|            store_id|total_store|rank|\n",
      "+----------+--------+----------+--------------------+-----------+----+\n",
      "|2024-06-17| 6.23618|-75.557692|6.23618_-75.55769...|        185|   1|\n",
      "|2024-06-17|6.226864| -75.52891|6.226864_-75.5289...|        165|   2|\n",
      "|2024-06-17|6.302827|-75.560455|6.302827_-75.5604...|        150|   3|\n",
      "|2024-06-17|6.252831|-75.565694|6.252831_-75.5656...|        140|   4|\n",
      "|2024-06-17|6.237547|-75.536549|6.237547_-75.5365...|        139|   5|\n",
      "|2024-06-17|6.251305|-75.539935|6.251305_-75.5399...|        136|   6|\n",
      "|2024-06-17|6.269597|-75.531581|6.269597_-75.5315...|        122|   7|\n",
      "|2024-06-17|6.299064|-75.545337|6.299064_-75.5453...|        111|   8|\n",
      "|2024-06-17|6.250895|-75.564412|6.250895_-75.5644...|        100|   9|\n",
      "|2024-06-17|6.240547|-75.537934|6.240547_-75.5379...|        100|  10|\n",
      "|2024-06-17|6.241721|-75.544554|6.241721_-75.5445...|        100|  11|\n",
      "|2024-06-17|6.300545|-75.563593|6.300545_-75.5635...|        100|  12|\n",
      "|2024-06-17|6.267149|-75.539398|6.267149_-75.5393...|        100|  13|\n",
      "|2024-06-17|6.230978|-75.533582|6.230978_-75.5335...|        100|  14|\n",
      "|2024-06-17|6.299954|-75.559406|6.299954_-75.5594...|        100|  15|\n",
      "|2024-06-17|6.226848|-75.550744|6.226848_-75.5507...|         98|  16|\n",
      "|2024-06-17|6.274511| -75.54669|6.274511_-75.5466...|         93|  17|\n",
      "|2024-06-17|6.304733|-75.563183|6.304733_-75.5631...|         91|  18|\n",
      "|2024-06-17|6.296513|-75.565534|6.296513_-75.5655...|         90|  19|\n",
      "|2024-06-17|6.255721|-75.560525|6.255721_-75.5605...|         89|  20|\n",
      "+----------+--------+----------+--------------------+-----------+----+\n",
      "only showing top 20 rows\n",
      "\n"
     ]
    }
   ],
   "source": [
    "# Crear una ventana para particionar por fecha y ordenar por total de ventas de mayor a menor en cada tienda\n",
    "window_spec2 = Window.partitionBy(\"date_only\").orderBy(col(\"total_store\").desc())\n",
    "# Agregar un número de fila para identificar la tienda con más ventas cada día\n",
    "df_store_ranked_day = df_store_aggregated.withColumn(\"rank\", row_number().over(window_spec2))\n",
    "df_store_ranked_day.show()"
   ]
  },
  {
   "cell_type": "markdown",
   "id": "e903c7c9-675f-4f00-a001-d1301965d128",
   "metadata": {},
   "source": [
    "## Guardar resultados"
   ]
  },
  {
   "cell_type": "code",
   "execution_count": 15,
   "id": "764c17b1-3654-4684-9225-5334a2cba8b2",
   "metadata": {},
   "outputs": [
    {
     "name": "stderr",
     "output_type": "stream",
     "text": [
      "                                                                                \r"
     ]
    }
   ],
   "source": [
    "df_seller_ranked_day.write.parquet(\"/datalake/gold/df_seller_ranked_day\")\n",
    "df_store_ranked_day.write.parquet(\"/datalake/gold/df_store_ranked_day\")"
   ]
  },
  {
   "cell_type": "code",
   "execution_count": 16,
   "id": "d98f1129-ce5b-4cb3-9945-911ef75f63c8",
   "metadata": {},
   "outputs": [
    {
     "name": "stdout",
     "output_type": "stream",
     "text": [
      "+----------+------------+-----------+----+\n",
      "| date_only| employee_id|total_sales|rank|\n",
      "+----------+------------+-----------+----+\n",
      "|2024-06-17|Employee_169|        185|   1|\n",
      "|2024-06-17| Employee_65|        165|   2|\n",
      "|2024-06-17| Employee_63|        150|   3|\n",
      "|2024-06-17| Employee_11|        140|   4|\n",
      "|2024-06-17| Employee_23|        139|   5|\n",
      "|2024-06-17| Employee_95|        136|   6|\n",
      "|2024-06-17| Employee_17|        122|   7|\n",
      "|2024-06-17| Employee_13|        111|   8|\n",
      "|2024-06-17| Employee_97|        100|   9|\n",
      "|2024-06-17|  Employee_9|        100|  10|\n",
      "|2024-06-17|Employee_193|        100|  11|\n",
      "|2024-06-17|Employee_179|        100|  12|\n",
      "|2024-06-17| Employee_75|        100|  13|\n",
      "|2024-06-17| Employee_83|        100|  14|\n",
      "|2024-06-17|Employee_141|        100|  15|\n",
      "|2024-06-17|Employee_175|         98|  16|\n",
      "|2024-06-17| Employee_67|         93|  17|\n",
      "|2024-06-17| Employee_55|         91|  18|\n",
      "|2024-06-17| Employee_43|         90|  19|\n",
      "|2024-06-17|Employee_199|         89|  20|\n",
      "+----------+------------+-----------+----+\n",
      "only showing top 20 rows\n",
      "\n"
     ]
    }
   ],
   "source": [
    "df3 = spark.read.parquet(\"/datalake/gold/df_seller_ranked_day\")\n",
    "df3.show()"
   ]
  },
  {
   "cell_type": "code",
   "execution_count": 17,
   "id": "979b00be-1c7c-4db2-a64f-0f295695ffe0",
   "metadata": {},
   "outputs": [
    {
     "name": "stdout",
     "output_type": "stream",
     "text": [
      "+----------+--------+----------+--------------------+-----------+----+\n",
      "| date_only|latitude| longitude|            store_id|total_store|rank|\n",
      "+----------+--------+----------+--------------------+-----------+----+\n",
      "|2024-06-17| 6.23618|-75.557692|6.23618_-75.55769...|        185|   1|\n",
      "|2024-06-17|6.226864| -75.52891|6.226864_-75.5289...|        165|   2|\n",
      "|2024-06-17|6.302827|-75.560455|6.302827_-75.5604...|        150|   3|\n",
      "|2024-06-17|6.252831|-75.565694|6.252831_-75.5656...|        140|   4|\n",
      "|2024-06-17|6.237547|-75.536549|6.237547_-75.5365...|        139|   5|\n",
      "|2024-06-17|6.251305|-75.539935|6.251305_-75.5399...|        136|   6|\n",
      "|2024-06-17|6.269597|-75.531581|6.269597_-75.5315...|        122|   7|\n",
      "|2024-06-17|6.299064|-75.545337|6.299064_-75.5453...|        111|   8|\n",
      "|2024-06-17|6.250895|-75.564412|6.250895_-75.5644...|        100|   9|\n",
      "|2024-06-17|6.240547|-75.537934|6.240547_-75.5379...|        100|  10|\n",
      "|2024-06-17|6.241721|-75.544554|6.241721_-75.5445...|        100|  11|\n",
      "|2024-06-17|6.300545|-75.563593|6.300545_-75.5635...|        100|  12|\n",
      "|2024-06-17|6.267149|-75.539398|6.267149_-75.5393...|        100|  13|\n",
      "|2024-06-17|6.230978|-75.533582|6.230978_-75.5335...|        100|  14|\n",
      "|2024-06-17|6.299954|-75.559406|6.299954_-75.5594...|        100|  15|\n",
      "|2024-06-17|6.226848|-75.550744|6.226848_-75.5507...|         98|  16|\n",
      "|2024-06-17|6.274511| -75.54669|6.274511_-75.5466...|         93|  17|\n",
      "|2024-06-17|6.304733|-75.563183|6.304733_-75.5631...|         91|  18|\n",
      "|2024-06-17|6.296513|-75.565534|6.296513_-75.5655...|         90|  19|\n",
      "|2024-06-17|6.255721|-75.560525|6.255721_-75.5605...|         89|  20|\n",
      "+----------+--------+----------+--------------------+-----------+----+\n",
      "only showing top 20 rows\n",
      "\n"
     ]
    }
   ],
   "source": [
    "df4 = spark.read.parquet(\"/datalake/gold/df_store_ranked_day\")\n",
    "df4.show()"
   ]
  },
  {
   "cell_type": "code",
   "execution_count": 18,
   "id": "56628456-d139-4dd7-813f-444d1d682df7",
   "metadata": {},
   "outputs": [],
   "source": [
    "# df = df.withColumn(\"result\", calcular_comuna_udf(df[\"latitude\"], df[\"longitude\"]))\n",
    "# df = df.select(\"*\", \"result.*\").drop(\"result\")\n",
    "\n",
    "# df = df.withColumn(\"date\", to_timestamp(df[\"date\"], \"dd/MM/yyyy HH:mm:ss\"))\n",
    "# df = df.withColumn(\"day\", dayofmonth(df[\"date\"]))\\\n",
    "#        .withColumn(\"month\", month(df[\"date\"]))\\\n",
    "#        .withColumn(\"year\", year(df[\"date\"]))\\\n",
    "#        .withColumn(\"hour\", hour(df[\"date\"]))\\\n",
    "#        .withColumn(\"minute\", minute(df[\"date\"]))\\\n",
    "#        .withColumn(\"second\", second(df[\"date\"]))\n",
    "\n",
    "# date_now = datetime.now(pytz.timezone('America/Bogota')).strftime(\"%d%m%Y_%H%M%S\")\n",
    "# path_write = f\"/datalake/silver/stagging/{date_now}\"\n",
    "\n",
    "\n",
    "# df.write.parquet(path_write)\n",
    "\n",
    "# for name in file_names:\n",
    "#     if \".parquet\" in name:\n",
    "#         command = f\"hadoop fs -mv {name} /datalake/raw/ingested\"\n",
    "#         subprocess.run(command, shell=True, check=True)\n",
    "        \n",
    "# for commit in commits_names:\n",
    "#     if (commit != \"items\" and commit != \"\"):\n",
    "#         command = f\"hadoop fs -rm -r {commit}\"\n",
    "#         subprocess.run(command, shell=True, check=True)\n",
    "        \n",
    "# for offset in offsets_names:\n",
    "#     if (offset != \"items\" and offset != \"\"):\n",
    "#         command = f\"hadoop fs -rm -r {offset}\"\n",
    "#         subprocess.run(command, shell=True, check=True)\n",
    "        \n",
    "# for meta in metadata_names:\n",
    "#     if (meta != \"items\" and meta != \"\"):\n",
    "#         command = f\"hadoop fs -rm -r {meta}\"\n",
    "#         subprocess.run(command, shell=True, check=True)"
   ]
  }
 ],
 "metadata": {
  "kernelspec": {
   "display_name": "Python 3 (ipykernel)",
   "language": "python",
   "name": "python3"
  },
  "language_info": {
   "codemirror_mode": {
    "name": "ipython",
    "version": 3
   },
   "file_extension": ".py",
   "mimetype": "text/x-python",
   "name": "python",
   "nbconvert_exporter": "python",
   "pygments_lexer": "ipython3",
   "version": "3.8.10"
  }
 },
 "nbformat": 4,
 "nbformat_minor": 5
}
