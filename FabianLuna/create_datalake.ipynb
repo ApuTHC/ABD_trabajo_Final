{
 "cells": [
  {
   "cell_type": "code",
   "execution_count": 2,
   "id": "2b9bd07a-b429-4b5c-bc4f-74228bf4221b",
   "metadata": {},
   "outputs": [],
   "source": [
    "!hdfs dfs -mkdir -p /datalake/raw/stagging\n",
    "!hdfs dfs -mkdir -p /datalake/raw/ingested\n",
    "!hdfs dfs -mkdir -p /datalake/silver/stagging\n",
    "!hdfs dfs -mkdir -p /datalake/silver/ingested\n",
    "!hdfs dfs -mkdir -p /datalake/gold"
   ]
  }
 ],
 "metadata": {
  "kernelspec": {
   "display_name": "Python 3 (ipykernel)",
   "language": "python",
   "name": "python3"
  },
  "language_info": {
   "codemirror_mode": {
    "name": "ipython",
    "version": 3
   },
   "file_extension": ".py",
   "mimetype": "text/x-python",
   "name": "python",
   "nbconvert_exporter": "python",
   "pygments_lexer": "ipython3",
   "version": "3.8.10"
  }
 },
 "nbformat": 4,
 "nbformat_minor": 5
}
