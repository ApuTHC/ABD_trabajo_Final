{
 "cells": [
  {
   "cell_type": "markdown",
   "id": "4b65f9d2-8c9a-4533-a060-07266375404f",
   "metadata": {},
   "source": [
    "# Creación de directorios en hdfs"
   ]
  },
  {
   "cell_type": "code",
   "execution_count": 1,
   "id": "49d72bcf-b43a-4c00-883b-e2357509a166",
   "metadata": {},
   "outputs": [],
   "source": [
    "!hdfs dfs -mkdir -p /datalake/raw/stagging\n",
    "!hdfs dfs -mkdir -p /datalake/raw/ingested\n",
    "!hdfs dfs -mkdir -p /datalake/silver/stagging\n",
    "!hdfs dfs -mkdir -p /datalake/silver/ingested\n",
    "!hdfs dfs -mkdir -p /datalake/gold"
   ]
  },
  {
   "cell_type": "code",
   "execution_count": 2,
   "id": "16130f17-ada6-43da-8d59-f275ef7032dc",
   "metadata": {},
   "outputs": [],
   "source": [
    "# !hdfs dfs -ls /datalake/raw/stagging"
   ]
  }
 ],
 "metadata": {
  "kernelspec": {
   "display_name": "Python 3 (ipykernel)",
   "language": "python",
   "name": "python3"
  },
  "language_info": {
   "codemirror_mode": {
    "name": "ipython",
    "version": 3
   },
   "file_extension": ".py",
   "mimetype": "text/x-python",
   "name": "python",
   "nbconvert_exporter": "python",
   "pygments_lexer": "ipython3",
   "version": "3.8.10"
  }
 },
 "nbformat": 4,
 "nbformat_minor": 5
}
