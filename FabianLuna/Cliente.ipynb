{
 "cells": [
  {
   "cell_type": "code",
   "execution_count": 7,
   "id": "3a932d73-44d1-48ad-be83-2dc7a112a0c8",
   "metadata": {},
   "outputs": [
    {
     "name": "stdout",
     "output_type": "stream",
     "text": [
      "Connected to server\n",
      "Closed connection...\n"
     ]
    }
   ],
   "source": [
    "import socket\n",
    "\n",
    "def cliente():\n",
    "    host = 'localhost'\n",
    "    port = 5555\n",
    "\n",
    "    s = socket.socket()\n",
    "    s.connect((host, port))\n",
    "    print(\"Connected to server\")\n",
    "\n",
    "    try:\n",
    "        while True:\n",
    "            # Aquí puedes implementar la lógica para recibir datos del servidor si es necesario\n",
    "            pass\n",
    "\n",
    "    except KeyboardInterrupt:\n",
    "        print(\"Closed connection...\")\n",
    "        s.close()\n",
    "\n",
    "if __name__ == \"__main__\":\n",
    "    cliente()"
   ]
  }
 ],
 "metadata": {
  "kernelspec": {
   "display_name": "Python 3 (ipykernel)",
   "language": "python",
   "name": "python3"
  },
  "language_info": {
   "codemirror_mode": {
    "name": "ipython",
    "version": 3
   },
   "file_extension": ".py",
   "mimetype": "text/x-python",
   "name": "python",
   "nbconvert_exporter": "python",
   "pygments_lexer": "ipython3",
   "version": "3.8.10"
  }
 },
 "nbformat": 4,
 "nbformat_minor": 5
}
