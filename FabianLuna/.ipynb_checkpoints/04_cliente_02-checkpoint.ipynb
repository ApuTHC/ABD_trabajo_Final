{
 "cells": [
  {
   "cell_type": "markdown",
   "id": "7490f7ae-5b0f-4cc5-8542-a4857dd07169",
   "metadata": {},
   "source": [
    "# Spark - Escritura"
   ]
  },
  {
   "cell_type": "code",
   "execution_count": 1,
   "id": "618708ba-d8d7-4f2c-af28-14f94a177d3f",
   "metadata": {},
   "outputs": [],
   "source": [
    "# pip install turfpy"
   ]
  },
  {
   "cell_type": "code",
   "execution_count": 2,
   "id": "8c1b65b5-2cbb-43ce-9d70-92816532e0fb",
   "metadata": {},
   "outputs": [],
   "source": [
    "from pyspark.sql import SparkSession\n",
    "from pyspark.sql.window import Window\n",
    "import json\n",
    "from turfpy.measurement import boolean_point_in_polygon\n",
    "from geojson import Point, Feature\n",
    "import subprocess\n",
    "import uuid\n",
    "from datetime import datetime\n",
    "import pytz\n",
    "from pyspark.sql.functions import sum as _sum, max as _max, concat_ws, col, udf, to_timestamp, year, month, dayofmonth, hour, minute, second, to_date, date_format, row_number, desc\n",
    "from pyspark.sql.types import StructType, StructField, IntegerType, StringType"
   ]
  },
  {
   "cell_type": "markdown",
   "id": "a871f951-5e57-49fd-b214-2a14960b6799",
   "metadata": {},
   "source": [
    "## Spark session"
   ]
  },
  {
   "cell_type": "code",
   "execution_count": 3,
   "id": "5769eabc-d7ac-40b7-9387-a4c41d59b053",
   "metadata": {},
   "outputs": [
    {
     "name": "stderr",
     "output_type": "stream",
     "text": [
      "Setting default log level to \"WARN\".\n",
      "To adjust logging level use sc.setLogLevel(newLevel). For SparkR, use setLogLevel(newLevel).\n"
     ]
    }
   ],
   "source": [
    "spark = SparkSession.builder.appName(\"DataProcessing\").getOrCreate()"
   ]
  },
  {
   "cell_type": "markdown",
   "id": "87570e91-621b-4f17-a22a-48147ba8e945",
   "metadata": {},
   "source": [
    "# Parquet"
   ]
  },
  {
   "cell_type": "code",
   "execution_count": 4,
   "id": "66776b20-f6c7-483e-ad88-5b671e45e9e7",
   "metadata": {},
   "outputs": [],
   "source": [
    "df = spark.read.parquet(\"/datalake/raw/stagging\")"
   ]
  },
  {
   "cell_type": "code",
   "execution_count": 5,
   "id": "6b6e0143-c1ca-43ac-a054-4989efbc4301",
   "metadata": {},
   "outputs": [
    {
     "name": "stdout",
     "output_type": "stream",
     "text": [
      "+--------+----------+-------------------+-----------+------------+-----------------+--------------------+--------------------+------------------+\n",
      "|latitude| longitude|               date|customer_id| employee_id|quantity_products|            order_id|             commune|      neighborhood|\n",
      "+--------+----------+-------------------+-----------+------------+-----------------+--------------------+--------------------+------------------+\n",
      "|6.240851|-75.564423|17/06/2024 17:04:00|       1380| Employee_91|               39|5e943afa-9b6d-41e...|Comuna 10 - La Ca...|     Bomboná No. 1|\n",
      "|6.226864| -75.52891|17/06/2024 17:04:16|       1679| Employee_65|               48|6ae6f0a7-f6b8-4aa...|Comuna 9 - Buenos...|     Ocho de Marzo|\n",
      "|6.295899|-75.539886|17/06/2024 17:04:01|       1826| Employee_59|               41|5ad91aab-7a9b-49f...|  Comuna 1 - Popular|       La Avanzada|\n",
      "|6.243185|-75.533776|17/06/2024 17:04:17|       1402|Employee_177|               50|6a3749d7-5a76-4a8...|Comuna 8 - Villa ...|  Esfuerzos de Paz|\n",
      "|6.298354|-75.564556|17/06/2024 17:04:02|       1732| Employee_71|               46|14a651f3-7346-4cd...| Comuna 5 - Castilla|        Villa Niza|\n",
      "|6.252563|-75.538641|17/06/2024 17:04:18|       1619| Employee_89|               16|7f789cf4-363c-4c6...|Comuna 8 - Villa ...|        Llanaditas|\n",
      "|6.256553|-75.552019|17/06/2024 17:04:03|       1234|  Employee_7|               50|e5e5ac0c-38e4-497...|Comuna 8 - Villa ...|     Villa Hermosa|\n",
      "| 6.26349|-75.533003|17/06/2024 17:04:19|       1271| Employee_19|               47|f6dec8a9-8942-4f7...| Comuna 3 - Manrique|   Versalles No. 2|\n",
      "|6.251305|-75.539935|17/06/2024 17:04:04|       1691| Employee_95|               35|45dbc276-e7b8-4bc...|Comuna 8 - Villa ...|        Llanaditas|\n",
      "|6.255721|-75.560525|17/06/2024 17:04:20|       1580|Employee_199|               18|a6d3d55d-9f65-4fb...|Comuna 8 - Villa ...|        San Miguel|\n",
      "|6.273109|-75.563901|17/06/2024 17:04:05|       1559|  Employee_5|               50|acb5b36c-cba5-417...| Comuna 4 - Aranjuez|           Miranda|\n",
      "|6.240886|  -75.5567|17/06/2024 17:04:21|       1698|Employee_125|               44|caae4ae5-dfd0-4e2...|Comuna 9 - Buenos...|      Buenos Aires|\n",
      "| 6.26349|-75.533003|17/06/2024 17:04:06|       1944| Employee_19|               32|acc5040b-b062-440...| Comuna 3 - Manrique|   Versalles No. 2|\n",
      "|6.241721|-75.544554|17/06/2024 17:04:22|       1699| Employee_83|               38|5ca05479-755d-483...|Comuna 8 - Villa ...|       La Libertad|\n",
      "|6.230866|-75.530405|17/06/2024 17:04:07|       1353| Employee_81|               29|e29b1c74-e088-42a...|Comuna 8 - Villa ...|     Las Estancias|\n",
      "|6.227021|-75.554104|17/06/2024 17:04:23|       1477|Employee_159|               45|1ae133f4-734d-486...|Comuna 9 - Buenos...|La Asomadera No. 3|\n",
      "| 6.31383|-75.556608|17/06/2024 17:04:08|       1953| Employee_45|               47|f53f1b43-54f1-471...| Comuna 5 - Castilla|        La Florida|\n",
      "|6.271556| -75.54339|17/06/2024 17:04:24|       1058|Employee_155|               36|7cb685e6-9ec9-49b...| Comuna 3 - Manrique|           La Cruz|\n",
      "|6.272453|-75.542127|17/06/2024 17:04:09|       1294|Employee_139|               41|d8dfe712-896c-44e...| Comuna 3 - Manrique|           Oriente|\n",
      "|6.302827|-75.560455|17/06/2024 17:04:25|       1206| Employee_63|               50|8fb9d14a-8527-486...| Comuna 5 - Castilla| Héctor Abad Gómez|\n",
      "+--------+----------+-------------------+-----------+------------+-----------------+--------------------+--------------------+------------------+\n",
      "only showing top 20 rows\n",
      "\n"
     ]
    },
    {
     "data": {
      "text/plain": [
       "5936"
      ]
     },
     "execution_count": 5,
     "metadata": {},
     "output_type": "execute_result"
    }
   ],
   "source": [
    "df.show()\n",
    "df.count()"
   ]
  },
  {
   "cell_type": "markdown",
   "id": "8ee561c9-6576-42d9-869e-4b8a9ce39684",
   "metadata": {},
   "source": [
    "## hadoop"
   ]
  },
  {
   "cell_type": "code",
   "execution_count": 6,
   "id": "cce7d6a1-6bf7-4236-abc6-76188f4de110",
   "metadata": {},
   "outputs": [],
   "source": [
    "command = \"hadoop fs -ls /datalake/raw/stagging | awk '{print $NF}'\"\n",
    "file_names = subprocess.check_output(command, shell=True).decode().split('\\n')\n",
    "\n",
    "command = \"hadoop fs -ls /checkpoints/commits | awk '{print $NF}'\"\n",
    "commits_names = subprocess.check_output(command, shell=True).decode().split('\\n')\n",
    "\n",
    "command = \"hadoop fs -ls /checkpoints/offsets | awk '{print $NF}'\"\n",
    "offsets_names = subprocess.check_output(command, shell=True).decode().split('\\n')\n",
    "\n",
    "command = \"hadoop fs -ls /datalake/raw/stagging/_spark_metadata | awk '{print $NF}'\"\n",
    "metadata_names = subprocess.check_output(command, shell=True).decode().split('\\n')"
   ]
  },
  {
   "cell_type": "markdown",
   "id": "5bed3982-1f68-47fc-9421-2f43eb4577ee",
   "metadata": {},
   "source": [
    "## Identificador de cada tienda\n",
    "Se crea un store ID para cada tienda teniendo en cuenta: \"latitude\", \"longitude\", \"commune\" y \"neighborhood\""
   ]
  },
  {
   "cell_type": "code",
   "execution_count": 7,
   "id": "173792a9-5831-449b-b5ee-ea1f2987dd75",
   "metadata": {},
   "outputs": [
    {
     "name": "stdout",
     "output_type": "stream",
     "text": [
      "+--------+----------+-------------------+-----------+------------+-----------------+--------------------+--------------------+------------------+--------------------+\n",
      "|latitude| longitude|               date|customer_id| employee_id|quantity_products|            order_id|             commune|      neighborhood|            store_id|\n",
      "+--------+----------+-------------------+-----------+------------+-----------------+--------------------+--------------------+------------------+--------------------+\n",
      "|6.240851|-75.564423|17/06/2024 17:04:00|       1380| Employee_91|               39|5e943afa-9b6d-41e...|Comuna 10 - La Ca...|     Bomboná No. 1|6.240851_-75.5644...|\n",
      "|6.226864| -75.52891|17/06/2024 17:04:16|       1679| Employee_65|               48|6ae6f0a7-f6b8-4aa...|Comuna 9 - Buenos...|     Ocho de Marzo|6.226864_-75.5289...|\n",
      "|6.295899|-75.539886|17/06/2024 17:04:01|       1826| Employee_59|               41|5ad91aab-7a9b-49f...|  Comuna 1 - Popular|       La Avanzada|6.295899_-75.5398...|\n",
      "|6.243185|-75.533776|17/06/2024 17:04:17|       1402|Employee_177|               50|6a3749d7-5a76-4a8...|Comuna 8 - Villa ...|  Esfuerzos de Paz|6.243185_-75.5337...|\n",
      "|6.298354|-75.564556|17/06/2024 17:04:02|       1732| Employee_71|               46|14a651f3-7346-4cd...| Comuna 5 - Castilla|        Villa Niza|6.298354_-75.5645...|\n",
      "|6.252563|-75.538641|17/06/2024 17:04:18|       1619| Employee_89|               16|7f789cf4-363c-4c6...|Comuna 8 - Villa ...|        Llanaditas|6.252563_-75.5386...|\n",
      "|6.256553|-75.552019|17/06/2024 17:04:03|       1234|  Employee_7|               50|e5e5ac0c-38e4-497...|Comuna 8 - Villa ...|     Villa Hermosa|6.256553_-75.5520...|\n",
      "| 6.26349|-75.533003|17/06/2024 17:04:19|       1271| Employee_19|               47|f6dec8a9-8942-4f7...| Comuna 3 - Manrique|   Versalles No. 2|6.26349_-75.53300...|\n",
      "|6.251305|-75.539935|17/06/2024 17:04:04|       1691| Employee_95|               35|45dbc276-e7b8-4bc...|Comuna 8 - Villa ...|        Llanaditas|6.251305_-75.5399...|\n",
      "|6.255721|-75.560525|17/06/2024 17:04:20|       1580|Employee_199|               18|a6d3d55d-9f65-4fb...|Comuna 8 - Villa ...|        San Miguel|6.255721_-75.5605...|\n",
      "|6.273109|-75.563901|17/06/2024 17:04:05|       1559|  Employee_5|               50|acb5b36c-cba5-417...| Comuna 4 - Aranjuez|           Miranda|6.273109_-75.5639...|\n",
      "|6.240886|  -75.5567|17/06/2024 17:04:21|       1698|Employee_125|               44|caae4ae5-dfd0-4e2...|Comuna 9 - Buenos...|      Buenos Aires|6.240886_-75.5567...|\n",
      "| 6.26349|-75.533003|17/06/2024 17:04:06|       1944| Employee_19|               32|acc5040b-b062-440...| Comuna 3 - Manrique|   Versalles No. 2|6.26349_-75.53300...|\n",
      "|6.241721|-75.544554|17/06/2024 17:04:22|       1699| Employee_83|               38|5ca05479-755d-483...|Comuna 8 - Villa ...|       La Libertad|6.241721_-75.5445...|\n",
      "|6.230866|-75.530405|17/06/2024 17:04:07|       1353| Employee_81|               29|e29b1c74-e088-42a...|Comuna 8 - Villa ...|     Las Estancias|6.230866_-75.5304...|\n",
      "|6.227021|-75.554104|17/06/2024 17:04:23|       1477|Employee_159|               45|1ae133f4-734d-486...|Comuna 9 - Buenos...|La Asomadera No. 3|6.227021_-75.5541...|\n",
      "| 6.31383|-75.556608|17/06/2024 17:04:08|       1953| Employee_45|               47|f53f1b43-54f1-471...| Comuna 5 - Castilla|        La Florida|6.31383_-75.55660...|\n",
      "|6.271556| -75.54339|17/06/2024 17:04:24|       1058|Employee_155|               36|7cb685e6-9ec9-49b...| Comuna 3 - Manrique|           La Cruz|6.271556_-75.5433...|\n",
      "|6.272453|-75.542127|17/06/2024 17:04:09|       1294|Employee_139|               41|d8dfe712-896c-44e...| Comuna 3 - Manrique|           Oriente|6.272453_-75.5421...|\n",
      "|6.302827|-75.560455|17/06/2024 17:04:25|       1206| Employee_63|               50|8fb9d14a-8527-486...| Comuna 5 - Castilla| Héctor Abad Gómez|6.302827_-75.5604...|\n",
      "+--------+----------+-------------------+-----------+------------+-----------------+--------------------+--------------------+------------------+--------------------+\n",
      "only showing top 20 rows\n",
      "\n"
     ]
    }
   ],
   "source": [
    "df1 = df.withColumn(\"store_id\", concat_ws(\"_\", \"latitude\", \"longitude\", \"commune\", \"neighborhood\"))\n",
    "df1.show()"
   ]
  },
  {
   "cell_type": "markdown",
   "id": "64459eba-f543-416b-b276-cfc423d800f1",
   "metadata": {},
   "source": [
    "## Acumulado de ventas por día y tienda"
   ]
  },
  {
   "cell_type": "code",
   "execution_count": 8,
   "id": "b5ec8458-3e19-4338-9295-6426d47017a6",
   "metadata": {},
   "outputs": [
    {
     "name": "stdout",
     "output_type": "stream",
     "text": [
      "+--------+----------+-------------------+-----------+------------+-----------------+--------------------+--------------------+------------------+--------------------+-------------------+\n",
      "|latitude| longitude|               date|customer_id| employee_id|quantity_products|            order_id|             commune|      neighborhood|            store_id|          timestamp|\n",
      "+--------+----------+-------------------+-----------+------------+-----------------+--------------------+--------------------+------------------+--------------------+-------------------+\n",
      "|6.240851|-75.564423|17/06/2024 17:04:00|       1380| Employee_91|               39|5e943afa-9b6d-41e...|Comuna 10 - La Ca...|     Bomboná No. 1|6.240851_-75.5644...|2024-06-17 17:04:00|\n",
      "|6.226864| -75.52891|17/06/2024 17:04:16|       1679| Employee_65|               48|6ae6f0a7-f6b8-4aa...|Comuna 9 - Buenos...|     Ocho de Marzo|6.226864_-75.5289...|2024-06-17 17:04:16|\n",
      "|6.295899|-75.539886|17/06/2024 17:04:01|       1826| Employee_59|               41|5ad91aab-7a9b-49f...|  Comuna 1 - Popular|       La Avanzada|6.295899_-75.5398...|2024-06-17 17:04:01|\n",
      "|6.243185|-75.533776|17/06/2024 17:04:17|       1402|Employee_177|               50|6a3749d7-5a76-4a8...|Comuna 8 - Villa ...|  Esfuerzos de Paz|6.243185_-75.5337...|2024-06-17 17:04:17|\n",
      "|6.298354|-75.564556|17/06/2024 17:04:02|       1732| Employee_71|               46|14a651f3-7346-4cd...| Comuna 5 - Castilla|        Villa Niza|6.298354_-75.5645...|2024-06-17 17:04:02|\n",
      "|6.252563|-75.538641|17/06/2024 17:04:18|       1619| Employee_89|               16|7f789cf4-363c-4c6...|Comuna 8 - Villa ...|        Llanaditas|6.252563_-75.5386...|2024-06-17 17:04:18|\n",
      "|6.256553|-75.552019|17/06/2024 17:04:03|       1234|  Employee_7|               50|e5e5ac0c-38e4-497...|Comuna 8 - Villa ...|     Villa Hermosa|6.256553_-75.5520...|2024-06-17 17:04:03|\n",
      "| 6.26349|-75.533003|17/06/2024 17:04:19|       1271| Employee_19|               47|f6dec8a9-8942-4f7...| Comuna 3 - Manrique|   Versalles No. 2|6.26349_-75.53300...|2024-06-17 17:04:19|\n",
      "|6.251305|-75.539935|17/06/2024 17:04:04|       1691| Employee_95|               35|45dbc276-e7b8-4bc...|Comuna 8 - Villa ...|        Llanaditas|6.251305_-75.5399...|2024-06-17 17:04:04|\n",
      "|6.255721|-75.560525|17/06/2024 17:04:20|       1580|Employee_199|               18|a6d3d55d-9f65-4fb...|Comuna 8 - Villa ...|        San Miguel|6.255721_-75.5605...|2024-06-17 17:04:20|\n",
      "|6.273109|-75.563901|17/06/2024 17:04:05|       1559|  Employee_5|               50|acb5b36c-cba5-417...| Comuna 4 - Aranjuez|           Miranda|6.273109_-75.5639...|2024-06-17 17:04:05|\n",
      "|6.240886|  -75.5567|17/06/2024 17:04:21|       1698|Employee_125|               44|caae4ae5-dfd0-4e2...|Comuna 9 - Buenos...|      Buenos Aires|6.240886_-75.5567...|2024-06-17 17:04:21|\n",
      "| 6.26349|-75.533003|17/06/2024 17:04:06|       1944| Employee_19|               32|acc5040b-b062-440...| Comuna 3 - Manrique|   Versalles No. 2|6.26349_-75.53300...|2024-06-17 17:04:06|\n",
      "|6.241721|-75.544554|17/06/2024 17:04:22|       1699| Employee_83|               38|5ca05479-755d-483...|Comuna 8 - Villa ...|       La Libertad|6.241721_-75.5445...|2024-06-17 17:04:22|\n",
      "|6.230866|-75.530405|17/06/2024 17:04:07|       1353| Employee_81|               29|e29b1c74-e088-42a...|Comuna 8 - Villa ...|     Las Estancias|6.230866_-75.5304...|2024-06-17 17:04:07|\n",
      "|6.227021|-75.554104|17/06/2024 17:04:23|       1477|Employee_159|               45|1ae133f4-734d-486...|Comuna 9 - Buenos...|La Asomadera No. 3|6.227021_-75.5541...|2024-06-17 17:04:23|\n",
      "| 6.31383|-75.556608|17/06/2024 17:04:08|       1953| Employee_45|               47|f53f1b43-54f1-471...| Comuna 5 - Castilla|        La Florida|6.31383_-75.55660...|2024-06-17 17:04:08|\n",
      "|6.271556| -75.54339|17/06/2024 17:04:24|       1058|Employee_155|               36|7cb685e6-9ec9-49b...| Comuna 3 - Manrique|           La Cruz|6.271556_-75.5433...|2024-06-17 17:04:24|\n",
      "|6.272453|-75.542127|17/06/2024 17:04:09|       1294|Employee_139|               41|d8dfe712-896c-44e...| Comuna 3 - Manrique|           Oriente|6.272453_-75.5421...|2024-06-17 17:04:09|\n",
      "|6.302827|-75.560455|17/06/2024 17:04:25|       1206| Employee_63|               50|8fb9d14a-8527-486...| Comuna 5 - Castilla| Héctor Abad Gómez|6.302827_-75.5604...|2024-06-17 17:04:25|\n",
      "+--------+----------+-------------------+-----------+------------+-----------------+--------------------+--------------------+------------------+--------------------+-------------------+\n",
      "only showing top 20 rows\n",
      "\n"
     ]
    }
   ],
   "source": [
    "# Convertir la columna 'date' a tipo timestamp\n",
    "df1 = df1.withColumn(\"timestamp\", to_timestamp(col(\"date\"), \"dd/MM/yyyy HH:mm:ss\"))\n",
    "df1.show()"
   ]
  },
  {
   "cell_type": "code",
   "execution_count": 9,
   "id": "bdecbbc4-ff8f-4932-9f55-975610ed8fec",
   "metadata": {},
   "outputs": [
    {
     "name": "stdout",
     "output_type": "stream",
     "text": [
      "+----------+\n",
      "| date_only|\n",
      "+----------+\n",
      "|2024-06-17|\n",
      "|2024-06-17|\n",
      "|2024-06-17|\n",
      "|2024-06-17|\n",
      "|2024-06-17|\n",
      "|2024-06-17|\n",
      "|2024-06-17|\n",
      "|2024-06-17|\n",
      "|2024-06-17|\n",
      "|2024-06-17|\n",
      "|2024-06-17|\n",
      "|2024-06-17|\n",
      "|2024-06-17|\n",
      "|2024-06-17|\n",
      "|2024-06-17|\n",
      "|2024-06-17|\n",
      "|2024-06-17|\n",
      "|2024-06-17|\n",
      "|2024-06-17|\n",
      "|2024-06-17|\n",
      "+----------+\n",
      "only showing top 20 rows\n",
      "\n"
     ]
    }
   ],
   "source": [
    "# Extraer solo la parte de la fecha\n",
    "df1 = df1.withColumn(\"date_only\", date_format(col(\"timestamp\"), \"yyyy-MM-dd\"))\n",
    "df1.select(\"date_only\").show()"
   ]
  },
  {
   "cell_type": "code",
   "execution_count": 10,
   "id": "90917976-15b2-4264-a9e0-d85f19818c63",
   "metadata": {},
   "outputs": [
    {
     "name": "stdout",
     "output_type": "stream",
     "text": [
      "+----------+------------+-----------+\n",
      "| date_only| employee_id|total_sales|\n",
      "+----------+------------+-----------+\n",
      "|2024-06-17| Employee_41|       2543|\n",
      "|2024-06-17| Employee_97|       2916|\n",
      "|2024-06-17| Employee_89|       2140|\n",
      "|2024-06-17|Employee_145|       2716|\n",
      "|2024-06-17|Employee_109|       3070|\n",
      "|2024-06-17| Employee_81|       2358|\n",
      "|2024-06-17|Employee_159|       2724|\n",
      "|2024-06-17| Employee_95|       2447|\n",
      "|2024-06-17|Employee_137|       2661|\n",
      "|2024-06-17|  Employee_9|       2823|\n",
      "|2024-06-17|Employee_167|       3023|\n",
      "|2024-06-17|Employee_197|       2812|\n",
      "|2024-06-17|Employee_111|       2647|\n",
      "|2024-06-17|Employee_105|       1844|\n",
      "|2024-06-17|  Employee_7|       3332|\n",
      "|2024-06-17|Employee_149|       2887|\n",
      "|2024-06-17|Employee_157|       2249|\n",
      "|2024-06-17| Employee_77|       2456|\n",
      "|2024-06-17|Employee_163|       2635|\n",
      "|2024-06-17|Employee_107|       2853|\n",
      "+----------+------------+-----------+\n",
      "only showing top 20 rows\n",
      "\n"
     ]
    }
   ],
   "source": [
    "# Agrupar los datos por fecha y vendedor para calcular el total de ventas por vendedor\n",
    "df_seller_aggregated = df1.groupBy(\"date_only\", \"employee_id\") \\\n",
    "    .agg(_sum(\"quantity_products\").alias(\"total_sales\"))\n",
    "df_seller_aggregated.show()"
   ]
  },
  {
   "cell_type": "markdown",
   "id": "680089b4-47cd-4887-8b1e-32543b52cfb8",
   "metadata": {},
   "source": [
    "## Ranking de vendedores diarios"
   ]
  },
  {
   "cell_type": "code",
   "execution_count": 11,
   "id": "727f0d15-d1f8-44dd-b6a3-a11113d653d8",
   "metadata": {},
   "outputs": [
    {
     "name": "stdout",
     "output_type": "stream",
     "text": [
      "+----------+------------+-----------+----+\n",
      "| date_only| employee_id|total_sales|rank|\n",
      "+----------+------------+-----------+----+\n",
      "|2024-06-17| Employee_91|       3847|   1|\n",
      "|2024-06-17| Employee_31|       3744|   2|\n",
      "|2024-06-17|Employee_189|       3567|   3|\n",
      "|2024-06-17| Employee_59|       3523|   4|\n",
      "|2024-06-17|Employee_183|       3447|   5|\n",
      "|2024-06-17|Employee_117|       3409|   6|\n",
      "|2024-06-17|Employee_129|       3408|   7|\n",
      "|2024-06-17|Employee_151|       3403|   8|\n",
      "|2024-06-17|  Employee_7|       3332|   9|\n",
      "|2024-06-17| Employee_93|       3323|  10|\n",
      "|2024-06-17| Employee_99|       3287|  11|\n",
      "|2024-06-17| Employee_61|       3223|  12|\n",
      "|2024-06-17|Employee_195|       3210|  13|\n",
      "|2024-06-17| Employee_33|       3203|  14|\n",
      "|2024-06-17|Employee_191|       3153|  15|\n",
      "|2024-06-17| Employee_63|       3141|  16|\n",
      "|2024-06-17|Employee_141|       3138|  17|\n",
      "|2024-06-17| Employee_15|       3128|  18|\n",
      "|2024-06-17| Employee_57|       3121|  19|\n",
      "|2024-06-17|Employee_123|       3114|  20|\n",
      "+----------+------------+-----------+----+\n",
      "only showing top 20 rows\n",
      "\n"
     ]
    }
   ],
   "source": [
    "# Crear una ventana para particionar por fecha y ordenar por total de ventas de mayor a menor\n",
    "window_spec = Window.partitionBy(\"date_only\").orderBy(col(\"total_sales\").desc())\n",
    "# Agregar un número de fila para identificar al vendedor con más ventas cada día\n",
    "df_seller_ranked_day = df_seller_aggregated.withColumn(\"rank\", row_number().over(window_spec))\n",
    "df_seller_ranked_day.show()"
   ]
  },
  {
   "cell_type": "markdown",
   "id": "1f773c30-0a4a-4492-9416-31fbc440aa33",
   "metadata": {},
   "source": [
    "## Mayor vendedor del día"
   ]
  },
  {
   "cell_type": "code",
   "execution_count": 12,
   "id": "dba295e9-7c42-4237-b7ea-638da73d1704",
   "metadata": {},
   "outputs": [
    {
     "name": "stdout",
     "output_type": "stream",
     "text": [
      "+----------+-----------+-----------+\n",
      "| date_only|employee_id|total_sales|\n",
      "+----------+-----------+-----------+\n",
      "|2024-06-17|Employee_91|       3847|\n",
      "+----------+-----------+-----------+\n",
      "\n"
     ]
    }
   ],
   "source": [
    "# Filtrar para obtener solo el vendedor con más ventas cada día\n",
    "df_top_seller = df_seller_ranked_day.filter(col(\"rank\") == 1).drop(\"rank\")\n",
    "df_top_seller.show()"
   ]
  },
  {
   "cell_type": "markdown",
   "id": "e4834703-2f7c-41b5-b6c2-48663b7ec57c",
   "metadata": {},
   "source": [
    "# Acumulado diario de ventas por tienda"
   ]
  },
  {
   "cell_type": "code",
   "execution_count": 13,
   "id": "393b6e10-6644-4b8e-8cb9-6cb21d90bb91",
   "metadata": {},
   "outputs": [
    {
     "name": "stdout",
     "output_type": "stream",
     "text": [
      "+----------+--------+----------+--------------------+-----------+\n",
      "| date_only|latitude| longitude|            store_id|total_store|\n",
      "+----------+--------+----------+--------------------+-----------+\n",
      "|2024-06-17|6.231016|-75.531541|6.231016_-75.5315...|       2456|\n",
      "|2024-06-17|6.221932|-75.528966|6.221932_-75.5289...|       2543|\n",
      "|2024-06-17|6.255342|-75.555875|6.255342_-75.5558...|       2249|\n",
      "|2024-06-17|6.274861|-75.533979|6.274861_-75.5339...|       2654|\n",
      "|2024-06-17| 6.31383|-75.556608|6.31383_-75.55660...|       2421|\n",
      "|2024-06-17|6.250895|-75.564412|6.250895_-75.5644...|       2396|\n",
      "|2024-06-17| 6.23482| -75.54546|6.23482_-75.54546...|       2887|\n",
      "|2024-06-17|6.233771|-75.542107|6.233771_-75.5421...|       2638|\n",
      "|2024-06-17|6.263214|-75.565651|6.263214_-75.5656...|       3409|\n",
      "|2024-06-17|6.273109|-75.563901|6.273109_-75.5639...|       2413|\n",
      "|2024-06-17| 6.22135|-75.548236|6.22135_-75.54823...|       2533|\n",
      "|2024-06-17|6.268129|-75.532389|6.268129_-75.5323...|       2624|\n",
      "|2024-06-17|6.269597|-75.531581|6.269597_-75.5315...|       2352|\n",
      "|2024-06-17| 6.25509| -75.56266|6.25509_-75.56266...|       3114|\n",
      "|2024-06-17|6.271556| -75.54339|6.271556_-75.5433...|       2892|\n",
      "|2024-06-17|6.295899|-75.539886|6.295899_-75.5398...|       3523|\n",
      "|2024-06-17|6.298824|-75.547453|6.298824_-75.5474...|       2027|\n",
      "|2024-06-17|6.229471|-75.556631|6.229471_-75.5566...|       2544|\n",
      "|2024-06-17|6.298354|-75.564556|6.298354_-75.5645...|       2721|\n",
      "|2024-06-17|6.237547|-75.536549|6.237547_-75.5365...|       2926|\n",
      "+----------+--------+----------+--------------------+-----------+\n",
      "only showing top 20 rows\n",
      "\n"
     ]
    }
   ],
   "source": [
    "# Agrupar los datos por fecha y tienda para calcular el total de ventas en esa tienda\n",
    "df_store_aggregated = df1.groupBy(\"date_only\", \"latitude\", \"longitude\", \"store_id\") \\\n",
    "    .agg(_sum(\"quantity_products\").alias(\"total_store\"))\n",
    "df_store_aggregated.show()"
   ]
  },
  {
   "cell_type": "code",
   "execution_count": 14,
   "id": "a3807387-27b7-49f5-8c2e-31f492669f2e",
   "metadata": {},
   "outputs": [
    {
     "name": "stdout",
     "output_type": "stream",
     "text": [
      "+----------+--------+----------+--------------------+-----------+----+\n",
      "| date_only|latitude| longitude|            store_id|total_store|rank|\n",
      "+----------+--------+----------+--------------------+-----------+----+\n",
      "|2024-06-17|6.240851|-75.564423|6.240851_-75.5644...|       3847|   1|\n",
      "|2024-06-17|6.228642|-75.529782|6.228642_-75.5297...|       3744|   2|\n",
      "|2024-06-17|6.231971| -75.54485|6.231971_-75.5448...|       3567|   3|\n",
      "|2024-06-17|6.295899|-75.539886|6.295899_-75.5398...|       3523|   4|\n",
      "|2024-06-17|6.256769| -75.53969|6.256769_-75.5396...|       3447|   5|\n",
      "|2024-06-17|6.263214|-75.565651|6.263214_-75.5656...|       3409|   6|\n",
      "|2024-06-17|6.233554|-75.565071|6.233554_-75.5650...|       3408|   7|\n",
      "|2024-06-17|6.221331|-75.527242|6.221331_-75.5272...|       3403|   8|\n",
      "|2024-06-17|6.256553|-75.552019|6.256553_-75.5520...|       3332|   9|\n",
      "|2024-06-17|6.244468|-75.557789|6.244468_-75.5577...|       3323|  10|\n",
      "|2024-06-17|6.232999| -75.53153|6.232999_-75.5315...|       3287|  11|\n",
      "|2024-06-17|6.252726|-75.558396|6.252726_-75.5583...|       3223|  12|\n",
      "|2024-06-17|6.294688|-75.547412|6.294688_-75.5474...|       3210|  13|\n",
      "|2024-06-17|6.300326|-75.551767|6.300326_-75.5517...|       3203|  14|\n",
      "|2024-06-17|6.248272|-75.536089|6.248272_-75.5360...|       3153|  15|\n",
      "|2024-06-17|6.302827|-75.560455|6.302827_-75.5604...|       3141|  16|\n",
      "|2024-06-17|6.299954|-75.559406|6.299954_-75.5594...|       3138|  17|\n",
      "|2024-06-17| 6.30835|-75.555155|6.30835_-75.55515...|       3128|  18|\n",
      "|2024-06-17|6.239573|-75.549006|6.239573_-75.5490...|       3121|  19|\n",
      "|2024-06-17| 6.25509| -75.56266|6.25509_-75.56266...|       3114|  20|\n",
      "+----------+--------+----------+--------------------+-----------+----+\n",
      "only showing top 20 rows\n",
      "\n"
     ]
    }
   ],
   "source": [
    "# Crear una ventana para particionar por fecha y ordenar por total de ventas de mayor a menor en cada tienda\n",
    "window_spec2 = Window.partitionBy(\"date_only\").orderBy(col(\"total_store\").desc())\n",
    "# Agregar un número de fila para identificar la tienda con más ventas cada día\n",
    "df_store_ranked_day = df_store_aggregated.withColumn(\"rank\", row_number().over(window_spec2))\n",
    "df_store_ranked_day.show()"
   ]
  },
  {
   "cell_type": "markdown",
   "id": "e903c7c9-675f-4f00-a001-d1301965d128",
   "metadata": {},
   "source": [
    "## Guardar resultados"
   ]
  },
  {
   "cell_type": "code",
   "execution_count": 16,
   "id": "764c17b1-3654-4684-9225-5334a2cba8b2",
   "metadata": {},
   "outputs": [
    {
     "name": "stderr",
     "output_type": "stream",
     "text": [
      "                                                                                \r"
     ]
    }
   ],
   "source": [
    "df_seller_ranked_day.write.parquet(\"/datalake/gold/df_seller_ranked_day\")\n",
    "df_store_ranked_day.write.parquet(\"/datalake/gold/df_store_ranked_day\")"
   ]
  },
  {
   "cell_type": "code",
   "execution_count": 17,
   "id": "d98f1129-ce5b-4cb3-9945-911ef75f63c8",
   "metadata": {},
   "outputs": [
    {
     "name": "stdout",
     "output_type": "stream",
     "text": [
      "+----------+------------+-----------+----+\n",
      "| date_only| employee_id|total_sales|rank|\n",
      "+----------+------------+-----------+----+\n",
      "|2024-06-17| Employee_91|       3847|   1|\n",
      "|2024-06-17| Employee_31|       3744|   2|\n",
      "|2024-06-17|Employee_189|       3567|   3|\n",
      "|2024-06-17| Employee_59|       3523|   4|\n",
      "|2024-06-17|Employee_183|       3447|   5|\n",
      "|2024-06-17|Employee_117|       3409|   6|\n",
      "|2024-06-17|Employee_129|       3408|   7|\n",
      "|2024-06-17|Employee_151|       3403|   8|\n",
      "|2024-06-17|  Employee_7|       3332|   9|\n",
      "|2024-06-17| Employee_93|       3323|  10|\n",
      "|2024-06-17| Employee_99|       3287|  11|\n",
      "|2024-06-17| Employee_61|       3223|  12|\n",
      "|2024-06-17|Employee_195|       3210|  13|\n",
      "|2024-06-17| Employee_33|       3203|  14|\n",
      "|2024-06-17|Employee_191|       3153|  15|\n",
      "|2024-06-17| Employee_63|       3141|  16|\n",
      "|2024-06-17|Employee_141|       3138|  17|\n",
      "|2024-06-17| Employee_15|       3128|  18|\n",
      "|2024-06-17| Employee_57|       3121|  19|\n",
      "|2024-06-17|Employee_123|       3114|  20|\n",
      "+----------+------------+-----------+----+\n",
      "only showing top 20 rows\n",
      "\n"
     ]
    }
   ],
   "source": [
    "df3 = spark.read.parquet(\"/datalake/gold/df_seller_ranked_day2\")\n",
    "df3.show()"
   ]
  },
  {
   "cell_type": "code",
   "execution_count": 18,
   "id": "979b00be-1c7c-4db2-a64f-0f295695ffe0",
   "metadata": {},
   "outputs": [
    {
     "name": "stdout",
     "output_type": "stream",
     "text": [
      "+----------+--------+----------+--------------------+-----------+----+\n",
      "| date_only|latitude| longitude|            store_id|total_store|rank|\n",
      "+----------+--------+----------+--------------------+-----------+----+\n",
      "|2024-06-17|6.240851|-75.564423|6.240851_-75.5644...|       3847|   1|\n",
      "|2024-06-17|6.228642|-75.529782|6.228642_-75.5297...|       3744|   2|\n",
      "|2024-06-17|6.231971| -75.54485|6.231971_-75.5448...|       3567|   3|\n",
      "|2024-06-17|6.295899|-75.539886|6.295899_-75.5398...|       3523|   4|\n",
      "|2024-06-17|6.256769| -75.53969|6.256769_-75.5396...|       3447|   5|\n",
      "|2024-06-17|6.263214|-75.565651|6.263214_-75.5656...|       3409|   6|\n",
      "|2024-06-17|6.233554|-75.565071|6.233554_-75.5650...|       3408|   7|\n",
      "|2024-06-17|6.221331|-75.527242|6.221331_-75.5272...|       3403|   8|\n",
      "|2024-06-17|6.256553|-75.552019|6.256553_-75.5520...|       3332|   9|\n",
      "|2024-06-17|6.244468|-75.557789|6.244468_-75.5577...|       3323|  10|\n",
      "|2024-06-17|6.232999| -75.53153|6.232999_-75.5315...|       3287|  11|\n",
      "|2024-06-17|6.252726|-75.558396|6.252726_-75.5583...|       3223|  12|\n",
      "|2024-06-17|6.294688|-75.547412|6.294688_-75.5474...|       3210|  13|\n",
      "|2024-06-17|6.300326|-75.551767|6.300326_-75.5517...|       3203|  14|\n",
      "|2024-06-17|6.248272|-75.536089|6.248272_-75.5360...|       3153|  15|\n",
      "|2024-06-17|6.302827|-75.560455|6.302827_-75.5604...|       3141|  16|\n",
      "|2024-06-17|6.299954|-75.559406|6.299954_-75.5594...|       3138|  17|\n",
      "|2024-06-17| 6.30835|-75.555155|6.30835_-75.55515...|       3128|  18|\n",
      "|2024-06-17|6.239573|-75.549006|6.239573_-75.5490...|       3121|  19|\n",
      "|2024-06-17| 6.25509| -75.56266|6.25509_-75.56266...|       3114|  20|\n",
      "+----------+--------+----------+--------------------+-----------+----+\n",
      "only showing top 20 rows\n",
      "\n"
     ]
    }
   ],
   "source": [
    "df4 = spark.read.parquet(\"/datalake/gold/df_store_ranked_day2\")\n",
    "df4.show()"
   ]
  },
  {
   "cell_type": "code",
   "execution_count": null,
   "id": "56628456-d139-4dd7-813f-444d1d682df7",
   "metadata": {},
   "outputs": [],
   "source": [
    "# df = df.withColumn(\"result\", calcular_comuna_udf(df[\"latitude\"], df[\"longitude\"]))\n",
    "# df = df.select(\"*\", \"result.*\").drop(\"result\")\n",
    "\n",
    "# df = df.withColumn(\"date\", to_timestamp(df[\"date\"], \"dd/MM/yyyy HH:mm:ss\"))\n",
    "# df = df.withColumn(\"day\", dayofmonth(df[\"date\"]))\\\n",
    "#        .withColumn(\"month\", month(df[\"date\"]))\\\n",
    "#        .withColumn(\"year\", year(df[\"date\"]))\\\n",
    "#        .withColumn(\"hour\", hour(df[\"date\"]))\\\n",
    "#        .withColumn(\"minute\", minute(df[\"date\"]))\\\n",
    "#        .withColumn(\"second\", second(df[\"date\"]))\n",
    "\n",
    "# date_now = datetime.now(pytz.timezone('America/Bogota')).strftime(\"%d%m%Y_%H%M%S\")\n",
    "# path_write = f\"/datalake/silver/stagging/{date_now}\"\n",
    "\n",
    "\n",
    "# df.write.parquet(path_write)\n",
    "\n",
    "# for name in file_names:\n",
    "#     if \".parquet\" in name:\n",
    "#         command = f\"hadoop fs -mv {name} /datalake/raw/ingested\"\n",
    "#         subprocess.run(command, shell=True, check=True)\n",
    "        \n",
    "# for commit in commits_names:\n",
    "#     if (commit != \"items\" and commit != \"\"):\n",
    "#         command = f\"hadoop fs -rm -r {commit}\"\n",
    "#         subprocess.run(command, shell=True, check=True)\n",
    "        \n",
    "# for offset in offsets_names:\n",
    "#     if (offset != \"items\" and offset != \"\"):\n",
    "#         command = f\"hadoop fs -rm -r {offset}\"\n",
    "#         subprocess.run(command, shell=True, check=True)\n",
    "        \n",
    "# for meta in metadata_names:\n",
    "#     if (meta != \"items\" and meta != \"\"):\n",
    "#         command = f\"hadoop fs -rm -r {meta}\"\n",
    "#         subprocess.run(command, shell=True, check=True)"
   ]
  }
 ],
 "metadata": {
  "kernelspec": {
   "display_name": "Python 3 (ipykernel)",
   "language": "python",
   "name": "python3"
  },
  "language_info": {
   "codemirror_mode": {
    "name": "ipython",
    "version": 3
   },
   "file_extension": ".py",
   "mimetype": "text/x-python",
   "name": "python",
   "nbconvert_exporter": "python",
   "pygments_lexer": "ipython3",
   "version": "3.8.10"
  }
 },
 "nbformat": 4,
 "nbformat_minor": 5
}
