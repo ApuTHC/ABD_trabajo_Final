{
 "cells": [
  {
   "cell_type": "markdown",
   "id": "8130a64d-ea65-43ef-9b57-8d12457b0990",
   "metadata": {},
   "source": [
    "# Spark"
   ]
  },
  {
   "cell_type": "code",
   "execution_count": 1,
   "id": "653f1b38-741a-47f5-b9c6-ecf79226d949",
   "metadata": {},
   "outputs": [],
   "source": [
    "from pyspark.sql import SparkSession\n",
    "from pyspark.sql.functions import *\n",
    "from pyspark.sql.types import *\n",
    "\n",
    "from datetime import datetime\n",
    "import time\n",
    "import pytz"
   ]
  },
  {
   "cell_type": "markdown",
   "id": "66a5cf31-0f39-44a6-a375-4b07a52fb8a6",
   "metadata": {},
   "source": [
    "## Sesión de spark"
   ]
  },
  {
   "cell_type": "code",
   "execution_count": 2,
   "id": "aae113c8-48c6-418e-bb56-4a6d12285153",
   "metadata": {},
   "outputs": [
    {
     "name": "stderr",
     "output_type": "stream",
     "text": [
      "Setting default log level to \"WARN\".\n",
      "To adjust logging level use sc.setLogLevel(newLevel). For SparkR, use setLogLevel(newLevel).\n"
     ]
    }
   ],
   "source": [
    "# Crear la sesión de Spark\n",
    "spark = SparkSession.builder.appName(\"data_read_write\").getOrCreate()\n",
    "\n",
    "# Crear un esquema para los datos\n",
    "schema = StructType([\n",
    "    StructField(\"latitude\", DoubleType(), True),\n",
    "    StructField(\"longitude\", DoubleType(), True),\n",
    "    StructField(\"date\", StringType(), True),\n",
    "    StructField(\"customer_id\", IntegerType(), True),\n",
    "    StructField(\"employee_id\", StringType(), True),\n",
    "    StructField(\"quantity_products\", IntegerType(), True),\n",
    "    StructField(\"order_id\", StringType(), True),\n",
    "    StructField(\"commune\", StringType(), True),\n",
    "    StructField(\"neighborhood\", StringType(), True),\n",
    "])"
   ]
  },
  {
   "cell_type": "code",
   "execution_count": null,
   "id": "24b74c60-cdc9-471d-a993-9007b0f78d17",
   "metadata": {},
   "outputs": [
    {
     "name": "stdout",
     "output_type": "stream",
     "text": [
      "Started the streaming query.\n"
     ]
    },
    {
     "name": "stderr",
     "output_type": "stream",
     "text": [
      "                                                                                \r"
     ]
    }
   ],
   "source": [
    "try:\n",
    "\n",
    "    # Leer los datos del socket\n",
    "    raw_data = spark.readStream.format(\"socket\").option(\"host\", \"localhost\").option(\"port\", 2222).load()\n",
    "\n",
    "    # Convertir los datos a DataFrame usando el esquema\n",
    "    json_df = raw_data.select(from_json(col(\"value\").cast(\"string\"), schema).alias(\"data\")).select(\"data.*\")\n",
    "\n",
    "\n",
    "    # Definir el intervalo de tiempo para acumular datos\n",
    "    interval = \"30 seconds\"  # Acumular datos durante 10 minutos\n",
    "    \n",
    "    json_df = json_df.repartition(1)\n",
    "    \n",
    "    date_now = datetime.now(pytz.timezone('America/Bogota')).strftime(\"%d%m%Y_%H%M%S\")\n",
    "\n",
    "    query = json_df.writeStream \\\n",
    "            .format(\"parquet\") \\\n",
    "            .outputMode(\"append\") \\\n",
    "            .option(\"path\", f\"/datalake/raw/stagging\") \\\n",
    "            .option(\"checkpointLocation\", \"/checkpoints\") \\\n",
    "            .trigger(processingTime=interval) \\\n",
    "            .start()\n",
    "    \n",
    "    print(\"Started the streaming query.\")\n",
    "    query.awaitTermination()\n",
    "    \n",
    "except KeyboardInterrupt:\n",
    "    print(\"Disconnecting from the socket ...\")\n",
    "    if query:\n",
    "        query.stop()\n",
    "    print(\"Disconnected from the socket.\")\n",
    "        \n",
    "except Exception as e:\n",
    "    print(f\"Error: {e}\")\n",
    "    \n",
    "finally:\n",
    "    query.stop()"
   ]
  }
 ],
 "metadata": {
  "kernelspec": {
   "display_name": "Python 3 (ipykernel)",
   "language": "python",
   "name": "python3"
  },
  "language_info": {
   "codemirror_mode": {
    "name": "ipython",
    "version": 3
   },
   "file_extension": ".py",
   "mimetype": "text/x-python",
   "name": "python",
   "nbconvert_exporter": "python",
   "pygments_lexer": "ipython3",
   "version": "3.8.10"
  }
 },
 "nbformat": 4,
 "nbformat_minor": 5
}
