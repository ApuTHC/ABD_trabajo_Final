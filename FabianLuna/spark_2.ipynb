{
 "cells": [
  {
   "cell_type": "code",
   "execution_count": 19,
   "id": "e96d5fa3-d95e-4cd0-a8a9-f2a14d4c4e3b",
   "metadata": {},
   "outputs": [],
   "source": [
    "from pyspark.sql import SparkSession\n",
    "\n",
    "spark = SparkSession.builder.appName(\"DataProcessing\").getOrCreate()"
   ]
  },
  {
   "cell_type": "code",
   "execution_count": 31,
   "id": "dd93a58f-7d15-46f2-8604-1b9715ba8c4f",
   "metadata": {},
   "outputs": [],
   "source": [
    "df = spark.read.parquet(\"/datalake/raw/stagging\")"
   ]
  },
  {
   "cell_type": "code",
   "execution_count": 32,
   "id": "82d7dc10-3943-4670-9bb7-7345238e5948",
   "metadata": {},
   "outputs": [
    {
     "name": "stdout",
     "output_type": "stream",
     "text": [
      "+--------+----------+-------------------+-----------+-----------+-----------------+--------------------+\n",
      "|latitude| longitude|               date|customer_id|employee_id|quantity_products|            order_id|\n",
      "+--------+----------+-------------------+-----------+-----------+-----------------+--------------------+\n",
      "|6.210883|-75.489165|12/06/2024 09:06:31|       1158|       9028|               34|939e177e-6fff-4a5...|\n",
      "|6.239704|-75.701308|12/06/2024 09:06:55|       1023|       9036|               39|93499ff5-1295-474...|\n",
      "|6.291255|-75.553679|12/06/2024 09:06:34|       1776|       9005|               12|c3ba6a6f-fe1c-4dd...|\n",
      "|6.240932|-75.651972|12/06/2024 09:06:58|       1582|       9006|               29|4214fd98-544e-4e2...|\n",
      "|6.285523|-75.567747|12/06/2024 09:06:36|       1593|       9012|               42|c53b558a-749e-487...|\n",
      "+--------+----------+-------------------+-----------+-----------+-----------------+--------------------+\n",
      "only showing top 5 rows\n",
      "\n"
     ]
    },
    {
     "data": {
      "text/plain": [
       "55"
      ]
     },
     "execution_count": 32,
     "metadata": {},
     "output_type": "execute_result"
    }
   ],
   "source": [
    "df.show(5)\n",
    "df.count()"
   ]
  },
  {
   "cell_type": "code",
   "execution_count": 33,
   "id": "47ab130a-7e73-4d11-a3f1-925dfd174ca3",
   "metadata": {
    "tags": []
   },
   "outputs": [
    {
     "name": "stderr",
     "output_type": "stream",
     "text": [
      "                                                                                \r"
     ]
    },
    {
     "name": "stdout",
     "output_type": "stream",
     "text": [
      "Deleted /checkpoints/commits/0\n",
      "Deleted /checkpoints/commits/1\n",
      "Deleted /checkpoints/commits/2\n",
      "Deleted /checkpoints/commits/3\n",
      "Deleted /checkpoints/commits/4\n",
      "Deleted /checkpoints/commits/5\n",
      "Deleted /checkpoints/offsets/0\n",
      "Deleted /checkpoints/offsets/1\n",
      "Deleted /checkpoints/offsets/2\n",
      "Deleted /checkpoints/offsets/3\n",
      "Deleted /checkpoints/offsets/4\n",
      "Deleted /checkpoints/offsets/5\n",
      "Deleted /datalake/raw/stagging/_spark_metadata/0\n",
      "Deleted /datalake/raw/stagging/_spark_metadata/1\n",
      "Deleted /datalake/raw/stagging/_spark_metadata/2\n",
      "Deleted /datalake/raw/stagging/_spark_metadata/3\n",
      "Deleted /datalake/raw/stagging/_spark_metadata/4\n",
      "Deleted /datalake/raw/stagging/_spark_metadata/5\n"
     ]
    }
   ],
   "source": [
    "import json\n",
    "from turfpy.measurement import boolean_point_in_polygon\n",
    "from geojson import Point, Feature\n",
    "\n",
    "import subprocess\n",
    "import uuid\n",
    "from datetime import datetime\n",
    "import pytz\n",
    "\n",
    "from pyspark.sql.functions import udf, to_timestamp, year, month, dayofmonth, hour, minute, second\n",
    "from pyspark.sql.types import StructType, StructField, IntegerType, StringType\n",
    "\n",
    "\n",
    "with open('barrios.json', 'r') as f:\n",
    "    barrios = json.load(f)\n",
    "\n",
    "def get_polygon_properties(geojson_data, point_feature):\n",
    "    for feature in geojson_data['features']:\n",
    "        if boolean_point_in_polygon(point_feature, feature):\n",
    "            return feature['properties']\n",
    "    return None\n",
    "\n",
    "def calcular_comuna(lat, lng):\n",
    "    point_feature = Feature(geometry=Point((lng, lat)))\n",
    "    properties = get_polygon_properties(barrios, point_feature)\n",
    "    return properties[\"NOMBRE\"], properties[\"IDENTIFICACION\"]\n",
    "\n",
    "\n",
    "schema = StructType([\n",
    "    StructField(\"neighborhood\", StringType(), False),\n",
    "    StructField(\"commune\", StringType(), False)\n",
    "])\n",
    "\n",
    "calcular_comuna_udf = udf(calcular_comuna, schema)\n",
    "\n",
    "\n",
    "command = \"hadoop fs -ls /datalake/raw/stagging | awk '{print $NF}'\"\n",
    "file_names = subprocess.check_output(command, shell=True).decode().split('\\n')\n",
    "\n",
    "command = \"hadoop fs -ls /checkpoints/commits | awk '{print $NF}'\"\n",
    "commits_names = subprocess.check_output(command, shell=True).decode().split('\\n')\n",
    "\n",
    "command = \"hadoop fs -ls /checkpoints/offsets | awk '{print $NF}'\"\n",
    "offsets_names = subprocess.check_output(command, shell=True).decode().split('\\n')\n",
    "\n",
    "command = \"hadoop fs -ls /datalake/raw/stagging/_spark_metadata | awk '{print $NF}'\"\n",
    "metadata_names = subprocess.check_output(command, shell=True).decode().split('\\n')\n",
    "\n",
    "\n",
    "df = spark.read.parquet(\"/datalake/raw/stagging\")\n",
    "\n",
    "\n",
    "df = df.withColumn(\"result\", calcular_comuna_udf(df[\"latitude\"], df[\"longitude\"]))\n",
    "df = df.select(\"*\", \"result.*\").drop(\"result\")\n",
    "\n",
    "df = df.withColumn(\"date\", to_timestamp(df[\"date\"], \"dd/MM/yyyy HH:mm:ss\"))\n",
    "df = df.withColumn(\"day\", dayofmonth(df[\"date\"]))\\\n",
    "       .withColumn(\"month\", month(df[\"date\"]))\\\n",
    "       .withColumn(\"year\", year(df[\"date\"]))\\\n",
    "       .withColumn(\"hour\", hour(df[\"date\"]))\\\n",
    "       .withColumn(\"minute\", minute(df[\"date\"]))\\\n",
    "       .withColumn(\"second\", second(df[\"date\"]))\n",
    "\n",
    "date_now = datetime.now(pytz.timezone('America/Bogota')).strftime(\"%d%m%Y_%H%M%S\")\n",
    "path_write = f\"/datalake/silver/stagging/{date_now}\"\n",
    "\n",
    "\n",
    "df.write.parquet(path_write)\n",
    "\n",
    "for name in file_names:\n",
    "    if \".parquet\" in name:\n",
    "        command = f\"hadoop fs -mv {name} /datalake/raw/ingested\"\n",
    "        subprocess.run(command, shell=True, check=True)\n",
    "        \n",
    "for commit in commits_names:\n",
    "    if (commit != \"items\" and commit != \"\"):\n",
    "        command = f\"hadoop fs -rm -r {commit}\"\n",
    "        subprocess.run(command, shell=True, check=True)\n",
    "        \n",
    "for offset in offsets_names:\n",
    "    if (offset != \"items\" and offset != \"\"):\n",
    "        command = f\"hadoop fs -rm -r {offset}\"\n",
    "        subprocess.run(command, shell=True, check=True)\n",
    "        \n",
    "for meta in metadata_names:\n",
    "    if (meta != \"items\" and meta != \"\"):\n",
    "        command = f\"hadoop fs -rm -r {meta}\"\n",
    "        subprocess.run(command, shell=True, check=True)"
   ]
  },
  {
   "cell_type": "code",
   "execution_count": null,
   "id": "44b220dc-e741-4ead-a3d9-f4bf8118cdc2",
   "metadata": {
    "tags": []
   },
   "outputs": [],
   "source": [
    "!pip install turfpy"
   ]
  },
  {
   "cell_type": "code",
   "execution_count": 44,
   "id": "899c8ef7-437d-4f37-91ef-7329ae511d12",
   "metadata": {},
   "outputs": [
    {
     "name": "stdout",
     "output_type": "stream",
     "text": [
      "['items', '/datalake/silver/stagging/12062024_090050', '/datalake/silver/stagging/12062024_090853', '']\n",
      "['/datalake/silver/stagging/12062024_090050', '/datalake/silver/stagging/12062024_090853']\n",
      "+--------+----------+-------------------+-----------+-----------+-----------------+--------------------+--------------------+----------------+---+-----+----+----+------+------+\n",
      "|latitude| longitude|               date|customer_id|employee_id|quantity_products|            order_id|        neighborhood|         commune|day|month|year|hour|minute|second|\n",
      "+--------+----------+-------------------+-----------+-----------+-----------------+--------------------+--------------------+----------------+---+-----+----+----+------+------+\n",
      "|6.210883|-75.489165|2024-06-12 09:06:31|       1158|       9028|               34|939e177e-6fff-4a5...|CORREGIMIENTO DE ...|CORREGIMIENTO 90| 12|    6|2024|   9|     6|    31|\n",
      "|6.239704|-75.701308|2024-06-12 09:06:55|       1023|       9036|               39|93499ff5-1295-474...|CORREGIMIENTO DE ...|CORREGIMIENTO 80| 12|    6|2024|   9|     6|    55|\n",
      "|6.291255|-75.553679|2024-06-12 09:06:34|       1776|       9005|               12|c3ba6a6f-fe1c-4dd...|          SANTA CRUZ|        COMUNA 2| 12|    6|2024|   9|     6|    34|\n",
      "|6.240932|-75.651972|2024-06-12 09:06:58|       1582|       9006|               29|4214fd98-544e-4e2...|CORREGIMIENTO DE ...|CORREGIMIENTO 70| 12|    6|2024|   9|     6|    58|\n",
      "|6.285523|-75.567747|2024-06-12 09:06:36|       1593|       9012|               42|c53b558a-749e-487...|            CASTILLA|        COMUNA 5| 12|    6|2024|   9|     6|    36|\n",
      "+--------+----------+-------------------+-----------+-----------+-----------------+--------------------+--------------------+----------------+---+-----+----+----+------+------+\n",
      "only showing top 5 rows\n",
      "\n"
     ]
    },
    {
     "data": {
      "text/plain": [
       "137"
      ]
     },
     "execution_count": 44,
     "metadata": {},
     "output_type": "execute_result"
    }
   ],
   "source": [
    "import subprocess\n",
    "\n",
    "command = \"hadoop fs -ls /datalake/silver/stagging | awk '{print $NF}'\"\n",
    "dir_names = subprocess.check_output(command, shell=True).decode().split('\\n')\n",
    "print(dir_names)\n",
    "array_silver =[]\n",
    "for dir_name in dir_names:\n",
    "    if (dir_name != \"items\" and dir_name != \"\") :\n",
    "        array_silver.append(dir_name)\n",
    "        command = f\"hadoop fs -ls {dir_name}\" + \"| awk '{print $NF}'\"\n",
    "        file_names = subprocess.check_output(command, shell=True).decode().split('\\n')\n",
    "        for name in file_names:\n",
    "            if \".parquet\" in name:\n",
    "                #print(name)\n",
    "                pass\n",
    "                \n",
    "print(array_silver)\n",
    "df = spark.read.parquet(*array_silver)\n",
    "df.show(5)\n",
    "df.count()"
   ]
  },
  {
   "cell_type": "code",
   "execution_count": 16,
   "id": "df1095b3-0d9a-498c-95a3-feb0f7ac5b19",
   "metadata": {},
   "outputs": [
    {
     "name": "stdout",
     "output_type": "stream",
     "text": [
      "['items', '/checkpoints/commits/0', '/checkpoints/commits/1', '/checkpoints/commits/2', '/checkpoints/commits/3', '/checkpoints/commits/4', '/checkpoints/commits/5', '']\n"
     ]
    }
   ],
   "source": [
    "command = \"hadoop fs -ls /checkpoints/commits | awk '{print $NF}'\"\n",
    "commits_names = subprocess.check_output(command, shell=True).decode().split('\\n')\n",
    "print(commits_names)"
   ]
  },
  {
   "cell_type": "code",
   "execution_count": 17,
   "id": "51dd9cdd-175c-4352-976c-52b8b7cd505f",
   "metadata": {},
   "outputs": [
    {
     "name": "stdout",
     "output_type": "stream",
     "text": [
      "['items', '/checkpoints/offsets/0', '/checkpoints/offsets/1', '/checkpoints/offsets/2', '/checkpoints/offsets/3', '/checkpoints/offsets/4', '/checkpoints/offsets/5', '']\n"
     ]
    }
   ],
   "source": [
    "command = \"hadoop fs -ls /checkpoints/offsets | awk '{print $NF}'\"\n",
    "offsets_names = subprocess.check_output(command, shell=True).decode().split('\\n')\n",
    "print(offsets_names)"
   ]
  },
  {
   "cell_type": "code",
   "execution_count": 18,
   "id": "3e244183-81bc-48c5-b106-1a69046d1e46",
   "metadata": {},
   "outputs": [
    {
     "name": "stdout",
     "output_type": "stream",
     "text": [
      "['items', '/datalake/raw/stagging/_spark_metadata/0', '/datalake/raw/stagging/_spark_metadata/1', '/datalake/raw/stagging/_spark_metadata/2', '/datalake/raw/stagging/_spark_metadata/3', '/datalake/raw/stagging/_spark_metadata/4', '/datalake/raw/stagging/_spark_metadata/5', '']\n"
     ]
    }
   ],
   "source": [
    "command = \"hadoop fs -ls /datalake/raw/stagging/_spark_metadata | awk '{print $NF}'\"\n",
    "metadata_names = subprocess.check_output(command, shell=True).decode().split('\\n')\n",
    "print(metadata_names)"
   ]
  },
  {
   "cell_type": "code",
   "execution_count": 24,
   "id": "1d1273a0-df55-4dca-b54f-041c8e074e1b",
   "metadata": {},
   "outputs": [
    {
     "name": "stdout",
     "output_type": "stream",
     "text": [
      "['items', '/datalake/silver/stagging/12062024_083824', '']\n"
     ]
    }
   ],
   "source": [
    "command = \"hadoop fs -ls /datalake/silver/stagging/ | awk '{print $NF}'\"\n",
    "metadata_names = subprocess.check_output(command, shell=True).decode().split('\\n')\n",
    "print(metadata_names)"
   ]
  },
  {
   "cell_type": "code",
   "execution_count": null,
   "id": "3d471d6e-a5f7-4762-b832-0953737f963a",
   "metadata": {},
   "outputs": [],
   "source": [
    "df = spark.read.parquet(\"/datalake/raw/ingested\")\n",
    "df.count()"
   ]
  }
 ],
 "metadata": {
  "kernelspec": {
   "display_name": "Python 3 (ipykernel)",
   "language": "python",
   "name": "python3"
  },
  "language_info": {
   "codemirror_mode": {
    "name": "ipython",
    "version": 3
   },
   "file_extension": ".py",
   "mimetype": "text/x-python",
   "name": "python",
   "nbconvert_exporter": "python",
   "pygments_lexer": "ipython3",
   "version": "3.8.10"
  }
 },
 "nbformat": 4,
 "nbformat_minor": 5
}
