{
 "cells": [
  {
   "cell_type": "code",
   "execution_count": 1,
   "id": "2b9bd07a-b429-4b5c-bc4f-74228bf4221b",
   "metadata": {},
   "outputs": [],
   "source": [
    "!hdfs dfs -mkdir -p /datalake/raw/stagging\n",
    "!hdfs dfs -mkdir -p /datalake/raw/ingested\n",
    "!hdfs dfs -mkdir -p /datalake/silver/stagging\n",
    "!hdfs dfs -mkdir -p /datalake/silver/ingested\n",
    "!hdfs dfs -mkdir -p /datalake/gold\n",
    "!hdfs dfs -mkdir -p /temp/json"
   ]
  },
  {
   "cell_type": "code",
   "execution_count": null,
   "id": "2f5710b3-76b6-43a4-acda-677d545f6dc2",
   "metadata": {},
   "outputs": [],
   "source": []
  },
  {
   "cell_type": "code",
   "execution_count": null,
   "id": "63f6ca38-c118-478f-830a-3464e74a8465",
   "metadata": {},
   "outputs": [],
   "source": []
  }
 ],
 "metadata": {
  "kernelspec": {
   "display_name": "Python 3 (ipykernel)",
   "language": "python",
   "name": "python3"
  },
  "language_info": {
   "codemirror_mode": {
    "name": "ipython",
    "version": 3
   },
   "file_extension": ".py",
   "mimetype": "text/x-python",
   "name": "python",
   "nbconvert_exporter": "python",
   "pygments_lexer": "ipython3",
   "version": "3.8.10"
  }
 },
 "nbformat": 4,
 "nbformat_minor": 5
}
