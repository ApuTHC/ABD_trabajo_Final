{
 "cells": [
  {
   "cell_type": "code",
   "execution_count": null,
   "id": "f19a0e9e-3603-41ec-a532-82d41967d118",
   "metadata": {},
   "outputs": [],
   "source": [
    "from pyspark.sql import SparkSession\n",
    "from pyspark.sql.functions import *\n",
    "from pyspark.sql.types import *\n",
    "\n",
    "# Crear la sesión de Spark\n",
    "spark = SparkSession.builder.appName(\"data_read_write\").getOrCreate()\n",
    "\n",
    "# Crear un esquema para los datos\n",
    "schema = StructType([\n",
    "    StructField(\"latitude\", DoubleType(), True),\n",
    "    StructField(\"longitude\", DoubleType(), True),\n",
    "    StructField(\"date\", StringType(), True),\n",
    "    StructField(\"customer_id\", IntegerType(), True),\n",
    "    StructField(\"employee_id\", IntegerType(), True),\n",
    "    StructField(\"quantity_products\", IntegerType(), True),\n",
    "    StructField(\"order_id\", StringType(), True),\n",
    "])\n",
    "\n",
    "def receive_data(interval):\n",
    "    try:\n",
    "\n",
    "        # Leer los datos del socket\n",
    "        raw_data = spark.readStream.format(\"socket\").option(\"host\", \"host.docker.internal\").option(\"port\", 4223).load()\n",
    "\n",
    "        # Convertir los datos a DataFrame usando el esquema\n",
    "        json_df = raw_data.select(from_json(col(\"value\").cast(\"string\"), schema).alias(\"data\")).select(\"data.*\")\n",
    "    \n",
    "        json_df = json_df.repartition(1)\n",
    "\n",
    "        query = json_df.writeStream \\\n",
    "                .format(\"parquet\") \\\n",
    "                .outputMode(\"append\") \\\n",
    "                .option(\"path\", f\"/datalake/raw/stagging\") \\\n",
    "                .option(\"checkpointLocation\", \"/checkpoints\") \\\n",
    "                .trigger(processingTime=interval) \\\n",
    "                .start()\n",
    "        query.awaitTermination()\n",
    "            \n",
    "    except Exception as e:\n",
    "        print(f\"Error: {e}\")\n",
    "        \n",
    "    finally:\n",
    "        query.stop()"
   ]
  },
  {
   "cell_type": "code",
   "execution_count": null,
   "id": "2208b15d-4cb4-499c-bfc4-5202104ca8ed",
   "metadata": {},
   "outputs": [],
   "source": [
    "#receive_data(\"30 minutes\")\n",
    "receive_data(\"30 seconds\")"
   ]
  }
 ],
 "metadata": {
  "kernelspec": {
   "display_name": "Python 3 (ipykernel)",
   "language": "python",
   "name": "python3"
  },
  "language_info": {
   "codemirror_mode": {
    "name": "ipython",
    "version": 3
   },
   "file_extension": ".py",
   "mimetype": "text/x-python",
   "name": "python",
   "nbconvert_exporter": "python",
   "pygments_lexer": "ipython3",
   "version": "3.8.10"
  }
 },
 "nbformat": 4,
 "nbformat_minor": 5
}
