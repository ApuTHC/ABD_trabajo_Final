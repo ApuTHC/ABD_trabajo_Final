{
 "cells": [
  {
   "cell_type": "code",
   "execution_count": 2,
   "metadata": {},
   "outputs": [
    {
     "name": "stderr",
     "output_type": "stream",
     "text": [
      "Setting default log level to \"WARN\".\n",
      "To adjust logging level use sc.setLogLevel(newLevel). For SparkR, use setLogLevel(newLevel).\n"
     ]
    },
    {
     "name": "stdout",
     "output_type": "stream",
     "text": [
      "['items', '/datalake/silver/stagging/12062024_123146', '']\n",
      "['/datalake/silver/stagging/12062024_123146']\n"
     ]
    },
    {
     "name": "stderr",
     "output_type": "stream",
     "text": [
      "                                                                                \r"
     ]
    },
    {
     "name": "stdout",
     "output_type": "stream",
     "text": [
      "+--------+----------+-------------------+-----------+-----------+-----------------+--------------------+--------------------+----------------+---+-----+----+----+------+------+\n",
      "|latitude| longitude|               date|customer_id|employee_id|quantity_products|            order_id|        neighborhood|         commune|day|month|year|hour|minute|second|\n",
      "+--------+----------+-------------------+-----------+-----------+-----------------+--------------------+--------------------+----------------+---+-----+----+----+------+------+\n",
      "|6.173934|-75.663362|2024-06-12 12:28:42|       1248|       9019|               18|06059f9e-43db-4e7...|CORREGIMIENTO DE ...|CORREGIMIENTO 80| 12|    6|2024|  12|    28|    42|\n",
      "|6.248289| -75.70486|2024-06-12 12:28:43|       1636|       9024|               12|62adfc9b-3d4e-420...|CORREGIMIENTO DE ...|CORREGIMIENTO 80| 12|    6|2024|  12|    28|    43|\n",
      "|6.192264|-75.632434|2024-06-12 12:28:45|       1214|       9034|               14|2f7045e2-86aa-48f...|CORREGIMIENTO DE ...|CORREGIMIENTO 80| 12|    6|2024|  12|    28|    45|\n",
      "|6.244756|-75.679238|2024-06-12 12:28:47|       1536|       9030|               14|4910beee-d489-4cd...|CORREGIMIENTO DE ...|CORREGIMIENTO 80| 12|    6|2024|  12|    28|    47|\n",
      "|6.240215| -75.63636|2024-06-12 12:28:49|       1636|       9020|               31|2395452d-53dc-420...|CORREGIMIENTO DE ...|CORREGIMIENTO 70| 12|    6|2024|  12|    28|    49|\n",
      "+--------+----------+-------------------+-----------+-----------+-----------------+--------------------+--------------------+----------------+---+-----+----+----+------+------+\n",
      "only showing top 5 rows\n",
      "\n"
     ]
    },
    {
     "data": {
      "text/plain": [
       "21"
      ]
     },
     "execution_count": 2,
     "metadata": {},
     "output_type": "execute_result"
    }
   ],
   "source": [
    "import subprocess\n",
    "from pyspark.sql import SparkSession\n",
    "\n",
    "spark = SparkSession.builder.appName(\"DataProcessing\").getOrCreate()\n",
    "\n",
    "command = \"hadoop fs -ls /datalake/silver/stagging | awk '{print $NF}'\"\n",
    "dir_names = subprocess.check_output(command, shell=True).decode().split('\\n')\n",
    "print(dir_names)\n",
    "array_silver =[]\n",
    "for dir_name in dir_names:\n",
    "    if (dir_name != \"items\" and dir_name != \"\") :\n",
    "        array_silver.append(dir_name)\n",
    "        command = f\"hadoop fs -ls {dir_name}\" + \"| awk '{print $NF}'\"\n",
    "        file_names = subprocess.check_output(command, shell=True).decode().split('\\n')\n",
    "        for name in file_names:\n",
    "            if \".parquet\" in name:\n",
    "                #print(name)\n",
    "                pass\n",
    "                \n",
    "print(array_silver)\n",
    "df = spark.read.parquet(*array_silver)\n",
    "df.show(5)\n",
    "df.count()"
   ]
  },
  {
   "cell_type": "code",
   "execution_count": null,
   "metadata": {},
   "outputs": [],
   "source": []
  }
 ],
 "metadata": {
  "kernelspec": {
   "display_name": "Python 3 (ipykernel)",
   "language": "python",
   "name": "python3"
  },
  "language_info": {
   "codemirror_mode": {
    "name": "ipython",
    "version": 3
   },
   "file_extension": ".py",
   "mimetype": "text/x-python",
   "name": "python",
   "nbconvert_exporter": "python",
   "pygments_lexer": "ipython3",
   "version": "3.8.10"
  }
 },
 "nbformat": 4,
 "nbformat_minor": 4
}
