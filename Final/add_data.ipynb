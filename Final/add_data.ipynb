{
 "cells": [
  {
   "cell_type": "code",
   "execution_count": 2,
   "id": "1faf086d-d0ab-4f69-a385-0c0fe6b20d28",
   "metadata": {},
   "outputs": [
    {
     "name": "stderr",
     "output_type": "stream",
     "text": [
      "Setting default log level to \"WARN\".\n",
      "To adjust logging level use sc.setLogLevel(newLevel). For SparkR, use setLogLevel(newLevel).\n"
     ]
    }
   ],
   "source": [
    "from pyspark.sql import SparkSession\n",
    "spark = SparkSession.builder.appName(\"sesion007\").getOrCreate()"
   ]
  },
  {
   "cell_type": "code",
   "execution_count": 8,
   "id": "1bc9a9ef-af88-4e2f-91d2-fcb99390a39c",
   "metadata": {},
   "outputs": [],
   "source": [
    "!hdfs dfs -copyFromLocal simulated_sales.json /temp/json/2"
   ]
  },
  {
   "cell_type": "code",
   "execution_count": 9,
   "id": "a90e312b-e4aa-470f-8de8-573cd1b1e7b4",
   "metadata": {},
   "outputs": [],
   "source": [
    "df = spark.read.json(\"/temp/json/2\")"
   ]
  },
  {
   "cell_type": "code",
   "execution_count": 10,
   "id": "332a404e-e535-4ee2-835b-a33333635c49",
   "metadata": {},
   "outputs": [],
   "source": [
    "from datetime import datetime\n",
    "import pytz\n",
    "\n",
    "date_now = datetime.now(pytz.timezone('America/Bogota')).strftime(\"%d%m%Y_%H%M%S\")\n",
    "path_write = f\"/datalake/silver/stagging/{date_now}\"\n",
    "\n",
    "df.write.parquet(path_write)"
   ]
  },
  {
   "cell_type": "code",
   "execution_count": null,
   "id": "9cbace01-e47d-4cc8-9a1c-1efff070a5b0",
   "metadata": {},
   "outputs": [],
   "source": []
  }
 ],
 "metadata": {
  "kernelspec": {
   "display_name": "Python 3 (ipykernel)",
   "language": "python",
   "name": "python3"
  },
  "language_info": {
   "codemirror_mode": {
    "name": "ipython",
    "version": 3
   },
   "file_extension": ".py",
   "mimetype": "text/x-python",
   "name": "python",
   "nbconvert_exporter": "python",
   "pygments_lexer": "ipython3",
   "version": "3.8.10"
  }
 },
 "nbformat": 4,
 "nbformat_minor": 5
}
